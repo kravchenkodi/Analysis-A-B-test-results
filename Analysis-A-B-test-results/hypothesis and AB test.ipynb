{
 "cells": [
  {
   "cell_type": "markdown",
   "metadata": {},
   "source": [
    "# Описание проекта \"Анализ результатов A/B-теста\"\n",
    "Совместно с отделом маркетинга крупного интернет-магазина был подготовлен список гипотез для увеличения выручки.\n",
    "\n",
    "Цель проекта - приоритизация гипотез (часть 1) и анализ результатов A/B-теста (часть 2).\n",
    "\n",
    "Исходные данные для первой части:\n",
    "- Hypothesis — описание гипотезы;\n",
    "- Reach — охват пользователей по 10-балльной шкале;\n",
    "- Impact — влияние на пользователей по 10-балльной шкале;\n",
    "- Confidence — уверенность в гипотезе по 10-балльной шкале;\n",
    "- Efforts — затраты ресурсов на проверку гипотезы по 10-балльной шкале.\n",
    "\n",
    "Исходные данные для второй части:\n",
    "- transactionId — идентификатор заказа;\n",
    "- visitorId — идентификатор пользователя, совершившего заказ;\n",
    "- date — дата, когда был совершён заказ;\n",
    "- revenue — выручка заказа;\n",
    "- group — группа A/B-теста, в которую попал заказ;\n",
    "- visitors — количество пользователей в указанную дату в указанной группе A/B-теста"
   ]
  },
  {
   "cell_type": "markdown",
   "metadata": {},
   "source": [
    "## Часть 1. Приоритизация гипотез."
   ]
  },
  {
   "cell_type": "code",
   "execution_count": 1,
   "metadata": {},
   "outputs": [],
   "source": [
    "import pandas as pd\n",
    "import datetime as dt\n",
    "import numpy as np\n",
    "import scipy.stats as stats\n",
    "import matplotlib.pyplot as plt\n",
    "from pandas.plotting import register_matplotlib_converters\n",
    "import warnings\n",
    "warnings.filterwarnings('ignore')\n",
    "register_matplotlib_converters()"
   ]
  },
  {
   "cell_type": "code",
   "execution_count": 2,
   "metadata": {},
   "outputs": [],
   "source": [
    "try:    \n",
    "    hypothesis = pd.read_csv('/datasets/hypothesis.csv')\n",
    "except: \n",
    "    hypothesis = pd.read_csv('D:\\\\practicum\\\\DA\\\\принятие решений в бизнесе\\\\hypothesis.csv')"
   ]
  },
  {
   "cell_type": "code",
   "execution_count": 3,
   "metadata": {},
   "outputs": [
    {
     "name": "stdout",
     "output_type": "stream",
     "text": [
      "<class 'pandas.core.frame.DataFrame'>\n",
      "RangeIndex: 9 entries, 0 to 8\n",
      "Data columns (total 5 columns):\n",
      " #   Column      Non-Null Count  Dtype \n",
      "---  ------      --------------  ----- \n",
      " 0   Hypothesis  9 non-null      object\n",
      " 1   Reach       9 non-null      int64 \n",
      " 2   Impact      9 non-null      int64 \n",
      " 3   Confidence  9 non-null      int64 \n",
      " 4   Efforts     9 non-null      int64 \n",
      "dtypes: int64(4), object(1)\n",
      "memory usage: 488.0+ bytes\n"
     ]
    }
   ],
   "source": [
    "hypothesis.info()"
   ]
  },
  {
   "cell_type": "code",
   "execution_count": 4,
   "metadata": {},
   "outputs": [
    {
     "data": {
      "text/html": [
       "<div>\n",
       "<style scoped>\n",
       "    .dataframe tbody tr th:only-of-type {\n",
       "        vertical-align: middle;\n",
       "    }\n",
       "\n",
       "    .dataframe tbody tr th {\n",
       "        vertical-align: top;\n",
       "    }\n",
       "\n",
       "    .dataframe thead th {\n",
       "        text-align: right;\n",
       "    }\n",
       "</style>\n",
       "<table border=\"1\" class=\"dataframe\">\n",
       "  <thead>\n",
       "    <tr style=\"text-align: right;\">\n",
       "      <th></th>\n",
       "      <th>Hypothesis</th>\n",
       "      <th>Reach</th>\n",
       "      <th>Impact</th>\n",
       "      <th>Confidence</th>\n",
       "      <th>Efforts</th>\n",
       "    </tr>\n",
       "  </thead>\n",
       "  <tbody>\n",
       "    <tr>\n",
       "      <th>0</th>\n",
       "      <td>Добавить два новых канала привлечения трафика, что позволит привлекать на 30% больше пользователей</td>\n",
       "      <td>3</td>\n",
       "      <td>10</td>\n",
       "      <td>8</td>\n",
       "      <td>6</td>\n",
       "    </tr>\n",
       "    <tr>\n",
       "      <th>1</th>\n",
       "      <td>Запустить собственную службу доставки, что сократит срок доставки заказов</td>\n",
       "      <td>2</td>\n",
       "      <td>5</td>\n",
       "      <td>4</td>\n",
       "      <td>10</td>\n",
       "    </tr>\n",
       "    <tr>\n",
       "      <th>2</th>\n",
       "      <td>Добавить блоки рекомендаций товаров на сайт интернет магазина, чтобы повысить конверсию и средний чек заказа</td>\n",
       "      <td>8</td>\n",
       "      <td>3</td>\n",
       "      <td>7</td>\n",
       "      <td>3</td>\n",
       "    </tr>\n",
       "    <tr>\n",
       "      <th>3</th>\n",
       "      <td>Изменить структура категорий, что увеличит конверсию, т.к. пользователи быстрее найдут нужный товар</td>\n",
       "      <td>8</td>\n",
       "      <td>3</td>\n",
       "      <td>3</td>\n",
       "      <td>8</td>\n",
       "    </tr>\n",
       "    <tr>\n",
       "      <th>4</th>\n",
       "      <td>Изменить цвет фона главной страницы, чтобы увеличить вовлеченность пользователей</td>\n",
       "      <td>3</td>\n",
       "      <td>1</td>\n",
       "      <td>1</td>\n",
       "      <td>1</td>\n",
       "    </tr>\n",
       "    <tr>\n",
       "      <th>5</th>\n",
       "      <td>Добавить страницу отзывов клиентов о магазине, что позволит увеличить количество заказов</td>\n",
       "      <td>3</td>\n",
       "      <td>2</td>\n",
       "      <td>2</td>\n",
       "      <td>3</td>\n",
       "    </tr>\n",
       "    <tr>\n",
       "      <th>6</th>\n",
       "      <td>Показать на главной странице баннеры с актуальными акциями и распродажами, чтобы увеличить конверсию</td>\n",
       "      <td>5</td>\n",
       "      <td>3</td>\n",
       "      <td>8</td>\n",
       "      <td>3</td>\n",
       "    </tr>\n",
       "    <tr>\n",
       "      <th>7</th>\n",
       "      <td>Добавить форму подписки на все основные страницы, чтобы собрать базу клиентов для email-рассылок</td>\n",
       "      <td>10</td>\n",
       "      <td>7</td>\n",
       "      <td>8</td>\n",
       "      <td>5</td>\n",
       "    </tr>\n",
       "    <tr>\n",
       "      <th>8</th>\n",
       "      <td>Запустить акцию, дающую скидку на товар в день рождения</td>\n",
       "      <td>1</td>\n",
       "      <td>9</td>\n",
       "      <td>9</td>\n",
       "      <td>5</td>\n",
       "    </tr>\n",
       "  </tbody>\n",
       "</table>\n",
       "</div>"
      ],
      "text/plain": [
       "                                                                                                     Hypothesis  \\\n",
       "0            Добавить два новых канала привлечения трафика, что позволит привлекать на 30% больше пользователей   \n",
       "1                                     Запустить собственную службу доставки, что сократит срок доставки заказов   \n",
       "2  Добавить блоки рекомендаций товаров на сайт интернет магазина, чтобы повысить конверсию и средний чек заказа   \n",
       "3           Изменить структура категорий, что увеличит конверсию, т.к. пользователи быстрее найдут нужный товар   \n",
       "4                              Изменить цвет фона главной страницы, чтобы увеличить вовлеченность пользователей   \n",
       "5                      Добавить страницу отзывов клиентов о магазине, что позволит увеличить количество заказов   \n",
       "6          Показать на главной странице баннеры с актуальными акциями и распродажами, чтобы увеличить конверсию   \n",
       "7              Добавить форму подписки на все основные страницы, чтобы собрать базу клиентов для email-рассылок   \n",
       "8                                                       Запустить акцию, дающую скидку на товар в день рождения   \n",
       "\n",
       "   Reach  Impact  Confidence  Efforts  \n",
       "0      3      10           8        6  \n",
       "1      2       5           4       10  \n",
       "2      8       3           7        3  \n",
       "3      8       3           3        8  \n",
       "4      3       1           1        1  \n",
       "5      3       2           2        3  \n",
       "6      5       3           8        3  \n",
       "7     10       7           8        5  \n",
       "8      1       9           9        5  "
      ]
     },
     "execution_count": 4,
     "metadata": {},
     "output_type": "execute_result"
    }
   ],
   "source": [
    "pd.set_option('display.max_colwidth', None) \n",
    "hypothesis"
   ]
  },
  {
   "cell_type": "code",
   "execution_count": 5,
   "metadata": {},
   "outputs": [],
   "source": [
    "hypothesis.columns = hypothesis.columns.str.lower()"
   ]
  },
  {
   "cell_type": "markdown",
   "metadata": {},
   "source": [
    "### метод ICE"
   ]
  },
  {
   "cell_type": "code",
   "execution_count": 6,
   "metadata": {},
   "outputs": [],
   "source": [
    "# Применим метод ICE для приоритизации гипотез.\n",
    "hypothesis['ICE'] = hypothesis['impact'] * hypothesis['confidence'] / hypothesis['efforts'] "
   ]
  },
  {
   "cell_type": "code",
   "execution_count": 7,
   "metadata": {},
   "outputs": [
    {
     "data": {
      "text/html": [
       "<div>\n",
       "<style scoped>\n",
       "    .dataframe tbody tr th:only-of-type {\n",
       "        vertical-align: middle;\n",
       "    }\n",
       "\n",
       "    .dataframe tbody tr th {\n",
       "        vertical-align: top;\n",
       "    }\n",
       "\n",
       "    .dataframe thead th {\n",
       "        text-align: right;\n",
       "    }\n",
       "</style>\n",
       "<table border=\"1\" class=\"dataframe\">\n",
       "  <thead>\n",
       "    <tr style=\"text-align: right;\">\n",
       "      <th></th>\n",
       "      <th>hypothesis</th>\n",
       "      <th>ICE</th>\n",
       "    </tr>\n",
       "  </thead>\n",
       "  <tbody>\n",
       "    <tr>\n",
       "      <th>8</th>\n",
       "      <td>Запустить акцию, дающую скидку на товар в день рождения</td>\n",
       "      <td>16.20</td>\n",
       "    </tr>\n",
       "    <tr>\n",
       "      <th>0</th>\n",
       "      <td>Добавить два новых канала привлечения трафика, что позволит привлекать на 30% больше пользователей</td>\n",
       "      <td>13.33</td>\n",
       "    </tr>\n",
       "    <tr>\n",
       "      <th>7</th>\n",
       "      <td>Добавить форму подписки на все основные страницы, чтобы собрать базу клиентов для email-рассылок</td>\n",
       "      <td>11.20</td>\n",
       "    </tr>\n",
       "    <tr>\n",
       "      <th>6</th>\n",
       "      <td>Показать на главной странице баннеры с актуальными акциями и распродажами, чтобы увеличить конверсию</td>\n",
       "      <td>8.00</td>\n",
       "    </tr>\n",
       "    <tr>\n",
       "      <th>2</th>\n",
       "      <td>Добавить блоки рекомендаций товаров на сайт интернет магазина, чтобы повысить конверсию и средний чек заказа</td>\n",
       "      <td>7.00</td>\n",
       "    </tr>\n",
       "    <tr>\n",
       "      <th>1</th>\n",
       "      <td>Запустить собственную службу доставки, что сократит срок доставки заказов</td>\n",
       "      <td>2.00</td>\n",
       "    </tr>\n",
       "    <tr>\n",
       "      <th>5</th>\n",
       "      <td>Добавить страницу отзывов клиентов о магазине, что позволит увеличить количество заказов</td>\n",
       "      <td>1.33</td>\n",
       "    </tr>\n",
       "    <tr>\n",
       "      <th>3</th>\n",
       "      <td>Изменить структура категорий, что увеличит конверсию, т.к. пользователи быстрее найдут нужный товар</td>\n",
       "      <td>1.12</td>\n",
       "    </tr>\n",
       "    <tr>\n",
       "      <th>4</th>\n",
       "      <td>Изменить цвет фона главной страницы, чтобы увеличить вовлеченность пользователей</td>\n",
       "      <td>1.00</td>\n",
       "    </tr>\n",
       "  </tbody>\n",
       "</table>\n",
       "</div>"
      ],
      "text/plain": [
       "                                                                                                     hypothesis  \\\n",
       "8                                                       Запустить акцию, дающую скидку на товар в день рождения   \n",
       "0            Добавить два новых канала привлечения трафика, что позволит привлекать на 30% больше пользователей   \n",
       "7              Добавить форму подписки на все основные страницы, чтобы собрать базу клиентов для email-рассылок   \n",
       "6          Показать на главной странице баннеры с актуальными акциями и распродажами, чтобы увеличить конверсию   \n",
       "2  Добавить блоки рекомендаций товаров на сайт интернет магазина, чтобы повысить конверсию и средний чек заказа   \n",
       "1                                     Запустить собственную службу доставки, что сократит срок доставки заказов   \n",
       "5                      Добавить страницу отзывов клиентов о магазине, что позволит увеличить количество заказов   \n",
       "3           Изменить структура категорий, что увеличит конверсию, т.к. пользователи быстрее найдут нужный товар   \n",
       "4                              Изменить цвет фона главной страницы, чтобы увеличить вовлеченность пользователей   \n",
       "\n",
       "     ICE  \n",
       "8  16.20  \n",
       "0  13.33  \n",
       "7  11.20  \n",
       "6   8.00  \n",
       "2   7.00  \n",
       "1   2.00  \n",
       "5   1.33  \n",
       "3   1.12  \n",
       "4   1.00  "
      ]
     },
     "execution_count": 7,
     "metadata": {},
     "output_type": "execute_result"
    }
   ],
   "source": [
    "hypothesis['ICE'] = round(hypothesis['ICE'], 2)\n",
    "hypothesis.loc[:, ['hypothesis','ICE']].sort_values('ICE', ascending=False)"
   ]
  },
  {
   "cell_type": "markdown",
   "metadata": {},
   "source": [
    "Наиболее перспективные гипотезы по ICE:\n",
    "- Запустить акцию, дающую скидку на товар в день рождения;\n",
    "- Добавить два новых канала привлечения трафика, что позволит привлекать на 30% больше пользователей;\n",
    "- Добавить форму подписки на все основные страницы, чтобы собрать базу клиентов для email-рассылок;\n",
    "- Показать на главной странице баннеры с актуальными акциями и распродажами, чтобы увеличить конверсию;\n",
    "- Добавить блоки рекомендаций товаров на сайт интернет магазина, чтобы повысить конверсию и средний чек заказа."
   ]
  },
  {
   "cell_type": "markdown",
   "metadata": {},
   "source": [
    "### метод RICE."
   ]
  },
  {
   "cell_type": "code",
   "execution_count": 8,
   "metadata": {},
   "outputs": [
    {
     "data": {
      "text/html": [
       "<div>\n",
       "<style scoped>\n",
       "    .dataframe tbody tr th:only-of-type {\n",
       "        vertical-align: middle;\n",
       "    }\n",
       "\n",
       "    .dataframe tbody tr th {\n",
       "        vertical-align: top;\n",
       "    }\n",
       "\n",
       "    .dataframe thead th {\n",
       "        text-align: right;\n",
       "    }\n",
       "</style>\n",
       "<table border=\"1\" class=\"dataframe\">\n",
       "  <thead>\n",
       "    <tr style=\"text-align: right;\">\n",
       "      <th></th>\n",
       "      <th>hypothesis</th>\n",
       "      <th>RICE</th>\n",
       "    </tr>\n",
       "  </thead>\n",
       "  <tbody>\n",
       "    <tr>\n",
       "      <th>7</th>\n",
       "      <td>Добавить форму подписки на все основные страницы, чтобы собрать базу клиентов для email-рассылок</td>\n",
       "      <td>112.0</td>\n",
       "    </tr>\n",
       "    <tr>\n",
       "      <th>2</th>\n",
       "      <td>Добавить блоки рекомендаций товаров на сайт интернет магазина, чтобы повысить конверсию и средний чек заказа</td>\n",
       "      <td>56.0</td>\n",
       "    </tr>\n",
       "    <tr>\n",
       "      <th>0</th>\n",
       "      <td>Добавить два новых канала привлечения трафика, что позволит привлекать на 30% больше пользователей</td>\n",
       "      <td>40.0</td>\n",
       "    </tr>\n",
       "    <tr>\n",
       "      <th>6</th>\n",
       "      <td>Показать на главной странице баннеры с актуальными акциями и распродажами, чтобы увеличить конверсию</td>\n",
       "      <td>40.0</td>\n",
       "    </tr>\n",
       "    <tr>\n",
       "      <th>8</th>\n",
       "      <td>Запустить акцию, дающую скидку на товар в день рождения</td>\n",
       "      <td>16.2</td>\n",
       "    </tr>\n",
       "    <tr>\n",
       "      <th>3</th>\n",
       "      <td>Изменить структура категорий, что увеличит конверсию, т.к. пользователи быстрее найдут нужный товар</td>\n",
       "      <td>9.0</td>\n",
       "    </tr>\n",
       "    <tr>\n",
       "      <th>1</th>\n",
       "      <td>Запустить собственную службу доставки, что сократит срок доставки заказов</td>\n",
       "      <td>4.0</td>\n",
       "    </tr>\n",
       "    <tr>\n",
       "      <th>5</th>\n",
       "      <td>Добавить страницу отзывов клиентов о магазине, что позволит увеличить количество заказов</td>\n",
       "      <td>4.0</td>\n",
       "    </tr>\n",
       "    <tr>\n",
       "      <th>4</th>\n",
       "      <td>Изменить цвет фона главной страницы, чтобы увеличить вовлеченность пользователей</td>\n",
       "      <td>3.0</td>\n",
       "    </tr>\n",
       "  </tbody>\n",
       "</table>\n",
       "</div>"
      ],
      "text/plain": [
       "                                                                                                     hypothesis  \\\n",
       "7              Добавить форму подписки на все основные страницы, чтобы собрать базу клиентов для email-рассылок   \n",
       "2  Добавить блоки рекомендаций товаров на сайт интернет магазина, чтобы повысить конверсию и средний чек заказа   \n",
       "0            Добавить два новых канала привлечения трафика, что позволит привлекать на 30% больше пользователей   \n",
       "6          Показать на главной странице баннеры с актуальными акциями и распродажами, чтобы увеличить конверсию   \n",
       "8                                                       Запустить акцию, дающую скидку на товар в день рождения   \n",
       "3           Изменить структура категорий, что увеличит конверсию, т.к. пользователи быстрее найдут нужный товар   \n",
       "1                                     Запустить собственную службу доставки, что сократит срок доставки заказов   \n",
       "5                      Добавить страницу отзывов клиентов о магазине, что позволит увеличить количество заказов   \n",
       "4                              Изменить цвет фона главной страницы, чтобы увеличить вовлеченность пользователей   \n",
       "\n",
       "    RICE  \n",
       "7  112.0  \n",
       "2   56.0  \n",
       "0   40.0  \n",
       "6   40.0  \n",
       "8   16.2  \n",
       "3    9.0  \n",
       "1    4.0  \n",
       "5    4.0  \n",
       "4    3.0  "
      ]
     },
     "execution_count": 8,
     "metadata": {},
     "output_type": "execute_result"
    }
   ],
   "source": [
    "# Применим метод RICE для приоритизации гипотез.\n",
    "hypothesis['RICE'] = hypothesis['reach'] * hypothesis['impact'] * hypothesis['confidence'] / hypothesis['efforts']\n",
    "hypothesis.loc[:, ['hypothesis','RICE']].sort_values('RICE', ascending=False)"
   ]
  },
  {
   "cell_type": "markdown",
   "metadata": {},
   "source": [
    "Наиболее перспективные гипотезы по RICE:\n",
    "- Добавить форму подписки на все основные страницы, чтобы собрать базу клиентов для email-рассылок;\n",
    "- Добавить блоки рекомендаций товаров на сайт интернет магазина, чтобы повысить конверсию и средний чек заказа;\n",
    "- Добавить два новых канала привлечения трафика, что позволит привлекать на 30% больше пользователей;\n",
    "- Показать на главной странице баннеры с актуальными акциями и распродажами, чтобы увеличить конверсию;\n",
    "- Запустить акцию, дающую скидку на товар в день рождения."
   ]
  },
  {
   "cell_type": "code",
   "execution_count": 9,
   "metadata": {},
   "outputs": [
    {
     "data": {
      "text/html": [
       "<style type=\"text/css\">\n",
       "#T_81014_row0_col1 {\n",
       "  background-color: #86b0d3;\n",
       "  color: #000000;\n",
       "}\n",
       "#T_81014_row0_col2, #T_81014_row4_col1 {\n",
       "  background-color: #023858;\n",
       "  color: #f1f1f1;\n",
       "}\n",
       "#T_81014_row1_col1, #T_81014_row4_col2 {\n",
       "  background-color: #fff7fb;\n",
       "  color: #000000;\n",
       "}\n",
       "#T_81014_row1_col2 {\n",
       "  background-color: #96b6d7;\n",
       "  color: #000000;\n",
       "}\n",
       "#T_81014_row2_col1 {\n",
       "  background-color: #1c7fb8;\n",
       "  color: #f1f1f1;\n",
       "}\n",
       "#T_81014_row2_col2, #T_81014_row3_col2 {\n",
       "  background-color: #d1d2e6;\n",
       "  color: #000000;\n",
       "}\n",
       "#T_81014_row3_col1 {\n",
       "  background-color: #efe9f3;\n",
       "  color: #000000;\n",
       "}\n",
       "</style>\n",
       "<table id=\"T_81014_\">\n",
       "  <thead>\n",
       "    <tr>\n",
       "      <th class=\"blank level0\" >&nbsp;</th>\n",
       "      <th class=\"col_heading level0 col0\" >hypothesis</th>\n",
       "      <th class=\"col_heading level0 col1\" >ICE</th>\n",
       "      <th class=\"col_heading level0 col2\" >RICE</th>\n",
       "    </tr>\n",
       "  </thead>\n",
       "  <tbody>\n",
       "    <tr>\n",
       "      <th id=\"T_81014_level0_row0\" class=\"row_heading level0 row0\" >7</th>\n",
       "      <td id=\"T_81014_row0_col0\" class=\"data row0 col0\" >Добавить форму подписки на все основные страницы, чтобы собрать базу клиентов для email-рассылок</td>\n",
       "      <td id=\"T_81014_row0_col1\" class=\"data row0 col1\" >11.200000</td>\n",
       "      <td id=\"T_81014_row0_col2\" class=\"data row0 col2\" >112.000000</td>\n",
       "    </tr>\n",
       "    <tr>\n",
       "      <th id=\"T_81014_level0_row1\" class=\"row_heading level0 row1\" >2</th>\n",
       "      <td id=\"T_81014_row1_col0\" class=\"data row1 col0\" >Добавить блоки рекомендаций товаров на сайт интернет магазина, чтобы повысить конверсию и средний чек заказа</td>\n",
       "      <td id=\"T_81014_row1_col1\" class=\"data row1 col1\" >7.000000</td>\n",
       "      <td id=\"T_81014_row1_col2\" class=\"data row1 col2\" >56.000000</td>\n",
       "    </tr>\n",
       "    <tr>\n",
       "      <th id=\"T_81014_level0_row2\" class=\"row_heading level0 row2\" >0</th>\n",
       "      <td id=\"T_81014_row2_col0\" class=\"data row2 col0\" >Добавить два новых канала привлечения трафика, что позволит привлекать на 30% больше пользователей</td>\n",
       "      <td id=\"T_81014_row2_col1\" class=\"data row2 col1\" >13.330000</td>\n",
       "      <td id=\"T_81014_row2_col2\" class=\"data row2 col2\" >40.000000</td>\n",
       "    </tr>\n",
       "    <tr>\n",
       "      <th id=\"T_81014_level0_row3\" class=\"row_heading level0 row3\" >6</th>\n",
       "      <td id=\"T_81014_row3_col0\" class=\"data row3 col0\" >Показать на главной странице баннеры с актуальными акциями и распродажами, чтобы увеличить конверсию</td>\n",
       "      <td id=\"T_81014_row3_col1\" class=\"data row3 col1\" >8.000000</td>\n",
       "      <td id=\"T_81014_row3_col2\" class=\"data row3 col2\" >40.000000</td>\n",
       "    </tr>\n",
       "    <tr>\n",
       "      <th id=\"T_81014_level0_row4\" class=\"row_heading level0 row4\" >8</th>\n",
       "      <td id=\"T_81014_row4_col0\" class=\"data row4 col0\" >Запустить акцию, дающую скидку на товар в день рождения</td>\n",
       "      <td id=\"T_81014_row4_col1\" class=\"data row4 col1\" >16.200000</td>\n",
       "      <td id=\"T_81014_row4_col2\" class=\"data row4 col2\" >16.200000</td>\n",
       "    </tr>\n",
       "  </tbody>\n",
       "</table>\n"
      ],
      "text/plain": [
       "<pandas.io.formats.style.Styler at 0x165207e9eb0>"
      ]
     },
     "execution_count": 9,
     "metadata": {},
     "output_type": "execute_result"
    }
   ],
   "source": [
    "best_hypothesis = hypothesis.sort_values('RICE', ascending=False).head()\n",
    "best_hypothesis.loc[:, ['hypothesis', 'ICE', 'RICE']].style.background_gradient(axis=0)  "
   ]
  },
  {
   "cell_type": "markdown",
   "metadata": {},
   "source": [
    "Сам перечень перспективных гипотез остался неизменным, однако, порядок приоритизации при применении по RICE поменялся в зависимости от того, как много пользователей затронет гипотеза (параметр Reach).\n",
    "Например, гипотеза о запуске акции, дающей скидку на товар в день рождения, имеющая первый приоритет по ICE, затронет малое количество пользователей (только именинников), и значение Reach равно 1, в то время как запуск формы подписки на все основные страницы имеет значение параметра Reach 10. \n",
    "При этом для новой формы подписки на все основные страницы параметр Impact (сила влияния изменения метрики на пользователей) не сильно меньше, чем для гипотезы со скидкой в день рождения, а параметр Efforts одинаков.\n",
    "Таким образом, при применении метода RICE, охват оказывает большое значение"
   ]
  },
  {
   "cell_type": "markdown",
   "metadata": {},
   "source": [
    "## Часть 2. Анализ A/B-теста"
   ]
  },
  {
   "cell_type": "markdown",
   "metadata": {},
   "source": [
    "### Обработка данных"
   ]
  },
  {
   "cell_type": "markdown",
   "metadata": {},
   "source": [
    "Рассмотрим полученные результаты A/B теста"
   ]
  },
  {
   "cell_type": "code",
   "execution_count": 10,
   "metadata": {},
   "outputs": [],
   "source": [
    "try:    \n",
    "    orders = pd.read_csv('/datasets/orders.csv')\n",
    "except: \n",
    "    orders = pd.read_csv('D:\\\\practicum\\\\DA\\\\принятие решений в бизнесе\\\\orders.csv')"
   ]
  },
  {
   "cell_type": "code",
   "execution_count": 11,
   "metadata": {},
   "outputs": [
    {
     "data": {
      "text/html": [
       "<div>\n",
       "<style scoped>\n",
       "    .dataframe tbody tr th:only-of-type {\n",
       "        vertical-align: middle;\n",
       "    }\n",
       "\n",
       "    .dataframe tbody tr th {\n",
       "        vertical-align: top;\n",
       "    }\n",
       "\n",
       "    .dataframe thead th {\n",
       "        text-align: right;\n",
       "    }\n",
       "</style>\n",
       "<table border=\"1\" class=\"dataframe\">\n",
       "  <thead>\n",
       "    <tr style=\"text-align: right;\">\n",
       "      <th></th>\n",
       "      <th>transactionId</th>\n",
       "      <th>visitorId</th>\n",
       "      <th>date</th>\n",
       "      <th>revenue</th>\n",
       "      <th>group</th>\n",
       "    </tr>\n",
       "  </thead>\n",
       "  <tbody>\n",
       "    <tr>\n",
       "      <th>0</th>\n",
       "      <td>3667963787</td>\n",
       "      <td>3312258926</td>\n",
       "      <td>2019-08-15</td>\n",
       "      <td>1650</td>\n",
       "      <td>B</td>\n",
       "    </tr>\n",
       "    <tr>\n",
       "      <th>1</th>\n",
       "      <td>2804400009</td>\n",
       "      <td>3642806036</td>\n",
       "      <td>2019-08-15</td>\n",
       "      <td>730</td>\n",
       "      <td>B</td>\n",
       "    </tr>\n",
       "    <tr>\n",
       "      <th>2</th>\n",
       "      <td>2961555356</td>\n",
       "      <td>4069496402</td>\n",
       "      <td>2019-08-15</td>\n",
       "      <td>400</td>\n",
       "      <td>A</td>\n",
       "    </tr>\n",
       "    <tr>\n",
       "      <th>3</th>\n",
       "      <td>3797467345</td>\n",
       "      <td>1196621759</td>\n",
       "      <td>2019-08-15</td>\n",
       "      <td>9759</td>\n",
       "      <td>B</td>\n",
       "    </tr>\n",
       "    <tr>\n",
       "      <th>4</th>\n",
       "      <td>2282983706</td>\n",
       "      <td>2322279887</td>\n",
       "      <td>2019-08-15</td>\n",
       "      <td>2308</td>\n",
       "      <td>B</td>\n",
       "    </tr>\n",
       "  </tbody>\n",
       "</table>\n",
       "</div>"
      ],
      "text/plain": [
       "   transactionId   visitorId        date  revenue group\n",
       "0     3667963787  3312258926  2019-08-15     1650     B\n",
       "1     2804400009  3642806036  2019-08-15      730     B\n",
       "2     2961555356  4069496402  2019-08-15      400     A\n",
       "3     3797467345  1196621759  2019-08-15     9759     B\n",
       "4     2282983706  2322279887  2019-08-15     2308     B"
      ]
     },
     "execution_count": 11,
     "metadata": {},
     "output_type": "execute_result"
    }
   ],
   "source": [
    "orders.head()"
   ]
  },
  {
   "cell_type": "code",
   "execution_count": 12,
   "metadata": {},
   "outputs": [],
   "source": [
    "orders = orders.rename(columns={'transactionId': 'transaction_id',\n",
    "                      'visitorId': 'visitor_id'})"
   ]
  },
  {
   "cell_type": "code",
   "execution_count": 13,
   "metadata": {},
   "outputs": [
    {
     "name": "stdout",
     "output_type": "stream",
     "text": [
      "<class 'pandas.core.frame.DataFrame'>\n",
      "RangeIndex: 1197 entries, 0 to 1196\n",
      "Data columns (total 5 columns):\n",
      " #   Column          Non-Null Count  Dtype \n",
      "---  ------          --------------  ----- \n",
      " 0   transaction_id  1197 non-null   int64 \n",
      " 1   visitor_id      1197 non-null   int64 \n",
      " 2   date            1197 non-null   object\n",
      " 3   revenue         1197 non-null   int64 \n",
      " 4   group           1197 non-null   object\n",
      "dtypes: int64(3), object(2)\n",
      "memory usage: 46.9+ KB\n"
     ]
    }
   ],
   "source": [
    "orders.info()"
   ]
  },
  {
   "cell_type": "code",
   "execution_count": 14,
   "metadata": {},
   "outputs": [
    {
     "data": {
      "text/plain": [
       "0"
      ]
     },
     "execution_count": 14,
     "metadata": {},
     "output_type": "execute_result"
    }
   ],
   "source": [
    "orders.duplicated().sum()"
   ]
  },
  {
   "cell_type": "code",
   "execution_count": 15,
   "metadata": {},
   "outputs": [],
   "source": [
    "orders['date'] = pd.to_datetime(orders['date'])"
   ]
  },
  {
   "cell_type": "code",
   "execution_count": 16,
   "metadata": {},
   "outputs": [
    {
     "name": "stdout",
     "output_type": "stream",
     "text": [
      "<class 'pandas.core.frame.DataFrame'>\n",
      "RangeIndex: 1197 entries, 0 to 1196\n",
      "Data columns (total 5 columns):\n",
      " #   Column          Non-Null Count  Dtype         \n",
      "---  ------          --------------  -----         \n",
      " 0   transaction_id  1197 non-null   int64         \n",
      " 1   visitor_id      1197 non-null   int64         \n",
      " 2   date            1197 non-null   datetime64[ns]\n",
      " 3   revenue         1197 non-null   int64         \n",
      " 4   group           1197 non-null   object        \n",
      "dtypes: datetime64[ns](1), int64(3), object(1)\n",
      "memory usage: 46.9+ KB\n"
     ]
    }
   ],
   "source": [
    "orders.info()"
   ]
  },
  {
   "cell_type": "code",
   "execution_count": 17,
   "metadata": {},
   "outputs": [
    {
     "data": {
      "text/plain": [
       "58"
      ]
     },
     "execution_count": 17,
     "metadata": {},
     "output_type": "execute_result"
    }
   ],
   "source": [
    "# проверим есть ли посетители, попавшие в обе группы\n",
    "orders.groupby('visitor_id').agg({'group': 'nunique'}).reset_index().query('group > 1')['visitor_id'].nunique()"
   ]
  },
  {
   "cell_type": "code",
   "execution_count": 18,
   "metadata": {},
   "outputs": [
    {
     "data": {
      "text/plain": [
       "array([   8300375,  199603092,  232979603,  237748145,  276558944,\n",
       "        351125977,  393266494,  457167155,  471551937,  477780734,\n",
       "        818047933,  963407295, 1230306981, 1294878855, 1316129916,\n",
       "       1333886533, 1404934699, 1602967004, 1614305549, 1648269707,\n",
       "       1668030113, 1738359350, 1801183820, 1959144690, 2038680547,\n",
       "       2044997962, 2378935119, 2458001652, 2579882178, 2587333274,\n",
       "       2600415354, 2654030115, 2686716486, 2712142231, 2716752286,\n",
       "       2780786433, 2927087541, 2949041841, 2954449915, 3062433592,\n",
       "       3202540741, 3234906277, 3656415546, 3717692402, 3766097110,\n",
       "       3803269165, 3891541246, 3941795274, 3951559397, 3957174400,\n",
       "       3963646447, 3972127743, 3984495233, 4069496402, 4120364173,\n",
       "       4186807279, 4256040402, 4266935830], dtype=int64)"
      ]
     },
     "execution_count": 18,
     "metadata": {},
     "output_type": "execute_result"
    }
   ],
   "source": [
    "orders.groupby('visitor_id').agg({'group': 'nunique'}).reset_index().query('group > 1')['visitor_id'].unique()"
   ]
  },
  {
   "cell_type": "markdown",
   "metadata": {},
   "source": [
    "На практике пользователи должны быть поделены по группам так, что они были только в одной группе и оставались в этой группе до конца теста. С учетом наличия в данных пользователей, попавших в обе группы, вопрос к успешности A/A-теста.\n",
    "\n",
    "Если пользователь видит разные версии продукта (и с изменением, и без) в ходе одного исследования, неизвестно, какая именно повлияла на его решения и на метрики в конце теста, поэтому их необходимо исключить"
   ]
  },
  {
   "cell_type": "code",
   "execution_count": 19,
   "metadata": {},
   "outputs": [
    {
     "data": {
      "text/plain": [
       "[8300375,\n",
       " 199603092,\n",
       " 232979603,\n",
       " 237748145,\n",
       " 276558944,\n",
       " 351125977,\n",
       " 393266494,\n",
       " 457167155,\n",
       " 471551937,\n",
       " 477780734,\n",
       " 818047933,\n",
       " 963407295,\n",
       " 1230306981,\n",
       " 1294878855,\n",
       " 1316129916,\n",
       " 1333886533,\n",
       " 1404934699,\n",
       " 1602967004,\n",
       " 1614305549,\n",
       " 1648269707,\n",
       " 1668030113,\n",
       " 1738359350,\n",
       " 1801183820,\n",
       " 1959144690,\n",
       " 2038680547,\n",
       " 2044997962,\n",
       " 2378935119,\n",
       " 2458001652,\n",
       " 2579882178,\n",
       " 2587333274,\n",
       " 2600415354,\n",
       " 2654030115,\n",
       " 2686716486,\n",
       " 2712142231,\n",
       " 2716752286,\n",
       " 2780786433,\n",
       " 2927087541,\n",
       " 2949041841,\n",
       " 2954449915,\n",
       " 3062433592,\n",
       " 3202540741,\n",
       " 3234906277,\n",
       " 3656415546,\n",
       " 3717692402,\n",
       " 3766097110,\n",
       " 3803269165,\n",
       " 3891541246,\n",
       " 3941795274,\n",
       " 3951559397,\n",
       " 3957174400,\n",
       " 3963646447,\n",
       " 3972127743,\n",
       " 3984495233,\n",
       " 4069496402,\n",
       " 4120364173,\n",
       " 4186807279,\n",
       " 4256040402,\n",
       " 4266935830]"
      ]
     },
     "execution_count": 19,
     "metadata": {},
     "output_type": "execute_result"
    }
   ],
   "source": [
    "duble_group_users = (\n",
    "    orders.groupby('visitor_id')\n",
    "    .agg({'group': 'nunique'})\n",
    "    .reset_index().query('group > 1')['visitor_id']\n",
    "    .unique()\n",
    "    .tolist()\n",
    ")\n",
    "duble_group_users"
   ]
  },
  {
   "cell_type": "code",
   "execution_count": 20,
   "metadata": {},
   "outputs": [
    {
     "data": {
      "text/html": [
       "<div>\n",
       "<style scoped>\n",
       "    .dataframe tbody tr th:only-of-type {\n",
       "        vertical-align: middle;\n",
       "    }\n",
       "\n",
       "    .dataframe tbody tr th {\n",
       "        vertical-align: top;\n",
       "    }\n",
       "\n",
       "    .dataframe thead th {\n",
       "        text-align: right;\n",
       "    }\n",
       "</style>\n",
       "<table border=\"1\" class=\"dataframe\">\n",
       "  <thead>\n",
       "    <tr style=\"text-align: right;\">\n",
       "      <th></th>\n",
       "      <th>transaction_id</th>\n",
       "      <th>visitor_id</th>\n",
       "      <th>date</th>\n",
       "      <th>revenue</th>\n",
       "      <th>group</th>\n",
       "    </tr>\n",
       "  </thead>\n",
       "  <tbody>\n",
       "    <tr>\n",
       "      <th>2</th>\n",
       "      <td>2961555356</td>\n",
       "      <td>4069496402</td>\n",
       "      <td>2019-08-15</td>\n",
       "      <td>400</td>\n",
       "      <td>A</td>\n",
       "    </tr>\n",
       "    <tr>\n",
       "      <th>20</th>\n",
       "      <td>2904772834</td>\n",
       "      <td>963407295</td>\n",
       "      <td>2019-08-15</td>\n",
       "      <td>300</td>\n",
       "      <td>B</td>\n",
       "    </tr>\n",
       "    <tr>\n",
       "      <th>23</th>\n",
       "      <td>4252514150</td>\n",
       "      <td>351125977</td>\n",
       "      <td>2019-08-15</td>\n",
       "      <td>15185</td>\n",
       "      <td>B</td>\n",
       "    </tr>\n",
       "    <tr>\n",
       "      <th>24</th>\n",
       "      <td>1162046357</td>\n",
       "      <td>3234906277</td>\n",
       "      <td>2019-08-15</td>\n",
       "      <td>7555</td>\n",
       "      <td>B</td>\n",
       "    </tr>\n",
       "    <tr>\n",
       "      <th>26</th>\n",
       "      <td>2223239646</td>\n",
       "      <td>199603092</td>\n",
       "      <td>2019-08-15</td>\n",
       "      <td>3488</td>\n",
       "      <td>A</td>\n",
       "    </tr>\n",
       "    <tr>\n",
       "      <th>...</th>\n",
       "      <td>...</td>\n",
       "      <td>...</td>\n",
       "      <td>...</td>\n",
       "      <td>...</td>\n",
       "      <td>...</td>\n",
       "    </tr>\n",
       "    <tr>\n",
       "      <th>1182</th>\n",
       "      <td>2682156369</td>\n",
       "      <td>1668030113</td>\n",
       "      <td>2019-08-14</td>\n",
       "      <td>1290</td>\n",
       "      <td>B</td>\n",
       "    </tr>\n",
       "    <tr>\n",
       "      <th>1183</th>\n",
       "      <td>1458356232</td>\n",
       "      <td>963407295</td>\n",
       "      <td>2019-08-14</td>\n",
       "      <td>4940</td>\n",
       "      <td>A</td>\n",
       "    </tr>\n",
       "    <tr>\n",
       "      <th>1184</th>\n",
       "      <td>1329499668</td>\n",
       "      <td>2949041841</td>\n",
       "      <td>2019-08-14</td>\n",
       "      <td>10380</td>\n",
       "      <td>B</td>\n",
       "    </tr>\n",
       "    <tr>\n",
       "      <th>1189</th>\n",
       "      <td>4082620617</td>\n",
       "      <td>393266494</td>\n",
       "      <td>2019-08-14</td>\n",
       "      <td>31550</td>\n",
       "      <td>B</td>\n",
       "    </tr>\n",
       "    <tr>\n",
       "      <th>1195</th>\n",
       "      <td>1947021204</td>\n",
       "      <td>1614305549</td>\n",
       "      <td>2019-08-14</td>\n",
       "      <td>100</td>\n",
       "      <td>A</td>\n",
       "    </tr>\n",
       "  </tbody>\n",
       "</table>\n",
       "<p>181 rows × 5 columns</p>\n",
       "</div>"
      ],
      "text/plain": [
       "      transaction_id  visitor_id       date  revenue group\n",
       "2         2961555356  4069496402 2019-08-15      400     A\n",
       "20        2904772834   963407295 2019-08-15      300     B\n",
       "23        4252514150   351125977 2019-08-15    15185     B\n",
       "24        1162046357  3234906277 2019-08-15     7555     B\n",
       "26        2223239646   199603092 2019-08-15     3488     A\n",
       "...              ...         ...        ...      ...   ...\n",
       "1182      2682156369  1668030113 2019-08-14     1290     B\n",
       "1183      1458356232   963407295 2019-08-14     4940     A\n",
       "1184      1329499668  2949041841 2019-08-14    10380     B\n",
       "1189      4082620617   393266494 2019-08-14    31550     B\n",
       "1195      1947021204  1614305549 2019-08-14      100     A\n",
       "\n",
       "[181 rows x 5 columns]"
      ]
     },
     "execution_count": 20,
     "metadata": {},
     "output_type": "execute_result"
    }
   ],
   "source": [
    "double_id = orders.loc[orders['visitor_id'].isin(duble_group_users)]\n",
    "double_id"
   ]
  },
  {
   "cell_type": "code",
   "execution_count": 21,
   "metadata": {},
   "outputs": [
    {
     "data": {
      "text/html": [
       "<div>\n",
       "<style scoped>\n",
       "    .dataframe tbody tr th:only-of-type {\n",
       "        vertical-align: middle;\n",
       "    }\n",
       "\n",
       "    .dataframe tbody tr th {\n",
       "        vertical-align: top;\n",
       "    }\n",
       "\n",
       "    .dataframe thead th {\n",
       "        text-align: right;\n",
       "    }\n",
       "</style>\n",
       "<table border=\"1\" class=\"dataframe\">\n",
       "  <thead>\n",
       "    <tr style=\"text-align: right;\">\n",
       "      <th></th>\n",
       "      <th>group</th>\n",
       "    </tr>\n",
       "    <tr>\n",
       "      <th>visitor_id</th>\n",
       "      <th></th>\n",
       "    </tr>\n",
       "  </thead>\n",
       "  <tbody>\n",
       "    <tr>\n",
       "      <th>8300375</th>\n",
       "      <td>BA</td>\n",
       "    </tr>\n",
       "    <tr>\n",
       "      <th>199603092</th>\n",
       "      <td>AABAA</td>\n",
       "    </tr>\n",
       "    <tr>\n",
       "      <th>232979603</th>\n",
       "      <td>BA</td>\n",
       "    </tr>\n",
       "    <tr>\n",
       "      <th>237748145</th>\n",
       "      <td>BAAAA</td>\n",
       "    </tr>\n",
       "    <tr>\n",
       "      <th>276558944</th>\n",
       "      <td>BA</td>\n",
       "    </tr>\n",
       "    <tr>\n",
       "      <th>351125977</th>\n",
       "      <td>BA</td>\n",
       "    </tr>\n",
       "    <tr>\n",
       "      <th>393266494</th>\n",
       "      <td>ABB</td>\n",
       "    </tr>\n",
       "    <tr>\n",
       "      <th>457167155</th>\n",
       "      <td>BBAB</td>\n",
       "    </tr>\n",
       "    <tr>\n",
       "      <th>471551937</th>\n",
       "      <td>AB</td>\n",
       "    </tr>\n",
       "    <tr>\n",
       "      <th>477780734</th>\n",
       "      <td>AB</td>\n",
       "    </tr>\n",
       "    <tr>\n",
       "      <th>818047933</th>\n",
       "      <td>AB</td>\n",
       "    </tr>\n",
       "    <tr>\n",
       "      <th>963407295</th>\n",
       "      <td>BA</td>\n",
       "    </tr>\n",
       "    <tr>\n",
       "      <th>1230306981</th>\n",
       "      <td>ABBAA</td>\n",
       "    </tr>\n",
       "    <tr>\n",
       "      <th>1294878855</th>\n",
       "      <td>BAA</td>\n",
       "    </tr>\n",
       "    <tr>\n",
       "      <th>1316129916</th>\n",
       "      <td>AB</td>\n",
       "    </tr>\n",
       "    <tr>\n",
       "      <th>1333886533</th>\n",
       "      <td>AB</td>\n",
       "    </tr>\n",
       "    <tr>\n",
       "      <th>1404934699</th>\n",
       "      <td>BBA</td>\n",
       "    </tr>\n",
       "    <tr>\n",
       "      <th>1602967004</th>\n",
       "      <td>BA</td>\n",
       "    </tr>\n",
       "    <tr>\n",
       "      <th>1614305549</th>\n",
       "      <td>BAAA</td>\n",
       "    </tr>\n",
       "    <tr>\n",
       "      <th>1648269707</th>\n",
       "      <td>BA</td>\n",
       "    </tr>\n",
       "    <tr>\n",
       "      <th>1668030113</th>\n",
       "      <td>BAB</td>\n",
       "    </tr>\n",
       "    <tr>\n",
       "      <th>1738359350</th>\n",
       "      <td>ABB</td>\n",
       "    </tr>\n",
       "    <tr>\n",
       "      <th>1801183820</th>\n",
       "      <td>BA</td>\n",
       "    </tr>\n",
       "    <tr>\n",
       "      <th>1959144690</th>\n",
       "      <td>AB</td>\n",
       "    </tr>\n",
       "    <tr>\n",
       "      <th>2038680547</th>\n",
       "      <td>BAAABAAB</td>\n",
       "    </tr>\n",
       "    <tr>\n",
       "      <th>2044997962</th>\n",
       "      <td>ABB</td>\n",
       "    </tr>\n",
       "    <tr>\n",
       "      <th>2378935119</th>\n",
       "      <td>AAABBBBAB</td>\n",
       "    </tr>\n",
       "    <tr>\n",
       "      <th>2458001652</th>\n",
       "      <td>ABBABABABBA</td>\n",
       "    </tr>\n",
       "    <tr>\n",
       "      <th>2579882178</th>\n",
       "      <td>AB</td>\n",
       "    </tr>\n",
       "    <tr>\n",
       "      <th>2587333274</th>\n",
       "      <td>BBAB</td>\n",
       "    </tr>\n",
       "    <tr>\n",
       "      <th>2600415354</th>\n",
       "      <td>BA</td>\n",
       "    </tr>\n",
       "    <tr>\n",
       "      <th>2654030115</th>\n",
       "      <td>BA</td>\n",
       "    </tr>\n",
       "    <tr>\n",
       "      <th>2686716486</th>\n",
       "      <td>AB</td>\n",
       "    </tr>\n",
       "    <tr>\n",
       "      <th>2712142231</th>\n",
       "      <td>BA</td>\n",
       "    </tr>\n",
       "    <tr>\n",
       "      <th>2716752286</th>\n",
       "      <td>BA</td>\n",
       "    </tr>\n",
       "    <tr>\n",
       "      <th>2780786433</th>\n",
       "      <td>AAB</td>\n",
       "    </tr>\n",
       "    <tr>\n",
       "      <th>2927087541</th>\n",
       "      <td>AB</td>\n",
       "    </tr>\n",
       "    <tr>\n",
       "      <th>2949041841</th>\n",
       "      <td>AB</td>\n",
       "    </tr>\n",
       "    <tr>\n",
       "      <th>2954449915</th>\n",
       "      <td>AB</td>\n",
       "    </tr>\n",
       "    <tr>\n",
       "      <th>3062433592</th>\n",
       "      <td>BBBAB</td>\n",
       "    </tr>\n",
       "    <tr>\n",
       "      <th>3202540741</th>\n",
       "      <td>AB</td>\n",
       "    </tr>\n",
       "    <tr>\n",
       "      <th>3234906277</th>\n",
       "      <td>BA</td>\n",
       "    </tr>\n",
       "    <tr>\n",
       "      <th>3656415546</th>\n",
       "      <td>AB</td>\n",
       "    </tr>\n",
       "    <tr>\n",
       "      <th>3717692402</th>\n",
       "      <td>BABBB</td>\n",
       "    </tr>\n",
       "    <tr>\n",
       "      <th>3766097110</th>\n",
       "      <td>AB</td>\n",
       "    </tr>\n",
       "    <tr>\n",
       "      <th>3803269165</th>\n",
       "      <td>ABBBB</td>\n",
       "    </tr>\n",
       "    <tr>\n",
       "      <th>3891541246</th>\n",
       "      <td>ABA</td>\n",
       "    </tr>\n",
       "    <tr>\n",
       "      <th>3941795274</th>\n",
       "      <td>AB</td>\n",
       "    </tr>\n",
       "    <tr>\n",
       "      <th>3951559397</th>\n",
       "      <td>BA</td>\n",
       "    </tr>\n",
       "    <tr>\n",
       "      <th>3957174400</th>\n",
       "      <td>AB</td>\n",
       "    </tr>\n",
       "    <tr>\n",
       "      <th>3963646447</th>\n",
       "      <td>AB</td>\n",
       "    </tr>\n",
       "    <tr>\n",
       "      <th>3972127743</th>\n",
       "      <td>BA</td>\n",
       "    </tr>\n",
       "    <tr>\n",
       "      <th>3984495233</th>\n",
       "      <td>BAA</td>\n",
       "    </tr>\n",
       "    <tr>\n",
       "      <th>4069496402</th>\n",
       "      <td>AB</td>\n",
       "    </tr>\n",
       "    <tr>\n",
       "      <th>4120364173</th>\n",
       "      <td>AB</td>\n",
       "    </tr>\n",
       "    <tr>\n",
       "      <th>4186807279</th>\n",
       "      <td>BBA</td>\n",
       "    </tr>\n",
       "    <tr>\n",
       "      <th>4256040402</th>\n",
       "      <td>BAAABABAABA</td>\n",
       "    </tr>\n",
       "    <tr>\n",
       "      <th>4266935830</th>\n",
       "      <td>AB</td>\n",
       "    </tr>\n",
       "  </tbody>\n",
       "</table>\n",
       "</div>"
      ],
      "text/plain": [
       "                  group\n",
       "visitor_id             \n",
       "8300375              BA\n",
       "199603092         AABAA\n",
       "232979603            BA\n",
       "237748145         BAAAA\n",
       "276558944            BA\n",
       "351125977            BA\n",
       "393266494           ABB\n",
       "457167155          BBAB\n",
       "471551937            AB\n",
       "477780734            AB\n",
       "818047933            AB\n",
       "963407295            BA\n",
       "1230306981        ABBAA\n",
       "1294878855          BAA\n",
       "1316129916           AB\n",
       "1333886533           AB\n",
       "1404934699          BBA\n",
       "1602967004           BA\n",
       "1614305549         BAAA\n",
       "1648269707           BA\n",
       "1668030113          BAB\n",
       "1738359350          ABB\n",
       "1801183820           BA\n",
       "1959144690           AB\n",
       "2038680547     BAAABAAB\n",
       "2044997962          ABB\n",
       "2378935119    AAABBBBAB\n",
       "2458001652  ABBABABABBA\n",
       "2579882178           AB\n",
       "2587333274         BBAB\n",
       "2600415354           BA\n",
       "2654030115           BA\n",
       "2686716486           AB\n",
       "2712142231           BA\n",
       "2716752286           BA\n",
       "2780786433          AAB\n",
       "2927087541           AB\n",
       "2949041841           AB\n",
       "2954449915           AB\n",
       "3062433592        BBBAB\n",
       "3202540741           AB\n",
       "3234906277           BA\n",
       "3656415546           AB\n",
       "3717692402        BABBB\n",
       "3766097110           AB\n",
       "3803269165        ABBBB\n",
       "3891541246          ABA\n",
       "3941795274           AB\n",
       "3951559397           BA\n",
       "3957174400           AB\n",
       "3963646447           AB\n",
       "3972127743           BA\n",
       "3984495233          BAA\n",
       "4069496402           AB\n",
       "4120364173           AB\n",
       "4186807279          BBA\n",
       "4256040402  BAAABABAABA\n",
       "4266935830           AB"
      ]
     },
     "execution_count": 21,
     "metadata": {},
     "output_type": "execute_result"
    }
   ],
   "source": [
    "# посмотрим на дубли, тк строк с такими id более 58 шт\n",
    "double1 = double_id.groupby('visitor_id').agg({'group': 'sum'})\n",
    "double1"
   ]
  },
  {
   "cell_type": "code",
   "execution_count": 22,
   "metadata": {},
   "outputs": [
    {
     "data": {
      "text/html": [
       "<div>\n",
       "<style scoped>\n",
       "    .dataframe tbody tr th:only-of-type {\n",
       "        vertical-align: middle;\n",
       "    }\n",
       "\n",
       "    .dataframe tbody tr th {\n",
       "        vertical-align: top;\n",
       "    }\n",
       "\n",
       "    .dataframe thead th {\n",
       "        text-align: right;\n",
       "    }\n",
       "</style>\n",
       "<table border=\"1\" class=\"dataframe\">\n",
       "  <thead>\n",
       "    <tr style=\"text-align: right;\">\n",
       "      <th></th>\n",
       "      <th></th>\n",
       "      <th>group</th>\n",
       "    </tr>\n",
       "    <tr>\n",
       "      <th>visitor_id</th>\n",
       "      <th>date</th>\n",
       "      <th></th>\n",
       "    </tr>\n",
       "  </thead>\n",
       "  <tbody>\n",
       "    <tr>\n",
       "      <th rowspan=\"2\" valign=\"top\">8300375</th>\n",
       "      <th>2019-08-01</th>\n",
       "      <td>B</td>\n",
       "    </tr>\n",
       "    <tr>\n",
       "      <th>2019-08-07</th>\n",
       "      <td>A</td>\n",
       "    </tr>\n",
       "    <tr>\n",
       "      <th rowspan=\"3\" valign=\"top\">199603092</th>\n",
       "      <th>2019-08-02</th>\n",
       "      <td>B</td>\n",
       "    </tr>\n",
       "    <tr>\n",
       "      <th>2019-08-12</th>\n",
       "      <td>A</td>\n",
       "    </tr>\n",
       "    <tr>\n",
       "      <th>2019-08-15</th>\n",
       "      <td>A</td>\n",
       "    </tr>\n",
       "    <tr>\n",
       "      <th>...</th>\n",
       "      <th>...</th>\n",
       "      <td>...</td>\n",
       "    </tr>\n",
       "    <tr>\n",
       "      <th rowspan=\"4\" valign=\"top\">4256040402</th>\n",
       "      <th>2019-08-20</th>\n",
       "      <td>A</td>\n",
       "    </tr>\n",
       "    <tr>\n",
       "      <th>2019-08-23</th>\n",
       "      <td>A</td>\n",
       "    </tr>\n",
       "    <tr>\n",
       "      <th>2019-08-27</th>\n",
       "      <td>A</td>\n",
       "    </tr>\n",
       "    <tr>\n",
       "      <th>2019-08-31</th>\n",
       "      <td>AB</td>\n",
       "    </tr>\n",
       "    <tr>\n",
       "      <th>4266935830</th>\n",
       "      <th>2019-08-29</th>\n",
       "      <td>AB</td>\n",
       "    </tr>\n",
       "  </tbody>\n",
       "</table>\n",
       "<p>147 rows × 1 columns</p>\n",
       "</div>"
      ],
      "text/plain": [
       "                      group\n",
       "visitor_id date            \n",
       "8300375    2019-08-01     B\n",
       "           2019-08-07     A\n",
       "199603092  2019-08-02     B\n",
       "           2019-08-12     A\n",
       "           2019-08-15     A\n",
       "...                     ...\n",
       "4256040402 2019-08-20     A\n",
       "           2019-08-23     A\n",
       "           2019-08-27     A\n",
       "           2019-08-31    AB\n",
       "4266935830 2019-08-29    AB\n",
       "\n",
       "[147 rows x 1 columns]"
      ]
     },
     "execution_count": 22,
     "metadata": {},
     "output_type": "execute_result"
    }
   ],
   "source": [
    "double2 = double_id.groupby(['visitor_id', 'date']).agg({'group': 'sum'})\n",
    "double2"
   ]
  },
  {
   "cell_type": "code",
   "execution_count": 23,
   "metadata": {},
   "outputs": [
    {
     "data": {
      "text/plain": [
       "array(['B', 'A', 'BA', 'BB', 'AB', 'ABBAA', 'BAA', 'BAB'], dtype=object)"
      ]
     },
     "execution_count": 23,
     "metadata": {},
     "output_type": "execute_result"
    }
   ],
   "source": [
    "double2['group'].unique()"
   ]
  },
  {
   "cell_type": "markdown",
   "metadata": {},
   "source": [
    "С учетом того, что пользователи из списка с id, попавшим в обе группы, в разные даты находятся в разных группах, а должны все время находиться в одной, исключим их из таблицы orders"
   ]
  },
  {
   "cell_type": "code",
   "execution_count": 24,
   "metadata": {},
   "outputs": [],
   "source": [
    "orders_clear = orders.loc[~orders['visitor_id'].isin(duble_group_users)]"
   ]
  },
  {
   "cell_type": "markdown",
   "metadata": {},
   "source": [
    "**расчеты далее будем вести раздельно: с удаленными пользователями проведем расчет среднего чека, кумулятивной выручки и стат.значимости различий в чеке между группами (тк считаем только по заказам и необходимы чистые данные), с не удаленными - расчет конверсии и проверку стат.значимости различий в количестве заказов\\\n",
    "Расчет конверсии в заказы примем с учетом всех данных в таблице заказов, так как информация в таблице с посещениями кумулятивная и пользователей, попавших в обе группы оттуда исключить не представляется возможным**"
   ]
  },
  {
   "cell_type": "code",
   "execution_count": 25,
   "metadata": {},
   "outputs": [
    {
     "name": "stdout",
     "output_type": "stream",
     "text": [
      "<class 'pandas.core.frame.DataFrame'>\n",
      "Int64Index: 1016 entries, 0 to 1196\n",
      "Data columns (total 5 columns):\n",
      " #   Column          Non-Null Count  Dtype         \n",
      "---  ------          --------------  -----         \n",
      " 0   transaction_id  1016 non-null   int64         \n",
      " 1   visitor_id      1016 non-null   int64         \n",
      " 2   date            1016 non-null   datetime64[ns]\n",
      " 3   revenue         1016 non-null   int64         \n",
      " 4   group           1016 non-null   object        \n",
      "dtypes: datetime64[ns](1), int64(3), object(1)\n",
      "memory usage: 47.6+ KB\n"
     ]
    }
   ],
   "source": [
    "orders_clear.info()"
   ]
  },
  {
   "cell_type": "code",
   "execution_count": 26,
   "metadata": {},
   "outputs": [
    {
     "data": {
      "text/plain": [
       "31"
      ]
     },
     "execution_count": 26,
     "metadata": {},
     "output_type": "execute_result"
    }
   ],
   "source": [
    "orders_clear['date'].nunique() # проверим остались ли все дни"
   ]
  },
  {
   "cell_type": "code",
   "execution_count": 27,
   "metadata": {},
   "outputs": [
    {
     "name": "stdout",
     "output_type": "stream",
     "text": [
      "<class 'pandas.core.frame.DataFrame'>\n",
      "RangeIndex: 1197 entries, 0 to 1196\n",
      "Data columns (total 5 columns):\n",
      " #   Column          Non-Null Count  Dtype         \n",
      "---  ------          --------------  -----         \n",
      " 0   transaction_id  1197 non-null   int64         \n",
      " 1   visitor_id      1197 non-null   int64         \n",
      " 2   date            1197 non-null   datetime64[ns]\n",
      " 3   revenue         1197 non-null   int64         \n",
      " 4   group           1197 non-null   object        \n",
      "dtypes: datetime64[ns](1), int64(3), object(1)\n",
      "memory usage: 46.9+ KB\n"
     ]
    }
   ],
   "source": [
    "orders.info()"
   ]
  },
  {
   "cell_type": "code",
   "execution_count": 28,
   "metadata": {},
   "outputs": [],
   "source": [
    "try:    \n",
    "    visitors = pd.read_csv('/datasets/visitors.csv')\n",
    "except: \n",
    "    visitors = pd.read_csv('D:\\\\practicum\\\\DA\\\\принятие решений в бизнесе\\\\visitors.csv')"
   ]
  },
  {
   "cell_type": "code",
   "execution_count": 29,
   "metadata": {},
   "outputs": [
    {
     "data": {
      "text/html": [
       "<div>\n",
       "<style scoped>\n",
       "    .dataframe tbody tr th:only-of-type {\n",
       "        vertical-align: middle;\n",
       "    }\n",
       "\n",
       "    .dataframe tbody tr th {\n",
       "        vertical-align: top;\n",
       "    }\n",
       "\n",
       "    .dataframe thead th {\n",
       "        text-align: right;\n",
       "    }\n",
       "</style>\n",
       "<table border=\"1\" class=\"dataframe\">\n",
       "  <thead>\n",
       "    <tr style=\"text-align: right;\">\n",
       "      <th></th>\n",
       "      <th>date</th>\n",
       "      <th>group</th>\n",
       "      <th>visitors</th>\n",
       "    </tr>\n",
       "  </thead>\n",
       "  <tbody>\n",
       "    <tr>\n",
       "      <th>0</th>\n",
       "      <td>2019-08-01</td>\n",
       "      <td>A</td>\n",
       "      <td>719</td>\n",
       "    </tr>\n",
       "    <tr>\n",
       "      <th>1</th>\n",
       "      <td>2019-08-02</td>\n",
       "      <td>A</td>\n",
       "      <td>619</td>\n",
       "    </tr>\n",
       "    <tr>\n",
       "      <th>2</th>\n",
       "      <td>2019-08-03</td>\n",
       "      <td>A</td>\n",
       "      <td>507</td>\n",
       "    </tr>\n",
       "    <tr>\n",
       "      <th>3</th>\n",
       "      <td>2019-08-04</td>\n",
       "      <td>A</td>\n",
       "      <td>717</td>\n",
       "    </tr>\n",
       "    <tr>\n",
       "      <th>4</th>\n",
       "      <td>2019-08-05</td>\n",
       "      <td>A</td>\n",
       "      <td>756</td>\n",
       "    </tr>\n",
       "  </tbody>\n",
       "</table>\n",
       "</div>"
      ],
      "text/plain": [
       "         date group  visitors\n",
       "0  2019-08-01     A       719\n",
       "1  2019-08-02     A       619\n",
       "2  2019-08-03     A       507\n",
       "3  2019-08-04     A       717\n",
       "4  2019-08-05     A       756"
      ]
     },
     "execution_count": 29,
     "metadata": {},
     "output_type": "execute_result"
    }
   ],
   "source": [
    "visitors.head()"
   ]
  },
  {
   "cell_type": "code",
   "execution_count": 30,
   "metadata": {},
   "outputs": [
    {
     "name": "stdout",
     "output_type": "stream",
     "text": [
      "<class 'pandas.core.frame.DataFrame'>\n",
      "RangeIndex: 62 entries, 0 to 61\n",
      "Data columns (total 3 columns):\n",
      " #   Column    Non-Null Count  Dtype \n",
      "---  ------    --------------  ----- \n",
      " 0   date      62 non-null     object\n",
      " 1   group     62 non-null     object\n",
      " 2   visitors  62 non-null     int64 \n",
      "dtypes: int64(1), object(2)\n",
      "memory usage: 1.6+ KB\n"
     ]
    }
   ],
   "source": [
    "visitors.info()"
   ]
  },
  {
   "cell_type": "code",
   "execution_count": 31,
   "metadata": {},
   "outputs": [],
   "source": [
    "visitors['date'] = pd.to_datetime(visitors['date'])"
   ]
  },
  {
   "cell_type": "code",
   "execution_count": 32,
   "metadata": {},
   "outputs": [
    {
     "data": {
      "text/plain": [
       "0"
      ]
     },
     "execution_count": 32,
     "metadata": {},
     "output_type": "execute_result"
    }
   ],
   "source": [
    "visitors.duplicated().sum()"
   ]
  },
  {
   "cell_type": "code",
   "execution_count": 33,
   "metadata": {},
   "outputs": [
    {
     "data": {
      "text/plain": [
       "2019-08-01    2\n",
       "2019-08-17    2\n",
       "2019-08-30    2\n",
       "2019-08-29    2\n",
       "2019-08-28    2\n",
       "2019-08-27    2\n",
       "2019-08-26    2\n",
       "2019-08-25    2\n",
       "2019-08-24    2\n",
       "2019-08-23    2\n",
       "2019-08-22    2\n",
       "2019-08-21    2\n",
       "2019-08-20    2\n",
       "2019-08-19    2\n",
       "2019-08-18    2\n",
       "2019-08-16    2\n",
       "2019-08-02    2\n",
       "2019-08-15    2\n",
       "2019-08-14    2\n",
       "2019-08-13    2\n",
       "2019-08-12    2\n",
       "2019-08-11    2\n",
       "2019-08-10    2\n",
       "2019-08-09    2\n",
       "2019-08-08    2\n",
       "2019-08-07    2\n",
       "2019-08-06    2\n",
       "2019-08-05    2\n",
       "2019-08-04    2\n",
       "2019-08-03    2\n",
       "2019-08-31    2\n",
       "Name: date, dtype: int64"
      ]
     },
     "execution_count": 33,
     "metadata": {},
     "output_type": "execute_result"
    }
   ],
   "source": [
    "visitors['date'].value_counts()"
   ]
  },
  {
   "cell_type": "code",
   "execution_count": 34,
   "metadata": {},
   "outputs": [
    {
     "data": {
      "text/plain": [
       "A    31\n",
       "B    31\n",
       "Name: group, dtype: int64"
      ]
     },
     "execution_count": 34,
     "metadata": {},
     "output_type": "execute_result"
    }
   ],
   "source": [
    "visitors['group'].value_counts()"
   ]
  },
  {
   "cell_type": "markdown",
   "metadata": {},
   "source": [
    "дубликаты в таблице visitors отсутствуют"
   ]
  },
  {
   "cell_type": "markdown",
   "metadata": {},
   "source": [
    "### График кумулятивной выручки по группам"
   ]
  },
  {
   "cell_type": "code",
   "execution_count": 35,
   "metadata": {},
   "outputs": [
    {
     "data": {
      "text/html": [
       "<div>\n",
       "<style scoped>\n",
       "    .dataframe tbody tr th:only-of-type {\n",
       "        vertical-align: middle;\n",
       "    }\n",
       "\n",
       "    .dataframe tbody tr th {\n",
       "        vertical-align: top;\n",
       "    }\n",
       "\n",
       "    .dataframe thead th {\n",
       "        text-align: right;\n",
       "    }\n",
       "</style>\n",
       "<table border=\"1\" class=\"dataframe\">\n",
       "  <thead>\n",
       "    <tr style=\"text-align: right;\">\n",
       "      <th></th>\n",
       "      <th>transaction_id</th>\n",
       "      <th>visitor_id</th>\n",
       "      <th>date</th>\n",
       "      <th>revenue</th>\n",
       "      <th>group</th>\n",
       "    </tr>\n",
       "  </thead>\n",
       "  <tbody>\n",
       "    <tr>\n",
       "      <th>0</th>\n",
       "      <td>3667963787</td>\n",
       "      <td>3312258926</td>\n",
       "      <td>2019-08-15</td>\n",
       "      <td>1650</td>\n",
       "      <td>B</td>\n",
       "    </tr>\n",
       "    <tr>\n",
       "      <th>1</th>\n",
       "      <td>2804400009</td>\n",
       "      <td>3642806036</td>\n",
       "      <td>2019-08-15</td>\n",
       "      <td>730</td>\n",
       "      <td>B</td>\n",
       "    </tr>\n",
       "    <tr>\n",
       "      <th>3</th>\n",
       "      <td>3797467345</td>\n",
       "      <td>1196621759</td>\n",
       "      <td>2019-08-15</td>\n",
       "      <td>9759</td>\n",
       "      <td>B</td>\n",
       "    </tr>\n",
       "    <tr>\n",
       "      <th>4</th>\n",
       "      <td>2282983706</td>\n",
       "      <td>2322279887</td>\n",
       "      <td>2019-08-15</td>\n",
       "      <td>2308</td>\n",
       "      <td>B</td>\n",
       "    </tr>\n",
       "    <tr>\n",
       "      <th>5</th>\n",
       "      <td>182168103</td>\n",
       "      <td>935554773</td>\n",
       "      <td>2019-08-15</td>\n",
       "      <td>2210</td>\n",
       "      <td>B</td>\n",
       "    </tr>\n",
       "  </tbody>\n",
       "</table>\n",
       "</div>"
      ],
      "text/plain": [
       "   transaction_id  visitor_id       date  revenue group\n",
       "0      3667963787  3312258926 2019-08-15     1650     B\n",
       "1      2804400009  3642806036 2019-08-15      730     B\n",
       "3      3797467345  1196621759 2019-08-15     9759     B\n",
       "4      2282983706  2322279887 2019-08-15     2308     B\n",
       "5       182168103   935554773 2019-08-15     2210     B"
      ]
     },
     "execution_count": 35,
     "metadata": {},
     "output_type": "execute_result"
    }
   ],
   "source": [
    "orders_clear.head() # заказы и выручка без пользователей, попавших в обе группы"
   ]
  },
  {
   "cell_type": "code",
   "execution_count": 36,
   "metadata": {},
   "outputs": [
    {
     "data": {
      "text/html": [
       "<div>\n",
       "<style scoped>\n",
       "    .dataframe tbody tr th:only-of-type {\n",
       "        vertical-align: middle;\n",
       "    }\n",
       "\n",
       "    .dataframe tbody tr th {\n",
       "        vertical-align: top;\n",
       "    }\n",
       "\n",
       "    .dataframe thead th {\n",
       "        text-align: right;\n",
       "    }\n",
       "</style>\n",
       "<table border=\"1\" class=\"dataframe\">\n",
       "  <thead>\n",
       "    <tr style=\"text-align: right;\">\n",
       "      <th></th>\n",
       "      <th>date</th>\n",
       "      <th>group</th>\n",
       "    </tr>\n",
       "  </thead>\n",
       "  <tbody>\n",
       "    <tr>\n",
       "      <th>0</th>\n",
       "      <td>2019-08-15</td>\n",
       "      <td>B</td>\n",
       "    </tr>\n",
       "    <tr>\n",
       "      <th>2</th>\n",
       "      <td>2019-08-15</td>\n",
       "      <td>A</td>\n",
       "    </tr>\n",
       "    <tr>\n",
       "      <th>45</th>\n",
       "      <td>2019-08-16</td>\n",
       "      <td>A</td>\n",
       "    </tr>\n",
       "    <tr>\n",
       "      <th>47</th>\n",
       "      <td>2019-08-16</td>\n",
       "      <td>B</td>\n",
       "    </tr>\n",
       "    <tr>\n",
       "      <th>55</th>\n",
       "      <td>2019-08-01</td>\n",
       "      <td>A</td>\n",
       "    </tr>\n",
       "    <tr>\n",
       "      <th>...</th>\n",
       "      <td>...</td>\n",
       "      <td>...</td>\n",
       "    </tr>\n",
       "    <tr>\n",
       "      <th>1068</th>\n",
       "      <td>2019-08-12</td>\n",
       "      <td>A</td>\n",
       "    </tr>\n",
       "    <tr>\n",
       "      <th>1114</th>\n",
       "      <td>2019-08-13</td>\n",
       "      <td>B</td>\n",
       "    </tr>\n",
       "    <tr>\n",
       "      <th>1116</th>\n",
       "      <td>2019-08-13</td>\n",
       "      <td>A</td>\n",
       "    </tr>\n",
       "    <tr>\n",
       "      <th>1149</th>\n",
       "      <td>2019-08-14</td>\n",
       "      <td>B</td>\n",
       "    </tr>\n",
       "    <tr>\n",
       "      <th>1150</th>\n",
       "      <td>2019-08-14</td>\n",
       "      <td>A</td>\n",
       "    </tr>\n",
       "  </tbody>\n",
       "</table>\n",
       "<p>62 rows × 2 columns</p>\n",
       "</div>"
      ],
      "text/plain": [
       "           date group\n",
       "0    2019-08-15     B\n",
       "2    2019-08-15     A\n",
       "45   2019-08-16     A\n",
       "47   2019-08-16     B\n",
       "55   2019-08-01     A\n",
       "...         ...   ...\n",
       "1068 2019-08-12     A\n",
       "1114 2019-08-13     B\n",
       "1116 2019-08-13     A\n",
       "1149 2019-08-14     B\n",
       "1150 2019-08-14     A\n",
       "\n",
       "[62 rows x 2 columns]"
      ]
     },
     "execution_count": 36,
     "metadata": {},
     "output_type": "execute_result"
    }
   ],
   "source": [
    "dates_groups = orders[['date', 'group']].drop_duplicates() # уникальные пары значений 'date' и 'group'\n",
    "dates_groups"
   ]
  },
  {
   "cell_type": "code",
   "execution_count": 37,
   "metadata": {},
   "outputs": [
    {
     "data": {
      "text/html": [
       "<div>\n",
       "<style scoped>\n",
       "    .dataframe tbody tr th:only-of-type {\n",
       "        vertical-align: middle;\n",
       "    }\n",
       "\n",
       "    .dataframe tbody tr th {\n",
       "        vertical-align: top;\n",
       "    }\n",
       "\n",
       "    .dataframe thead th {\n",
       "        text-align: right;\n",
       "    }\n",
       "</style>\n",
       "<table border=\"1\" class=\"dataframe\">\n",
       "  <thead>\n",
       "    <tr style=\"text-align: right;\">\n",
       "      <th></th>\n",
       "      <th>date</th>\n",
       "      <th>group</th>\n",
       "      <th>transaction_id</th>\n",
       "      <th>visitor_id</th>\n",
       "      <th>revenue</th>\n",
       "    </tr>\n",
       "  </thead>\n",
       "  <tbody>\n",
       "    <tr>\n",
       "      <th>55</th>\n",
       "      <td>2019-08-01</td>\n",
       "      <td>A</td>\n",
       "      <td>23</td>\n",
       "      <td>19</td>\n",
       "      <td>142779</td>\n",
       "    </tr>\n",
       "    <tr>\n",
       "      <th>66</th>\n",
       "      <td>2019-08-01</td>\n",
       "      <td>B</td>\n",
       "      <td>17</td>\n",
       "      <td>17</td>\n",
       "      <td>59758</td>\n",
       "    </tr>\n",
       "    <tr>\n",
       "      <th>175</th>\n",
       "      <td>2019-08-02</td>\n",
       "      <td>A</td>\n",
       "      <td>42</td>\n",
       "      <td>36</td>\n",
       "      <td>234381</td>\n",
       "    </tr>\n",
       "    <tr>\n",
       "      <th>173</th>\n",
       "      <td>2019-08-02</td>\n",
       "      <td>B</td>\n",
       "      <td>40</td>\n",
       "      <td>39</td>\n",
       "      <td>221801</td>\n",
       "    </tr>\n",
       "    <tr>\n",
       "      <th>291</th>\n",
       "      <td>2019-08-03</td>\n",
       "      <td>A</td>\n",
       "      <td>66</td>\n",
       "      <td>60</td>\n",
       "      <td>346854</td>\n",
       "    </tr>\n",
       "    <tr>\n",
       "      <th>...</th>\n",
       "      <td>...</td>\n",
       "      <td>...</td>\n",
       "      <td>...</td>\n",
       "      <td>...</td>\n",
       "      <td>...</td>\n",
       "    </tr>\n",
       "    <tr>\n",
       "      <th>496</th>\n",
       "      <td>2019-08-29</td>\n",
       "      <td>B</td>\n",
       "      <td>510</td>\n",
       "      <td>490</td>\n",
       "      <td>4746610</td>\n",
       "    </tr>\n",
       "    <tr>\n",
       "      <th>730</th>\n",
       "      <td>2019-08-30</td>\n",
       "      <td>A</td>\n",
       "      <td>460</td>\n",
       "      <td>437</td>\n",
       "      <td>3311413</td>\n",
       "    </tr>\n",
       "    <tr>\n",
       "      <th>690</th>\n",
       "      <td>2019-08-30</td>\n",
       "      <td>B</td>\n",
       "      <td>531</td>\n",
       "      <td>511</td>\n",
       "      <td>4955833</td>\n",
       "    </tr>\n",
       "    <tr>\n",
       "      <th>958</th>\n",
       "      <td>2019-08-31</td>\n",
       "      <td>A</td>\n",
       "      <td>468</td>\n",
       "      <td>445</td>\n",
       "      <td>3364656</td>\n",
       "    </tr>\n",
       "    <tr>\n",
       "      <th>930</th>\n",
       "      <td>2019-08-31</td>\n",
       "      <td>B</td>\n",
       "      <td>548</td>\n",
       "      <td>528</td>\n",
       "      <td>5068972</td>\n",
       "    </tr>\n",
       "  </tbody>\n",
       "</table>\n",
       "<p>62 rows × 5 columns</p>\n",
       "</div>"
      ],
      "text/plain": [
       "          date group  transaction_id  visitor_id  revenue\n",
       "55  2019-08-01     A              23          19   142779\n",
       "66  2019-08-01     B              17          17    59758\n",
       "175 2019-08-02     A              42          36   234381\n",
       "173 2019-08-02     B              40          39   221801\n",
       "291 2019-08-03     A              66          60   346854\n",
       "..         ...   ...             ...         ...      ...\n",
       "496 2019-08-29     B             510         490  4746610\n",
       "730 2019-08-30     A             460         437  3311413\n",
       "690 2019-08-30     B             531         511  4955833\n",
       "958 2019-08-31     A             468         445  3364656\n",
       "930 2019-08-31     B             548         528  5068972\n",
       "\n",
       "[62 rows x 5 columns]"
      ]
     },
     "execution_count": 37,
     "metadata": {},
     "output_type": "execute_result"
    }
   ],
   "source": [
    "orders_clear_aggregated = (\n",
    "    dates_groups\n",
    "    .apply(lambda x: orders_clear[np.logical_and(orders_clear['date'] <= x['date'], \n",
    "                                           orders_clear['group'] == x['group'])]\n",
    "    .agg({'date': 'max', 'group': 'max', 'transaction_id': 'nunique', 'visitor_id': 'nunique', 'revenue': 'sum'}), axis=1)\n",
    "    .sort_values(by=['date','group'])\n",
    ")\n",
    "orders_clear_aggregated"
   ]
  },
  {
   "cell_type": "code",
   "execution_count": 38,
   "metadata": {},
   "outputs": [
    {
     "data": {
      "text/html": [
       "<div>\n",
       "<style scoped>\n",
       "    .dataframe tbody tr th:only-of-type {\n",
       "        vertical-align: middle;\n",
       "    }\n",
       "\n",
       "    .dataframe tbody tr th {\n",
       "        vertical-align: top;\n",
       "    }\n",
       "\n",
       "    .dataframe thead th {\n",
       "        text-align: right;\n",
       "    }\n",
       "</style>\n",
       "<table border=\"1\" class=\"dataframe\">\n",
       "  <thead>\n",
       "    <tr style=\"text-align: right;\">\n",
       "      <th></th>\n",
       "      <th>date</th>\n",
       "      <th>group</th>\n",
       "      <th>visitors</th>\n",
       "    </tr>\n",
       "  </thead>\n",
       "  <tbody>\n",
       "    <tr>\n",
       "      <th>55</th>\n",
       "      <td>2019-08-01</td>\n",
       "      <td>A</td>\n",
       "      <td>719</td>\n",
       "    </tr>\n",
       "    <tr>\n",
       "      <th>66</th>\n",
       "      <td>2019-08-01</td>\n",
       "      <td>B</td>\n",
       "      <td>713</td>\n",
       "    </tr>\n",
       "    <tr>\n",
       "      <th>175</th>\n",
       "      <td>2019-08-02</td>\n",
       "      <td>A</td>\n",
       "      <td>1338</td>\n",
       "    </tr>\n",
       "    <tr>\n",
       "      <th>173</th>\n",
       "      <td>2019-08-02</td>\n",
       "      <td>B</td>\n",
       "      <td>1294</td>\n",
       "    </tr>\n",
       "    <tr>\n",
       "      <th>291</th>\n",
       "      <td>2019-08-03</td>\n",
       "      <td>A</td>\n",
       "      <td>1845</td>\n",
       "    </tr>\n",
       "    <tr>\n",
       "      <th>...</th>\n",
       "      <td>...</td>\n",
       "      <td>...</td>\n",
       "      <td>...</td>\n",
       "    </tr>\n",
       "    <tr>\n",
       "      <th>496</th>\n",
       "      <td>2019-08-29</td>\n",
       "      <td>B</td>\n",
       "      <td>17708</td>\n",
       "    </tr>\n",
       "    <tr>\n",
       "      <th>730</th>\n",
       "      <td>2019-08-30</td>\n",
       "      <td>A</td>\n",
       "      <td>18037</td>\n",
       "    </tr>\n",
       "    <tr>\n",
       "      <th>690</th>\n",
       "      <td>2019-08-30</td>\n",
       "      <td>B</td>\n",
       "      <td>18198</td>\n",
       "    </tr>\n",
       "    <tr>\n",
       "      <th>958</th>\n",
       "      <td>2019-08-31</td>\n",
       "      <td>A</td>\n",
       "      <td>18736</td>\n",
       "    </tr>\n",
       "    <tr>\n",
       "      <th>930</th>\n",
       "      <td>2019-08-31</td>\n",
       "      <td>B</td>\n",
       "      <td>18916</td>\n",
       "    </tr>\n",
       "  </tbody>\n",
       "</table>\n",
       "<p>62 rows × 3 columns</p>\n",
       "</div>"
      ],
      "text/plain": [
       "          date group  visitors\n",
       "55  2019-08-01     A       719\n",
       "66  2019-08-01     B       713\n",
       "175 2019-08-02     A      1338\n",
       "173 2019-08-02     B      1294\n",
       "291 2019-08-03     A      1845\n",
       "..         ...   ...       ...\n",
       "496 2019-08-29     B     17708\n",
       "730 2019-08-30     A     18037\n",
       "690 2019-08-30     B     18198\n",
       "958 2019-08-31     A     18736\n",
       "930 2019-08-31     B     18916\n",
       "\n",
       "[62 rows x 3 columns]"
      ]
     },
     "execution_count": 38,
     "metadata": {},
     "output_type": "execute_result"
    }
   ],
   "source": [
    "visitors_aggregated = (\n",
    "    dates_groups.apply(lambda x: visitors[np.logical_and(visitors['date'] <= x['date'], \n",
    "                                                        visitors['group'] == x['group'])]\n",
    "    .agg({'date': 'max', 'group': 'max', 'visitors': 'sum'}), axis=1)\n",
    "    .sort_values(by=['date','group'])\n",
    ")\n",
    "visitors_aggregated"
   ]
  },
  {
   "cell_type": "code",
   "execution_count": 39,
   "metadata": {},
   "outputs": [],
   "source": [
    "cumulative_data_clear = orders_clear_aggregated.merge(visitors_aggregated, left_on=['date', 'group'], right_on=['date', 'group'])"
   ]
  },
  {
   "cell_type": "code",
   "execution_count": 40,
   "metadata": {},
   "outputs": [
    {
     "data": {
      "text/html": [
       "<div>\n",
       "<style scoped>\n",
       "    .dataframe tbody tr th:only-of-type {\n",
       "        vertical-align: middle;\n",
       "    }\n",
       "\n",
       "    .dataframe tbody tr th {\n",
       "        vertical-align: top;\n",
       "    }\n",
       "\n",
       "    .dataframe thead th {\n",
       "        text-align: right;\n",
       "    }\n",
       "</style>\n",
       "<table border=\"1\" class=\"dataframe\">\n",
       "  <thead>\n",
       "    <tr style=\"text-align: right;\">\n",
       "      <th></th>\n",
       "      <th>date</th>\n",
       "      <th>group</th>\n",
       "      <th>orders</th>\n",
       "      <th>buyers</th>\n",
       "      <th>revenue</th>\n",
       "      <th>visitors</th>\n",
       "    </tr>\n",
       "  </thead>\n",
       "  <tbody>\n",
       "    <tr>\n",
       "      <th>0</th>\n",
       "      <td>2019-08-01</td>\n",
       "      <td>A</td>\n",
       "      <td>23</td>\n",
       "      <td>19</td>\n",
       "      <td>142779</td>\n",
       "      <td>719</td>\n",
       "    </tr>\n",
       "    <tr>\n",
       "      <th>1</th>\n",
       "      <td>2019-08-01</td>\n",
       "      <td>B</td>\n",
       "      <td>17</td>\n",
       "      <td>17</td>\n",
       "      <td>59758</td>\n",
       "      <td>713</td>\n",
       "    </tr>\n",
       "    <tr>\n",
       "      <th>2</th>\n",
       "      <td>2019-08-02</td>\n",
       "      <td>A</td>\n",
       "      <td>42</td>\n",
       "      <td>36</td>\n",
       "      <td>234381</td>\n",
       "      <td>1338</td>\n",
       "    </tr>\n",
       "    <tr>\n",
       "      <th>3</th>\n",
       "      <td>2019-08-02</td>\n",
       "      <td>B</td>\n",
       "      <td>40</td>\n",
       "      <td>39</td>\n",
       "      <td>221801</td>\n",
       "      <td>1294</td>\n",
       "    </tr>\n",
       "    <tr>\n",
       "      <th>4</th>\n",
       "      <td>2019-08-03</td>\n",
       "      <td>A</td>\n",
       "      <td>66</td>\n",
       "      <td>60</td>\n",
       "      <td>346854</td>\n",
       "      <td>1845</td>\n",
       "    </tr>\n",
       "  </tbody>\n",
       "</table>\n",
       "</div>"
      ],
      "text/plain": [
       "        date group  orders  buyers  revenue  visitors\n",
       "0 2019-08-01     A      23      19   142779       719\n",
       "1 2019-08-01     B      17      17    59758       713\n",
       "2 2019-08-02     A      42      36   234381      1338\n",
       "3 2019-08-02     B      40      39   221801      1294\n",
       "4 2019-08-03     A      66      60   346854      1845"
      ]
     },
     "execution_count": 40,
     "metadata": {},
     "output_type": "execute_result"
    }
   ],
   "source": [
    "cumulative_data_clear.columns = ['date', 'group', 'orders', 'buyers', 'revenue', 'visitors']\n",
    "cumulative_data_clear.head()"
   ]
  },
  {
   "cell_type": "code",
   "execution_count": 41,
   "metadata": {},
   "outputs": [],
   "source": [
    "cumulative_revenue_A = cumulative_data_clear[cumulative_data_clear['group']=='A'][['date','revenue', 'orders']]\n",
    "cumulative_revenue_B = cumulative_data_clear[cumulative_data_clear['group']=='B'][['date','revenue', 'orders']]"
   ]
  },
  {
   "cell_type": "code",
   "execution_count": 42,
   "metadata": {},
   "outputs": [
    {
     "data": {
      "image/png": "[encoded data removed]",
      "text/plain": [
       "<Figure size 1080x720 with 1 Axes>"
      ]
     },
     "metadata": {
      "needs_background": "light"
     },
     "output_type": "display_data"
    }
   ],
   "source": [
    "plt.figure(figsize=(15, 10))\n",
    "# график выручки группы А\n",
    "plt.plot(cumulative_revenue_A['date'], cumulative_revenue_A['revenue'], label='A')\n",
    "\n",
    "# график выручки группы B\n",
    "plt.plot(cumulative_revenue_B['date'], cumulative_revenue_B['revenue'], label='B')\n",
    "\n",
    "plt.xlabel('День')\n",
    "plt.ylabel('Выручка, млн ед.')\n",
    "plt.title('Кумулятивная выручка по дням по группам')\n",
    "plt.grid()\n",
    "plt.legend();"
   ]
  },
  {
   "cell_type": "markdown",
   "metadata": {},
   "source": [
    "По каждой из групп наблюдается увеличение выручки в ходе проведения теста.\\\n",
    "Группа А стабильно имеет худшие показатели по сравнению с группой B на всем протяжении теста.\\\n",
    "Примерно в середине теста наблюдается резкий скачок по выручке для группы B"
   ]
  },
  {
   "cell_type": "markdown",
   "metadata": {},
   "source": [
    "### График кумулятивного среднего чека по группам"
   ]
  },
  {
   "cell_type": "code",
   "execution_count": 43,
   "metadata": {},
   "outputs": [
    {
     "data": {
      "image/png": "[encoded data removed]",
      "text/plain": [
       "<Figure size 1080x720 with 1 Axes>"
      ]
     },
     "metadata": {
      "needs_background": "light"
     },
     "output_type": "display_data"
    }
   ],
   "source": [
    "plt.figure(figsize=(15, 10))\n",
    "plt.plot(cumulative_revenue_A['date'], cumulative_revenue_A['revenue']/cumulative_revenue_A['orders'], label='A')\n",
    "plt.plot(cumulative_revenue_B['date'], cumulative_revenue_B['revenue']/cumulative_revenue_B['orders'], label='B')\n",
    "plt.grid()\n",
    "plt.title('Кумулятивный средний чек по дням по группам')\n",
    "plt.xlabel('День')\n",
    "plt.ylabel('Выручка с заказа')\n",
    "plt.legend();"
   ]
  },
  {
   "cell_type": "markdown",
   "metadata": {},
   "source": [
    "Тут так же группа В выделяется.\n",
    "\n",
    "По среднему чеку также виден резкий скачок 18.08.\\\n",
    "для каждой группы показатели увеличиваются во времени.\\\n",
    "Куммулятивное значение среднего чека скачкообразное, необходимо дополнительное рассмотрение влияния выбросов, которые искажают результаты"
   ]
  },
  {
   "cell_type": "markdown",
   "metadata": {},
   "source": [
    "### График относительного изменения кумулятивного среднего чека группы B к группе A"
   ]
  },
  {
   "cell_type": "code",
   "execution_count": 44,
   "metadata": {},
   "outputs": [],
   "source": [
    "merged_cumulative_revenue = cumulative_revenue_A.merge(cumulative_revenue_B, \n",
    "                                                       left_on='date', \n",
    "                                                       right_on='date', \n",
    "                                                       how='left', \n",
    "                                                       suffixes=['A', 'B'])"
   ]
  },
  {
   "cell_type": "code",
   "execution_count": 45,
   "metadata": {},
   "outputs": [
    {
     "data": {
      "text/html": [
       "<div>\n",
       "<style scoped>\n",
       "    .dataframe tbody tr th:only-of-type {\n",
       "        vertical-align: middle;\n",
       "    }\n",
       "\n",
       "    .dataframe tbody tr th {\n",
       "        vertical-align: top;\n",
       "    }\n",
       "\n",
       "    .dataframe thead th {\n",
       "        text-align: right;\n",
       "    }\n",
       "</style>\n",
       "<table border=\"1\" class=\"dataframe\">\n",
       "  <thead>\n",
       "    <tr style=\"text-align: right;\">\n",
       "      <th></th>\n",
       "      <th>date</th>\n",
       "      <th>revenueA</th>\n",
       "      <th>ordersA</th>\n",
       "      <th>revenueB</th>\n",
       "      <th>ordersB</th>\n",
       "    </tr>\n",
       "  </thead>\n",
       "  <tbody>\n",
       "    <tr>\n",
       "      <th>0</th>\n",
       "      <td>2019-08-01</td>\n",
       "      <td>142779</td>\n",
       "      <td>23</td>\n",
       "      <td>59758</td>\n",
       "      <td>17</td>\n",
       "    </tr>\n",
       "    <tr>\n",
       "      <th>1</th>\n",
       "      <td>2019-08-02</td>\n",
       "      <td>234381</td>\n",
       "      <td>42</td>\n",
       "      <td>221801</td>\n",
       "      <td>40</td>\n",
       "    </tr>\n",
       "    <tr>\n",
       "      <th>2</th>\n",
       "      <td>2019-08-03</td>\n",
       "      <td>346854</td>\n",
       "      <td>66</td>\n",
       "      <td>288850</td>\n",
       "      <td>54</td>\n",
       "    </tr>\n",
       "    <tr>\n",
       "      <th>3</th>\n",
       "      <td>2019-08-04</td>\n",
       "      <td>388030</td>\n",
       "      <td>77</td>\n",
       "      <td>385740</td>\n",
       "      <td>68</td>\n",
       "    </tr>\n",
       "    <tr>\n",
       "      <th>4</th>\n",
       "      <td>2019-08-05</td>\n",
       "      <td>474413</td>\n",
       "      <td>99</td>\n",
       "      <td>475648</td>\n",
       "      <td>89</td>\n",
       "    </tr>\n",
       "  </tbody>\n",
       "</table>\n",
       "</div>"
      ],
      "text/plain": [
       "        date  revenueA  ordersA  revenueB  ordersB\n",
       "0 2019-08-01    142779       23     59758       17\n",
       "1 2019-08-02    234381       42    221801       40\n",
       "2 2019-08-03    346854       66    288850       54\n",
       "3 2019-08-04    388030       77    385740       68\n",
       "4 2019-08-05    474413       99    475648       89"
      ]
     },
     "execution_count": 45,
     "metadata": {},
     "output_type": "execute_result"
    }
   ],
   "source": [
    "merged_cumulative_revenue.head()"
   ]
  },
  {
   "cell_type": "code",
   "execution_count": 46,
   "metadata": {},
   "outputs": [
    {
     "data": {
      "image/png": "[encoded data removed]",
      "text/plain": [
       "<Figure size 1080x720 with 1 Axes>"
      ]
     },
     "metadata": {
      "needs_background": "light"
     },
     "output_type": "display_data"
    }
   ],
   "source": [
    "plt.figure(figsize=(15, 10))\n",
    "\n",
    "plt.plot(merged_cumulative_revenue['date'], \n",
    "         (merged_cumulative_revenue['revenueB'] / merged_cumulative_revenue['ordersB']) / \n",
    "         (merged_cumulative_revenue['revenueA'] / merged_cumulative_revenue['ordersA']) - 1)\n",
    "\n",
    "plt.grid()\n",
    "plt.title('Изменение кумулятивного среднего чека группы B к группе A')\n",
    "plt.axhline(y=-0.14, color='black', linestyle='--')\n",
    "plt.axhline(y=0, color='black', linestyle='--');"
   ]
  },
  {
   "cell_type": "markdown",
   "metadata": {},
   "source": [
    "Группа B лучше по показателям на всем протяжении теста за исключением периода с 12.08 по 15.08, когда он был ниже на 14 %\\\n",
    "Результаты теста значительно меняются несколько раз, скорее всего, в эти дни были совершены аномальные заказы"
   ]
  },
  {
   "cell_type": "markdown",
   "metadata": {},
   "source": [
    "### График кумулятивного среднего количества заказов на посетителя по группам"
   ]
  },
  {
   "cell_type": "markdown",
   "metadata": {},
   "source": [
    "Проведем расчет конверсии в заказы с учетом всех данных в таблице заказов."
   ]
  },
  {
   "cell_type": "code",
   "execution_count": 47,
   "metadata": {},
   "outputs": [
    {
     "data": {
      "text/html": [
       "<div>\n",
       "<style scoped>\n",
       "    .dataframe tbody tr th:only-of-type {\n",
       "        vertical-align: middle;\n",
       "    }\n",
       "\n",
       "    .dataframe tbody tr th {\n",
       "        vertical-align: top;\n",
       "    }\n",
       "\n",
       "    .dataframe thead th {\n",
       "        text-align: right;\n",
       "    }\n",
       "</style>\n",
       "<table border=\"1\" class=\"dataframe\">\n",
       "  <thead>\n",
       "    <tr style=\"text-align: right;\">\n",
       "      <th></th>\n",
       "      <th>transaction_id</th>\n",
       "      <th>visitor_id</th>\n",
       "      <th>date</th>\n",
       "      <th>revenue</th>\n",
       "      <th>group</th>\n",
       "    </tr>\n",
       "  </thead>\n",
       "  <tbody>\n",
       "    <tr>\n",
       "      <th>0</th>\n",
       "      <td>3667963787</td>\n",
       "      <td>3312258926</td>\n",
       "      <td>2019-08-15</td>\n",
       "      <td>1650</td>\n",
       "      <td>B</td>\n",
       "    </tr>\n",
       "    <tr>\n",
       "      <th>1</th>\n",
       "      <td>2804400009</td>\n",
       "      <td>3642806036</td>\n",
       "      <td>2019-08-15</td>\n",
       "      <td>730</td>\n",
       "      <td>B</td>\n",
       "    </tr>\n",
       "    <tr>\n",
       "      <th>2</th>\n",
       "      <td>2961555356</td>\n",
       "      <td>4069496402</td>\n",
       "      <td>2019-08-15</td>\n",
       "      <td>400</td>\n",
       "      <td>A</td>\n",
       "    </tr>\n",
       "    <tr>\n",
       "      <th>3</th>\n",
       "      <td>3797467345</td>\n",
       "      <td>1196621759</td>\n",
       "      <td>2019-08-15</td>\n",
       "      <td>9759</td>\n",
       "      <td>B</td>\n",
       "    </tr>\n",
       "    <tr>\n",
       "      <th>4</th>\n",
       "      <td>2282983706</td>\n",
       "      <td>2322279887</td>\n",
       "      <td>2019-08-15</td>\n",
       "      <td>2308</td>\n",
       "      <td>B</td>\n",
       "    </tr>\n",
       "  </tbody>\n",
       "</table>\n",
       "</div>"
      ],
      "text/plain": [
       "   transaction_id  visitor_id       date  revenue group\n",
       "0      3667963787  3312258926 2019-08-15     1650     B\n",
       "1      2804400009  3642806036 2019-08-15      730     B\n",
       "2      2961555356  4069496402 2019-08-15      400     A\n",
       "3      3797467345  1196621759 2019-08-15     9759     B\n",
       "4      2282983706  2322279887 2019-08-15     2308     B"
      ]
     },
     "execution_count": 47,
     "metadata": {},
     "output_type": "execute_result"
    }
   ],
   "source": [
    "orders.head()"
   ]
  },
  {
   "cell_type": "code",
   "execution_count": 48,
   "metadata": {},
   "outputs": [],
   "source": [
    "orders_aggregated = (\n",
    "    dates_groups\n",
    "    .apply(lambda x: orders[np.logical_and(orders['date'] <= x['date'], \n",
    "                                           orders['group'] == x['group'])]\n",
    "    .agg({'date': 'max', 'group': 'max', 'transaction_id': 'nunique', 'visitor_id': 'nunique', 'revenue': 'sum'}), axis=1)\n",
    "    .sort_values(by=['date','group'])\n",
    ")"
   ]
  },
  {
   "cell_type": "code",
   "execution_count": 49,
   "metadata": {},
   "outputs": [],
   "source": [
    "# заново соберем данные\n",
    "cumulative_data = orders_aggregated.merge(visitors_aggregated, left_on=['date', 'group'], right_on=['date', 'group'])"
   ]
  },
  {
   "cell_type": "code",
   "execution_count": 50,
   "metadata": {},
   "outputs": [
    {
     "data": {
      "text/html": [
       "<div>\n",
       "<style scoped>\n",
       "    .dataframe tbody tr th:only-of-type {\n",
       "        vertical-align: middle;\n",
       "    }\n",
       "\n",
       "    .dataframe tbody tr th {\n",
       "        vertical-align: top;\n",
       "    }\n",
       "\n",
       "    .dataframe thead th {\n",
       "        text-align: right;\n",
       "    }\n",
       "</style>\n",
       "<table border=\"1\" class=\"dataframe\">\n",
       "  <thead>\n",
       "    <tr style=\"text-align: right;\">\n",
       "      <th></th>\n",
       "      <th>date</th>\n",
       "      <th>group</th>\n",
       "      <th>orders</th>\n",
       "      <th>buyers</th>\n",
       "      <th>revenue</th>\n",
       "      <th>visitors</th>\n",
       "    </tr>\n",
       "  </thead>\n",
       "  <tbody>\n",
       "    <tr>\n",
       "      <th>0</th>\n",
       "      <td>2019-08-01</td>\n",
       "      <td>A</td>\n",
       "      <td>24</td>\n",
       "      <td>20</td>\n",
       "      <td>148579</td>\n",
       "      <td>719</td>\n",
       "    </tr>\n",
       "    <tr>\n",
       "      <th>1</th>\n",
       "      <td>2019-08-01</td>\n",
       "      <td>B</td>\n",
       "      <td>21</td>\n",
       "      <td>20</td>\n",
       "      <td>101217</td>\n",
       "      <td>713</td>\n",
       "    </tr>\n",
       "    <tr>\n",
       "      <th>2</th>\n",
       "      <td>2019-08-02</td>\n",
       "      <td>A</td>\n",
       "      <td>44</td>\n",
       "      <td>38</td>\n",
       "      <td>242401</td>\n",
       "      <td>1338</td>\n",
       "    </tr>\n",
       "    <tr>\n",
       "      <th>3</th>\n",
       "      <td>2019-08-02</td>\n",
       "      <td>B</td>\n",
       "      <td>45</td>\n",
       "      <td>43</td>\n",
       "      <td>266748</td>\n",
       "      <td>1294</td>\n",
       "    </tr>\n",
       "    <tr>\n",
       "      <th>4</th>\n",
       "      <td>2019-08-03</td>\n",
       "      <td>A</td>\n",
       "      <td>68</td>\n",
       "      <td>62</td>\n",
       "      <td>354874</td>\n",
       "      <td>1845</td>\n",
       "    </tr>\n",
       "  </tbody>\n",
       "</table>\n",
       "</div>"
      ],
      "text/plain": [
       "        date group  orders  buyers  revenue  visitors\n",
       "0 2019-08-01     A      24      20   148579       719\n",
       "1 2019-08-01     B      21      20   101217       713\n",
       "2 2019-08-02     A      44      38   242401      1338\n",
       "3 2019-08-02     B      45      43   266748      1294\n",
       "4 2019-08-03     A      68      62   354874      1845"
      ]
     },
     "execution_count": 50,
     "metadata": {},
     "output_type": "execute_result"
    }
   ],
   "source": [
    "cumulative_data.columns = ['date', 'group', 'orders', 'buyers', 'revenue', 'visitors']\n",
    "cumulative_data.head()"
   ]
  },
  {
   "cell_type": "code",
   "execution_count": 51,
   "metadata": {},
   "outputs": [],
   "source": [
    "# количество заказов на посетителя\n",
    "cumulative_data['orders_per_user'] = cumulative_data['orders'] / cumulative_data['visitors'] "
   ]
  },
  {
   "cell_type": "code",
   "execution_count": 52,
   "metadata": {},
   "outputs": [],
   "source": [
    "# отделяем данные по группе A\n",
    "cumulative_data_A = cumulative_data[cumulative_data['group']=='A']\n",
    "\n",
    "# отделяем данные по группе B\n",
    "cumulative_data_B = cumulative_data[cumulative_data['group']=='B']"
   ]
  },
  {
   "cell_type": "code",
   "execution_count": 53,
   "metadata": {},
   "outputs": [
    {
     "data": {
      "image/png": "[encoded data removed]",
      "text/plain": [
       "<Figure size 1080x720 with 1 Axes>"
      ]
     },
     "metadata": {
      "needs_background": "light"
     },
     "output_type": "display_data"
    }
   ],
   "source": [
    "plt.figure(figsize=(15, 10))\n",
    "plt.plot(cumulative_data_A['date'], cumulative_data_A['orders_per_user'], label='A')\n",
    "plt.plot(cumulative_data_B['date'], cumulative_data_B['orders_per_user'], label='B')\n",
    "plt.legend()\n",
    "plt.grid()\n",
    "plt.xlabel('День')\n",
    "plt.ylabel('Количество заказов на посетителя')\n",
    "plt.title('Кумулятивное среднее количество заказов на посетителя по группам')\n",
    "\n",
    "plt.axis([dt.datetime(2019, 8, 1), dt.datetime(2019, 8, 31), 0, 0.05]);"
   ]
  },
  {
   "cell_type": "markdown",
   "metadata": {},
   "source": [
    "На графике видно, что группа B после 5го августа стабильно была лучше по накопленным показателям относительно группы А, после 17го августа графики стабилизировались"
   ]
  },
  {
   "cell_type": "markdown",
   "metadata": {},
   "source": [
    "### График относительного изменения кумулятивного среднего количества заказов на посетителя группы B к группе A"
   ]
  },
  {
   "cell_type": "code",
   "execution_count": 54,
   "metadata": {},
   "outputs": [],
   "source": [
    "merged_cumulative_conversions = (\n",
    "    cumulative_data_A[['date','orders_per_user']]\n",
    "    .merge(cumulative_data_B[['date','orders_per_user']], left_on='date', right_on='date', how='left', suffixes=['A', 'B'])\n",
    ")"
   ]
  },
  {
   "cell_type": "code",
   "execution_count": 55,
   "metadata": {},
   "outputs": [
    {
     "data": {
      "text/html": [
       "<div>\n",
       "<style scoped>\n",
       "    .dataframe tbody tr th:only-of-type {\n",
       "        vertical-align: middle;\n",
       "    }\n",
       "\n",
       "    .dataframe tbody tr th {\n",
       "        vertical-align: top;\n",
       "    }\n",
       "\n",
       "    .dataframe thead th {\n",
       "        text-align: right;\n",
       "    }\n",
       "</style>\n",
       "<table border=\"1\" class=\"dataframe\">\n",
       "  <thead>\n",
       "    <tr style=\"text-align: right;\">\n",
       "      <th></th>\n",
       "      <th>date</th>\n",
       "      <th>orders_per_userA</th>\n",
       "      <th>orders_per_userB</th>\n",
       "    </tr>\n",
       "  </thead>\n",
       "  <tbody>\n",
       "    <tr>\n",
       "      <th>0</th>\n",
       "      <td>2019-08-01</td>\n",
       "      <td>0.033380</td>\n",
       "      <td>0.029453</td>\n",
       "    </tr>\n",
       "    <tr>\n",
       "      <th>1</th>\n",
       "      <td>2019-08-02</td>\n",
       "      <td>0.032885</td>\n",
       "      <td>0.034776</td>\n",
       "    </tr>\n",
       "    <tr>\n",
       "      <th>2</th>\n",
       "      <td>2019-08-03</td>\n",
       "      <td>0.036856</td>\n",
       "      <td>0.033833</td>\n",
       "    </tr>\n",
       "    <tr>\n",
       "      <th>3</th>\n",
       "      <td>2019-08-04</td>\n",
       "      <td>0.032787</td>\n",
       "      <td>0.030315</td>\n",
       "    </tr>\n",
       "    <tr>\n",
       "      <th>4</th>\n",
       "      <td>2019-08-05</td>\n",
       "      <td>0.032851</td>\n",
       "      <td>0.030793</td>\n",
       "    </tr>\n",
       "  </tbody>\n",
       "</table>\n",
       "</div>"
      ],
      "text/plain": [
       "        date  orders_per_userA  orders_per_userB\n",
       "0 2019-08-01          0.033380          0.029453\n",
       "1 2019-08-02          0.032885          0.034776\n",
       "2 2019-08-03          0.036856          0.033833\n",
       "3 2019-08-04          0.032787          0.030315\n",
       "4 2019-08-05          0.032851          0.030793"
      ]
     },
     "execution_count": 55,
     "metadata": {},
     "output_type": "execute_result"
    }
   ],
   "source": [
    "merged_cumulative_conversions.head()"
   ]
  },
  {
   "cell_type": "code",
   "execution_count": 56,
   "metadata": {},
   "outputs": [
    {
     "data": {
      "image/png": "[encoded data removed]",
      "text/plain": [
       "<Figure size 1080x720 with 1 Axes>"
      ]
     },
     "metadata": {
      "needs_background": "light"
     },
     "output_type": "display_data"
    }
   ],
   "source": [
    "plt.figure(figsize=(15, 10))\n",
    "plt.plot(merged_cumulative_conversions['date'], merged_cumulative_conversions['orders_per_userB'] / \n",
    "         merged_cumulative_conversions['orders_per_userA'] - 1, \n",
    "         label=\"Относительный прирост конверсии группы B относительно группы A\")\n",
    "plt.grid()\n",
    "plt.legend()\n",
    "\n",
    "\n",
    "plt.axhline(y=0, color='black', linestyle='--')\n",
    "plt.axhline(y=0.1, color='black', linestyle='--')\n",
    "\n",
    "plt.axis([\"2019-08-01\", '2019-08-31', -0.2, 0.4]) ;"
   ]
  },
  {
   "cell_type": "markdown",
   "metadata": {},
   "source": [
    "На графике относительного различия видно, что группа B стабильно лучше группы A на более чем 10 %, и к концу теста также наблюдается подъем. По графику можно предположить, что группа B точно не хуже группы A. В последней трети эксперимента наблюдается стабилизация результатов"
   ]
  },
  {
   "cell_type": "markdown",
   "metadata": {},
   "source": [
    "### Точечный график количества заказов по пользователям"
   ]
  },
  {
   "cell_type": "code",
   "execution_count": 57,
   "metadata": {},
   "outputs": [
    {
     "data": {
      "text/html": [
       "<div>\n",
       "<style scoped>\n",
       "    .dataframe tbody tr th:only-of-type {\n",
       "        vertical-align: middle;\n",
       "    }\n",
       "\n",
       "    .dataframe tbody tr th {\n",
       "        vertical-align: top;\n",
       "    }\n",
       "\n",
       "    .dataframe thead th {\n",
       "        text-align: right;\n",
       "    }\n",
       "</style>\n",
       "<table border=\"1\" class=\"dataframe\">\n",
       "  <thead>\n",
       "    <tr style=\"text-align: right;\">\n",
       "      <th></th>\n",
       "      <th>visitor_id</th>\n",
       "      <th>orders</th>\n",
       "    </tr>\n",
       "  </thead>\n",
       "  <tbody>\n",
       "    <tr>\n",
       "      <th>1023</th>\n",
       "      <td>4256040402</td>\n",
       "      <td>11</td>\n",
       "    </tr>\n",
       "    <tr>\n",
       "      <th>591</th>\n",
       "      <td>2458001652</td>\n",
       "      <td>11</td>\n",
       "    </tr>\n",
       "    <tr>\n",
       "      <th>569</th>\n",
       "      <td>2378935119</td>\n",
       "      <td>9</td>\n",
       "    </tr>\n",
       "    <tr>\n",
       "      <th>487</th>\n",
       "      <td>2038680547</td>\n",
       "      <td>8</td>\n",
       "    </tr>\n",
       "    <tr>\n",
       "      <th>44</th>\n",
       "      <td>199603092</td>\n",
       "      <td>5</td>\n",
       "    </tr>\n",
       "    <tr>\n",
       "      <th>...</th>\n",
       "      <td>...</td>\n",
       "      <td>...</td>\n",
       "    </tr>\n",
       "    <tr>\n",
       "      <th>359</th>\n",
       "      <td>1484903144</td>\n",
       "      <td>1</td>\n",
       "    </tr>\n",
       "    <tr>\n",
       "      <th>360</th>\n",
       "      <td>1485964287</td>\n",
       "      <td>1</td>\n",
       "    </tr>\n",
       "    <tr>\n",
       "      <th>361</th>\n",
       "      <td>1494664757</td>\n",
       "      <td>1</td>\n",
       "    </tr>\n",
       "    <tr>\n",
       "      <th>362</th>\n",
       "      <td>1495112755</td>\n",
       "      <td>1</td>\n",
       "    </tr>\n",
       "    <tr>\n",
       "      <th>1030</th>\n",
       "      <td>4283872382</td>\n",
       "      <td>1</td>\n",
       "    </tr>\n",
       "  </tbody>\n",
       "</table>\n",
       "<p>1031 rows × 2 columns</p>\n",
       "</div>"
      ],
      "text/plain": [
       "      visitor_id  orders\n",
       "1023  4256040402      11\n",
       "591   2458001652      11\n",
       "569   2378935119       9\n",
       "487   2038680547       8\n",
       "44     199603092       5\n",
       "...          ...     ...\n",
       "359   1484903144       1\n",
       "360   1485964287       1\n",
       "361   1494664757       1\n",
       "362   1495112755       1\n",
       "1030  4283872382       1\n",
       "\n",
       "[1031 rows x 2 columns]"
      ]
     },
     "execution_count": 57,
     "metadata": {},
     "output_type": "execute_result"
    }
   ],
   "source": [
    "orders_by_users = (\n",
    "    orders.groupby('visitor_id', as_index=False)\n",
    "    .agg({'transaction_id': 'nunique'})\n",
    ")\n",
    "\n",
    "orders_by_users.columns = ['visitor_id', 'orders']\n",
    "orders_by_users.sort_values(by='orders', ascending=False)"
   ]
  },
  {
   "cell_type": "code",
   "execution_count": 58,
   "metadata": {},
   "outputs": [
    {
     "data": {
      "image/png": "[encoded data removed]",
      "text/plain": [
       "<Figure size 1080x720 with 1 Axes>"
      ]
     },
     "metadata": {
      "needs_background": "light"
     },
     "output_type": "display_data"
    }
   ],
   "source": [
    "plt.figure(figsize=(15, 10))\n",
    "plt.hist(orders_by_users['orders'])\n",
    "plt.grid()\n",
    "plt.xlabel('Количество заказов на пользователя')\n",
    "plt.ylabel('Количество пользователей')\n",
    "plt.title('График количества заказов по пользователям');"
   ]
  },
  {
   "cell_type": "markdown",
   "metadata": {},
   "source": [
    "Большинство покупателей заказывали только один раз.Однако доля пользователей с 2-3 заказами тоже значительна. "
   ]
  },
  {
   "cell_type": "code",
   "execution_count": 59,
   "metadata": {},
   "outputs": [
    {
     "data": {
      "image/png": "[encoded data removed]",
      "text/plain": [
       "<Figure size 1080x720 with 1 Axes>"
      ]
     },
     "metadata": {
      "needs_background": "light"
     },
     "output_type": "display_data"
    }
   ],
   "source": [
    "x_values = pd.Series(range(0, len(orders_by_users)))\n",
    "plt.figure(figsize=(15, 10))\n",
    "plt.scatter(x_values, orders_by_users['orders'])\n",
    "\n",
    "plt.ylabel('Количество заказов')\n",
    "plt.title('Точечный график количества заказов по пользователям');"
   ]
  },
  {
   "cell_type": "markdown",
   "metadata": {},
   "source": [
    "точечная диаграмма подтверждает, что много пользователей с 1-3 заказами."
   ]
  },
  {
   "cell_type": "code",
   "execution_count": 60,
   "metadata": {},
   "outputs": [
    {
     "data": {
      "text/plain": [
       "array([2., 4.])"
      ]
     },
     "execution_count": 60,
     "metadata": {},
     "output_type": "execute_result"
    }
   ],
   "source": [
    "# 95-й и 99-й перцентили количества заказов на пользователя\n",
    "np.percentile(orders_by_users['orders'], [95, 99])"
   ]
  },
  {
   "cell_type": "markdown",
   "metadata": {},
   "source": [
    "Не более 5 % пользователей оформляли больше 2 заказов. И 1 % пользователей заказывали более 4 раз. \n",
    "Выберем более 2 заказов на одного пользователя за верхнюю границу числа заказов, и отсеим аномальных пользователей по ней."
   ]
  },
  {
   "cell_type": "markdown",
   "metadata": {},
   "source": [
    "### Точечный график стоимостей заказов"
   ]
  },
  {
   "cell_type": "code",
   "execution_count": 61,
   "metadata": {},
   "outputs": [
    {
     "data": {
      "text/html": [
       "<div>\n",
       "<style scoped>\n",
       "    .dataframe tbody tr th:only-of-type {\n",
       "        vertical-align: middle;\n",
       "    }\n",
       "\n",
       "    .dataframe tbody tr th {\n",
       "        vertical-align: top;\n",
       "    }\n",
       "\n",
       "    .dataframe thead th {\n",
       "        text-align: right;\n",
       "    }\n",
       "</style>\n",
       "<table border=\"1\" class=\"dataframe\">\n",
       "  <thead>\n",
       "    <tr style=\"text-align: right;\">\n",
       "      <th></th>\n",
       "      <th>transaction_id</th>\n",
       "      <th>visitor_id</th>\n",
       "      <th>date</th>\n",
       "      <th>revenue</th>\n",
       "      <th>group</th>\n",
       "    </tr>\n",
       "  </thead>\n",
       "  <tbody>\n",
       "    <tr>\n",
       "      <th>425</th>\n",
       "      <td>590470918</td>\n",
       "      <td>1920142716</td>\n",
       "      <td>2019-08-19</td>\n",
       "      <td>1294500</td>\n",
       "      <td>B</td>\n",
       "    </tr>\n",
       "    <tr>\n",
       "      <th>1196</th>\n",
       "      <td>3936777065</td>\n",
       "      <td>2108080724</td>\n",
       "      <td>2019-08-15</td>\n",
       "      <td>202740</td>\n",
       "      <td>B</td>\n",
       "    </tr>\n",
       "    <tr>\n",
       "      <th>1136</th>\n",
       "      <td>666610489</td>\n",
       "      <td>1307669133</td>\n",
       "      <td>2019-08-13</td>\n",
       "      <td>92550</td>\n",
       "      <td>A</td>\n",
       "    </tr>\n",
       "    <tr>\n",
       "      <th>744</th>\n",
       "      <td>3668308183</td>\n",
       "      <td>888512513</td>\n",
       "      <td>2019-08-27</td>\n",
       "      <td>86620</td>\n",
       "      <td>B</td>\n",
       "    </tr>\n",
       "    <tr>\n",
       "      <th>743</th>\n",
       "      <td>3603576309</td>\n",
       "      <td>4133034833</td>\n",
       "      <td>2019-08-09</td>\n",
       "      <td>67990</td>\n",
       "      <td>A</td>\n",
       "    </tr>\n",
       "    <tr>\n",
       "      <th>1103</th>\n",
       "      <td>1348774318</td>\n",
       "      <td>1164614297</td>\n",
       "      <td>2019-08-12</td>\n",
       "      <td>66350</td>\n",
       "      <td>A</td>\n",
       "    </tr>\n",
       "    <tr>\n",
       "      <th>1099</th>\n",
       "      <td>316924019</td>\n",
       "      <td>148427295</td>\n",
       "      <td>2019-08-12</td>\n",
       "      <td>65710</td>\n",
       "      <td>A</td>\n",
       "    </tr>\n",
       "    <tr>\n",
       "      <th>949</th>\n",
       "      <td>1347999392</td>\n",
       "      <td>887908475</td>\n",
       "      <td>2019-08-21</td>\n",
       "      <td>60450</td>\n",
       "      <td>A</td>\n",
       "    </tr>\n",
       "    <tr>\n",
       "      <th>940</th>\n",
       "      <td>2420050534</td>\n",
       "      <td>4003628586</td>\n",
       "      <td>2019-08-08</td>\n",
       "      <td>58550</td>\n",
       "      <td>B</td>\n",
       "    </tr>\n",
       "    <tr>\n",
       "      <th>131</th>\n",
       "      <td>3163614039</td>\n",
       "      <td>2254586615</td>\n",
       "      <td>2019-08-22</td>\n",
       "      <td>53904</td>\n",
       "      <td>A</td>\n",
       "    </tr>\n",
       "  </tbody>\n",
       "</table>\n",
       "</div>"
      ],
      "text/plain": [
       "      transaction_id  visitor_id       date  revenue group\n",
       "425        590470918  1920142716 2019-08-19  1294500     B\n",
       "1196      3936777065  2108080724 2019-08-15   202740     B\n",
       "1136       666610489  1307669133 2019-08-13    92550     A\n",
       "744       3668308183   888512513 2019-08-27    86620     B\n",
       "743       3603576309  4133034833 2019-08-09    67990     A\n",
       "1103      1348774318  1164614297 2019-08-12    66350     A\n",
       "1099       316924019   148427295 2019-08-12    65710     A\n",
       "949       1347999392   887908475 2019-08-21    60450     A\n",
       "940       2420050534  4003628586 2019-08-08    58550     B\n",
       "131       3163614039  2254586615 2019-08-22    53904     A"
      ]
     },
     "execution_count": 61,
     "metadata": {},
     "output_type": "execute_result"
    }
   ],
   "source": [
    "orders_clear.sort_values(by='revenue', ascending=False).head(10)"
   ]
  },
  {
   "cell_type": "code",
   "execution_count": 62,
   "metadata": {},
   "outputs": [
    {
     "data": {
      "text/plain": [
       "1294500"
      ]
     },
     "execution_count": 62,
     "metadata": {},
     "output_type": "execute_result"
    }
   ],
   "source": [
    "orders_clear['revenue'].max()"
   ]
  },
  {
   "cell_type": "code",
   "execution_count": 63,
   "metadata": {},
   "outputs": [
    {
     "data": {
      "image/png": "[encoded data removed]",
      "text/plain": [
       "<Figure size 1080x720 with 1 Axes>"
      ]
     },
     "metadata": {
      "needs_background": "light"
     },
     "output_type": "display_data"
    }
   ],
   "source": [
    "plt.figure(figsize=(15, 10))\n",
    "plt.hist(orders_clear['revenue'], bins=50)\n",
    "plt.xlabel('Выручка на пользователя, млн ед.')\n",
    "plt.ylabel('Количество пользователей')\n",
    "plt.title('График стоимости заказов по пользователям')\n",
    "plt.grid();"
   ]
  },
  {
   "cell_type": "code",
   "execution_count": 64,
   "metadata": {},
   "outputs": [
    {
     "data": {
      "image/png": "[encoded data removed]",
      "text/plain": [
       "<Figure size 1080x720 with 1 Axes>"
      ]
     },
     "metadata": {
      "needs_background": "light"
     },
     "output_type": "display_data"
    }
   ],
   "source": [
    "plt.figure(figsize=(15, 10))\n",
    "plt.hist(orders_clear['revenue'], bins=100)\n",
    "plt.grid()\n",
    "plt.xlim(0,205000)\n",
    "plt.xlabel('Выручка на пользователя, млн ед.')\n",
    "plt.ylabel('Количество пользователей')\n",
    "plt.title('График стоимости заказов по пользователям до 205 000');"
   ]
  },
  {
   "cell_type": "markdown",
   "metadata": {},
   "source": [
    "Большая часть заказов варьируется по стоимости до примерно 12 тыс. В данных есть заказы дороже 25 000 и даже 200 000 тыс. и больше"
   ]
  },
  {
   "cell_type": "code",
   "execution_count": 65,
   "metadata": {},
   "outputs": [
    {
     "data": {
      "image/png": "[encoded data removed]",
      "text/plain": [
       "<Figure size 1080x720 with 1 Axes>"
      ]
     },
     "metadata": {
      "needs_background": "light"
     },
     "output_type": "display_data"
    }
   ],
   "source": [
    "x_values = pd.Series(range(0, len(orders_clear['revenue'])))\n",
    "plt.figure(figsize=(15, 10))\n",
    "plt.scatter(x_values, orders_clear['revenue'], alpha=0.3)\n",
    "plt.ylabel('Стоимость заказов, млн ед.')\n",
    "plt.title('Точечный график стоимости заказов по пользователям');"
   ]
  },
  {
   "cell_type": "code",
   "execution_count": 66,
   "metadata": {},
   "outputs": [
    {
     "data": {
      "image/png": "[encoded data removed]",
      "text/plain": [
       "<Figure size 1080x720 with 1 Axes>"
      ]
     },
     "metadata": {
      "needs_background": "light"
     },
     "output_type": "display_data"
    }
   ],
   "source": [
    "x_values = pd.Series(range(0, len(orders_clear['revenue'])))\n",
    "plt.figure(figsize=(15, 10))\n",
    "plt.ylim(0,80000);\n",
    "plt.scatter(x_values, orders_clear['revenue'], alpha=0.5)\n",
    "plt.ylabel('Стоимость заказов')\n",
    "plt.title('Точечный график стоимости заказов до 80 000 по пользователям');"
   ]
  },
  {
   "cell_type": "markdown",
   "metadata": {},
   "source": [
    "есть немного дорогих заказов. По графику можно выбрать границу аномальных заказов более 20 000 рублей"
   ]
  },
  {
   "cell_type": "code",
   "execution_count": 67,
   "metadata": {},
   "outputs": [
    {
     "data": {
      "text/plain": [
       "array([26785., 53904.])"
      ]
     },
     "execution_count": 67,
     "metadata": {},
     "output_type": "execute_result"
    }
   ],
   "source": [
    "# 95-й и 99-й перцентили стоимости заказов\n",
    "np.percentile(orders_clear['revenue'], [95, 99])"
   ]
  },
  {
   "cell_type": "markdown",
   "metadata": {},
   "source": [
    "Не более 5 % заказов дороже 26 785 рублей и не более 1 % дороже 53 904 рублей.\n",
    "По графикам и с учетом перцентилей по выручке выберем границу аномальных заказов выше 26 785 рублей"
   ]
  },
  {
   "cell_type": "markdown",
   "metadata": {},
   "source": [
    "### Проверка гипотез (определение стат.значимости различий в средних числе заказов и чеках по группам)"
   ]
  },
  {
   "cell_type": "markdown",
   "metadata": {},
   "source": [
    "Соберем необходимые данные"
   ]
  },
  {
   "cell_type": "code",
   "execution_count": 68,
   "metadata": {},
   "outputs": [],
   "source": [
    "visitors_A_daily = visitors[visitors['group'] == 'A'][['date', 'visitors']]\n",
    "visitors_A_daily.columns = ['date', 'visitors_per_date_A'] # количество пользователей в выбранную дату в группе A\n",
    "\n",
    "visitors_A_cummulative = visitors_A_daily.apply(\n",
    "    lambda x: visitors_A_daily[visitors_A_daily['date'] <= x['date']].agg(\n",
    "        {'date': 'max', 'visitors_per_date_A': 'sum'}\n",
    "    ),\n",
    "    axis=1,\n",
    ")\n",
    "visitors_A_cummulative.columns = ['date', 'visitors_cummulative_A'] # количество пользователей до \n",
    "# выбранной даты включительно в группе A"
   ]
  },
  {
   "cell_type": "code",
   "execution_count": 69,
   "metadata": {},
   "outputs": [],
   "source": [
    "visitors_B_daily = visitors[visitors['group'] == 'B'][['date', 'visitors']]\n",
    "visitors_B_daily.columns = ['date', 'visitors_per_date_B'] # количество пользователей в выбранную дату в группе B\n",
    "\n",
    "visitors_B_cummulative = visitors_B_daily.apply(\n",
    "    lambda x: visitors_B_daily[visitors_B_daily['date'] <= x['date']].agg(\n",
    "        {'date': 'max', 'visitors_per_date_B': 'sum'}\n",
    "    ),\n",
    "    axis=1,\n",
    ")\n",
    "visitors_B_cummulative.columns = ['date', 'visitors_cummulative_B'] # количество пользователей до \n",
    "# выбранной даты включительно в группе B"
   ]
  },
  {
   "cell_type": "code",
   "execution_count": 70,
   "metadata": {},
   "outputs": [],
   "source": [
    "orders_A_daily = (\n",
    "    orders[orders['group'] == 'A'][['date', 'transaction_id', 'visitor_id', 'revenue']]\n",
    "    .groupby('date', as_index=False)\n",
    "    .agg({'visitor_id': pd.Series.nunique, 'revenue': 'sum'})\n",
    ")\n",
    "orders_A_daily.columns = ['date', 'orders_per_date_A', 'revenue_per_date_A'] # количество заказов и \n",
    "                                                        # суммарная выручка в выбранную дату в группе A\n",
    "\n",
    "orders_A_cummulative = orders_A_daily.apply(\n",
    "    lambda x: orders_A_daily[orders_A_daily['date'] <= x['date']].agg(\n",
    "        {'date': 'max', 'orders_per_date_A': 'sum', 'revenue_per_date_A': 'sum'}\n",
    "    ),\n",
    "    axis=1,\n",
    ").sort_values(by=['date'])\n",
    "orders_A_cummulative.columns = [\n",
    "    'date',\n",
    "    'orders_cummulative_A', # суммарное число заказов до выбранной даты включительно в группе A\n",
    "    'revenue_cummulative_A', # суммарная выручка до выбранной даты включительно в группе A\n",
    "]"
   ]
  },
  {
   "cell_type": "code",
   "execution_count": 71,
   "metadata": {},
   "outputs": [
    {
     "data": {
      "text/html": [
       "<div>\n",
       "<style scoped>\n",
       "    .dataframe tbody tr th:only-of-type {\n",
       "        vertical-align: middle;\n",
       "    }\n",
       "\n",
       "    .dataframe tbody tr th {\n",
       "        vertical-align: top;\n",
       "    }\n",
       "\n",
       "    .dataframe thead th {\n",
       "        text-align: right;\n",
       "    }\n",
       "</style>\n",
       "<table border=\"1\" class=\"dataframe\">\n",
       "  <thead>\n",
       "    <tr style=\"text-align: right;\">\n",
       "      <th></th>\n",
       "      <th>date</th>\n",
       "      <th>orders_per_date_A</th>\n",
       "      <th>revenue_per_date_A</th>\n",
       "    </tr>\n",
       "  </thead>\n",
       "  <tbody>\n",
       "    <tr>\n",
       "      <th>0</th>\n",
       "      <td>2019-08-01</td>\n",
       "      <td>20</td>\n",
       "      <td>148579</td>\n",
       "    </tr>\n",
       "    <tr>\n",
       "      <th>1</th>\n",
       "      <td>2019-08-02</td>\n",
       "      <td>19</td>\n",
       "      <td>93822</td>\n",
       "    </tr>\n",
       "    <tr>\n",
       "      <th>2</th>\n",
       "      <td>2019-08-03</td>\n",
       "      <td>24</td>\n",
       "      <td>112473</td>\n",
       "    </tr>\n",
       "    <tr>\n",
       "      <th>3</th>\n",
       "      <td>2019-08-04</td>\n",
       "      <td>15</td>\n",
       "      <td>70825</td>\n",
       "    </tr>\n",
       "    <tr>\n",
       "      <th>4</th>\n",
       "      <td>2019-08-05</td>\n",
       "      <td>25</td>\n",
       "      <td>124218</td>\n",
       "    </tr>\n",
       "  </tbody>\n",
       "</table>\n",
       "</div>"
      ],
      "text/plain": [
       "        date  orders_per_date_A  revenue_per_date_A\n",
       "0 2019-08-01                 20              148579\n",
       "1 2019-08-02                 19               93822\n",
       "2 2019-08-03                 24              112473\n",
       "3 2019-08-04                 15               70825\n",
       "4 2019-08-05                 25              124218"
      ]
     },
     "execution_count": 71,
     "metadata": {},
     "output_type": "execute_result"
    }
   ],
   "source": [
    "orders_A_daily.head()"
   ]
  },
  {
   "cell_type": "code",
   "execution_count": 72,
   "metadata": {},
   "outputs": [
    {
     "data": {
      "text/html": [
       "<div>\n",
       "<style scoped>\n",
       "    .dataframe tbody tr th:only-of-type {\n",
       "        vertical-align: middle;\n",
       "    }\n",
       "\n",
       "    .dataframe tbody tr th {\n",
       "        vertical-align: top;\n",
       "    }\n",
       "\n",
       "    .dataframe thead th {\n",
       "        text-align: right;\n",
       "    }\n",
       "</style>\n",
       "<table border=\"1\" class=\"dataframe\">\n",
       "  <thead>\n",
       "    <tr style=\"text-align: right;\">\n",
       "      <th></th>\n",
       "      <th>date</th>\n",
       "      <th>orders_cummulative_A</th>\n",
       "      <th>revenue_cummulative_A</th>\n",
       "    </tr>\n",
       "  </thead>\n",
       "  <tbody>\n",
       "    <tr>\n",
       "      <th>0</th>\n",
       "      <td>2019-08-01</td>\n",
       "      <td>20</td>\n",
       "      <td>148579</td>\n",
       "    </tr>\n",
       "    <tr>\n",
       "      <th>1</th>\n",
       "      <td>2019-08-02</td>\n",
       "      <td>39</td>\n",
       "      <td>242401</td>\n",
       "    </tr>\n",
       "    <tr>\n",
       "      <th>2</th>\n",
       "      <td>2019-08-03</td>\n",
       "      <td>63</td>\n",
       "      <td>354874</td>\n",
       "    </tr>\n",
       "    <tr>\n",
       "      <th>3</th>\n",
       "      <td>2019-08-04</td>\n",
       "      <td>78</td>\n",
       "      <td>425699</td>\n",
       "    </tr>\n",
       "    <tr>\n",
       "      <th>4</th>\n",
       "      <td>2019-08-05</td>\n",
       "      <td>103</td>\n",
       "      <td>549917</td>\n",
       "    </tr>\n",
       "  </tbody>\n",
       "</table>\n",
       "</div>"
      ],
      "text/plain": [
       "        date  orders_cummulative_A  revenue_cummulative_A\n",
       "0 2019-08-01                    20                 148579\n",
       "1 2019-08-02                    39                 242401\n",
       "2 2019-08-03                    63                 354874\n",
       "3 2019-08-04                    78                 425699\n",
       "4 2019-08-05                   103                 549917"
      ]
     },
     "execution_count": 72,
     "metadata": {},
     "output_type": "execute_result"
    }
   ],
   "source": [
    "orders_A_cummulative.head()"
   ]
  },
  {
   "cell_type": "code",
   "execution_count": 73,
   "metadata": {},
   "outputs": [],
   "source": [
    "orders_B_daily = (\n",
    "    orders[orders['group'] == 'B'][['date', 'transaction_id', 'visitor_id', 'revenue']]\n",
    "    .groupby('date', as_index=False)\n",
    "    .agg({'visitor_id': pd.Series.nunique, 'revenue': 'sum'})\n",
    ")\n",
    "orders_B_daily.columns = ['date', 'orders_per_date_B', 'revenue_per_date_B'] # количество заказов\n",
    "                                                    # и суммарная выручка в выбранную дату в группе B\n",
    "\n",
    "orders_B_cummulative = orders_B_daily.apply(\n",
    "    lambda x: orders_B_daily[orders_B_daily['date'] <= x['date']].agg(\n",
    "        {'date': 'max', 'orders_per_date_B': 'sum', 'revenue_per_date_B': 'sum'}\n",
    "    ),\n",
    "    axis=1,\n",
    ").sort_values(by=['date'])\n",
    "orders_B_cummulative.columns = [\n",
    "    'date',\n",
    "    'orders_cummulative_B', # суммарное количество заказов до выбранной даты включительно в группе B\n",
    "    'revenue_cummulative_B', # суммарная выручка до выбранной даты включительно в группе B\n",
    "]"
   ]
  },
  {
   "cell_type": "code",
   "execution_count": 74,
   "metadata": {},
   "outputs": [
    {
     "data": {
      "text/html": [
       "<div>\n",
       "<style scoped>\n",
       "    .dataframe tbody tr th:only-of-type {\n",
       "        vertical-align: middle;\n",
       "    }\n",
       "\n",
       "    .dataframe tbody tr th {\n",
       "        vertical-align: top;\n",
       "    }\n",
       "\n",
       "    .dataframe thead th {\n",
       "        text-align: right;\n",
       "    }\n",
       "</style>\n",
       "<table border=\"1\" class=\"dataframe\">\n",
       "  <thead>\n",
       "    <tr style=\"text-align: right;\">\n",
       "      <th></th>\n",
       "      <th>date</th>\n",
       "      <th>orders_per_date_B</th>\n",
       "      <th>revenue_per_date_B</th>\n",
       "    </tr>\n",
       "  </thead>\n",
       "  <tbody>\n",
       "    <tr>\n",
       "      <th>0</th>\n",
       "      <td>2019-08-01</td>\n",
       "      <td>20</td>\n",
       "      <td>101217</td>\n",
       "    </tr>\n",
       "    <tr>\n",
       "      <th>1</th>\n",
       "      <td>2019-08-02</td>\n",
       "      <td>23</td>\n",
       "      <td>165531</td>\n",
       "    </tr>\n",
       "    <tr>\n",
       "      <th>2</th>\n",
       "      <td>2019-08-03</td>\n",
       "      <td>16</td>\n",
       "      <td>114248</td>\n",
       "    </tr>\n",
       "    <tr>\n",
       "      <th>3</th>\n",
       "      <td>2019-08-04</td>\n",
       "      <td>16</td>\n",
       "      <td>108571</td>\n",
       "    </tr>\n",
       "    <tr>\n",
       "      <th>4</th>\n",
       "      <td>2019-08-05</td>\n",
       "      <td>23</td>\n",
       "      <td>92428</td>\n",
       "    </tr>\n",
       "  </tbody>\n",
       "</table>\n",
       "</div>"
      ],
      "text/plain": [
       "        date  orders_per_date_B  revenue_per_date_B\n",
       "0 2019-08-01                 20              101217\n",
       "1 2019-08-02                 23              165531\n",
       "2 2019-08-03                 16              114248\n",
       "3 2019-08-04                 16              108571\n",
       "4 2019-08-05                 23               92428"
      ]
     },
     "execution_count": 74,
     "metadata": {},
     "output_type": "execute_result"
    }
   ],
   "source": [
    "orders_B_daily.head()"
   ]
  },
  {
   "cell_type": "code",
   "execution_count": 75,
   "metadata": {},
   "outputs": [
    {
     "data": {
      "text/html": [
       "<div>\n",
       "<style scoped>\n",
       "    .dataframe tbody tr th:only-of-type {\n",
       "        vertical-align: middle;\n",
       "    }\n",
       "\n",
       "    .dataframe tbody tr th {\n",
       "        vertical-align: top;\n",
       "    }\n",
       "\n",
       "    .dataframe thead th {\n",
       "        text-align: right;\n",
       "    }\n",
       "</style>\n",
       "<table border=\"1\" class=\"dataframe\">\n",
       "  <thead>\n",
       "    <tr style=\"text-align: right;\">\n",
       "      <th></th>\n",
       "      <th>date</th>\n",
       "      <th>orders_cummulative_B</th>\n",
       "      <th>revenue_cummulative_B</th>\n",
       "    </tr>\n",
       "  </thead>\n",
       "  <tbody>\n",
       "    <tr>\n",
       "      <th>0</th>\n",
       "      <td>2019-08-01</td>\n",
       "      <td>20</td>\n",
       "      <td>101217</td>\n",
       "    </tr>\n",
       "    <tr>\n",
       "      <th>1</th>\n",
       "      <td>2019-08-02</td>\n",
       "      <td>43</td>\n",
       "      <td>266748</td>\n",
       "    </tr>\n",
       "    <tr>\n",
       "      <th>2</th>\n",
       "      <td>2019-08-03</td>\n",
       "      <td>59</td>\n",
       "      <td>380996</td>\n",
       "    </tr>\n",
       "    <tr>\n",
       "      <th>3</th>\n",
       "      <td>2019-08-04</td>\n",
       "      <td>75</td>\n",
       "      <td>489567</td>\n",
       "    </tr>\n",
       "    <tr>\n",
       "      <th>4</th>\n",
       "      <td>2019-08-05</td>\n",
       "      <td>98</td>\n",
       "      <td>581995</td>\n",
       "    </tr>\n",
       "  </tbody>\n",
       "</table>\n",
       "</div>"
      ],
      "text/plain": [
       "        date  orders_cummulative_B  revenue_cummulative_B\n",
       "0 2019-08-01                    20                 101217\n",
       "1 2019-08-02                    43                 266748\n",
       "2 2019-08-03                    59                 380996\n",
       "3 2019-08-04                    75                 489567\n",
       "4 2019-08-05                    98                 581995"
      ]
     },
     "execution_count": 75,
     "metadata": {},
     "output_type": "execute_result"
    }
   ],
   "source": [
    "orders_B_cummulative.head()"
   ]
  },
  {
   "cell_type": "code",
   "execution_count": 76,
   "metadata": {},
   "outputs": [
    {
     "data": {
      "text/html": [
       "<div>\n",
       "<style scoped>\n",
       "    .dataframe tbody tr th:only-of-type {\n",
       "        vertical-align: middle;\n",
       "    }\n",
       "\n",
       "    .dataframe tbody tr th {\n",
       "        vertical-align: top;\n",
       "    }\n",
       "\n",
       "    .dataframe thead th {\n",
       "        text-align: right;\n",
       "    }\n",
       "</style>\n",
       "<table border=\"1\" class=\"dataframe\">\n",
       "  <thead>\n",
       "    <tr style=\"text-align: right;\">\n",
       "      <th></th>\n",
       "      <th>date</th>\n",
       "      <th>orders_per_date_A</th>\n",
       "      <th>revenue_per_date_A</th>\n",
       "      <th>orders_per_date_B</th>\n",
       "      <th>revenue_per_date_B</th>\n",
       "      <th>orders_cummulative_A</th>\n",
       "      <th>revenue_cummulative_A</th>\n",
       "      <th>orders_cummulative_B</th>\n",
       "      <th>revenue_cummulative_B</th>\n",
       "      <th>visitors_per_date_A</th>\n",
       "      <th>visitors_per_date_B</th>\n",
       "      <th>visitors_cummulative_A</th>\n",
       "      <th>visitors_cummulative_B</th>\n",
       "    </tr>\n",
       "  </thead>\n",
       "  <tbody>\n",
       "    <tr>\n",
       "      <th>0</th>\n",
       "      <td>2019-08-01</td>\n",
       "      <td>20</td>\n",
       "      <td>148579</td>\n",
       "      <td>20</td>\n",
       "      <td>101217</td>\n",
       "      <td>20</td>\n",
       "      <td>148579</td>\n",
       "      <td>20</td>\n",
       "      <td>101217</td>\n",
       "      <td>719</td>\n",
       "      <td>713</td>\n",
       "      <td>719</td>\n",
       "      <td>713</td>\n",
       "    </tr>\n",
       "    <tr>\n",
       "      <th>1</th>\n",
       "      <td>2019-08-02</td>\n",
       "      <td>19</td>\n",
       "      <td>93822</td>\n",
       "      <td>23</td>\n",
       "      <td>165531</td>\n",
       "      <td>39</td>\n",
       "      <td>242401</td>\n",
       "      <td>43</td>\n",
       "      <td>266748</td>\n",
       "      <td>619</td>\n",
       "      <td>581</td>\n",
       "      <td>1338</td>\n",
       "      <td>1294</td>\n",
       "    </tr>\n",
       "    <tr>\n",
       "      <th>2</th>\n",
       "      <td>2019-08-03</td>\n",
       "      <td>24</td>\n",
       "      <td>112473</td>\n",
       "      <td>16</td>\n",
       "      <td>114248</td>\n",
       "      <td>63</td>\n",
       "      <td>354874</td>\n",
       "      <td>59</td>\n",
       "      <td>380996</td>\n",
       "      <td>507</td>\n",
       "      <td>509</td>\n",
       "      <td>1845</td>\n",
       "      <td>1803</td>\n",
       "    </tr>\n",
       "    <tr>\n",
       "      <th>3</th>\n",
       "      <td>2019-08-04</td>\n",
       "      <td>15</td>\n",
       "      <td>70825</td>\n",
       "      <td>16</td>\n",
       "      <td>108571</td>\n",
       "      <td>78</td>\n",
       "      <td>425699</td>\n",
       "      <td>75</td>\n",
       "      <td>489567</td>\n",
       "      <td>717</td>\n",
       "      <td>770</td>\n",
       "      <td>2562</td>\n",
       "      <td>2573</td>\n",
       "    </tr>\n",
       "    <tr>\n",
       "      <th>4</th>\n",
       "      <td>2019-08-05</td>\n",
       "      <td>25</td>\n",
       "      <td>124218</td>\n",
       "      <td>23</td>\n",
       "      <td>92428</td>\n",
       "      <td>103</td>\n",
       "      <td>549917</td>\n",
       "      <td>98</td>\n",
       "      <td>581995</td>\n",
       "      <td>756</td>\n",
       "      <td>707</td>\n",
       "      <td>3318</td>\n",
       "      <td>3280</td>\n",
       "    </tr>\n",
       "  </tbody>\n",
       "</table>\n",
       "</div>"
      ],
      "text/plain": [
       "        date  orders_per_date_A  revenue_per_date_A  orders_per_date_B  \\\n",
       "0 2019-08-01                 20              148579                 20   \n",
       "1 2019-08-02                 19               93822                 23   \n",
       "2 2019-08-03                 24              112473                 16   \n",
       "3 2019-08-04                 15               70825                 16   \n",
       "4 2019-08-05                 25              124218                 23   \n",
       "\n",
       "   revenue_per_date_B  orders_cummulative_A  revenue_cummulative_A  \\\n",
       "0              101217                    20                 148579   \n",
       "1              165531                    39                 242401   \n",
       "2              114248                    63                 354874   \n",
       "3              108571                    78                 425699   \n",
       "4               92428                   103                 549917   \n",
       "\n",
       "   orders_cummulative_B  revenue_cummulative_B  visitors_per_date_A  \\\n",
       "0                    20                 101217                  719   \n",
       "1                    43                 266748                  619   \n",
       "2                    59                 380996                  507   \n",
       "3                    75                 489567                  717   \n",
       "4                    98                 581995                  756   \n",
       "\n",
       "   visitors_per_date_B  visitors_cummulative_A  visitors_cummulative_B  \n",
       "0                  713                     719                     713  \n",
       "1                  581                    1338                    1294  \n",
       "2                  509                    1845                    1803  \n",
       "3                  770                    2562                    2573  \n",
       "4                  707                    3318                    3280  "
      ]
     },
     "execution_count": 76,
     "metadata": {},
     "output_type": "execute_result"
    }
   ],
   "source": [
    "data = (\n",
    "    orders_A_daily.merge(\n",
    "        orders_B_daily, left_on='date', right_on='date', how='left'\n",
    "    )\n",
    "    .merge(orders_A_cummulative, left_on='date', right_on='date', how='left')\n",
    "    .merge(orders_B_cummulative, left_on='date', right_on='date', how='left')\n",
    "    .merge(visitors_A_daily, left_on='date', right_on='date', how='left')\n",
    "    .merge(visitors_B_daily, left_on='date', right_on='date', how='left')\n",
    "    .merge(visitors_A_cummulative, left_on='date', right_on='date', how='left')\n",
    "    .merge(visitors_B_cummulative, left_on='date', right_on='date', how='left')\n",
    ")\n",
    "data.head()"
   ]
  },
  {
   "cell_type": "markdown",
   "metadata": {},
   "source": [
    "#### Стат. значимость различий в среднем количестве заказов на посетителя между группами между группами по «сырым» данным"
   ]
  },
  {
   "cell_type": "markdown",
   "metadata": {},
   "source": [
    "Определим число совершённых заказов по пользователям для групп A и B"
   ]
  },
  {
   "cell_type": "code",
   "execution_count": 77,
   "metadata": {},
   "outputs": [
    {
     "data": {
      "text/html": [
       "<div>\n",
       "<style scoped>\n",
       "    .dataframe tbody tr th:only-of-type {\n",
       "        vertical-align: middle;\n",
       "    }\n",
       "\n",
       "    .dataframe tbody tr th {\n",
       "        vertical-align: top;\n",
       "    }\n",
       "\n",
       "    .dataframe thead th {\n",
       "        text-align: right;\n",
       "    }\n",
       "</style>\n",
       "<table border=\"1\" class=\"dataframe\">\n",
       "  <thead>\n",
       "    <tr style=\"text-align: right;\">\n",
       "      <th></th>\n",
       "      <th>user_id</th>\n",
       "      <th>orders</th>\n",
       "    </tr>\n",
       "  </thead>\n",
       "  <tbody>\n",
       "    <tr>\n",
       "      <th>0</th>\n",
       "      <td>8300375</td>\n",
       "      <td>1</td>\n",
       "    </tr>\n",
       "    <tr>\n",
       "      <th>1</th>\n",
       "      <td>11685486</td>\n",
       "      <td>1</td>\n",
       "    </tr>\n",
       "    <tr>\n",
       "      <th>2</th>\n",
       "      <td>54447517</td>\n",
       "      <td>1</td>\n",
       "    </tr>\n",
       "    <tr>\n",
       "      <th>3</th>\n",
       "      <td>66685450</td>\n",
       "      <td>1</td>\n",
       "    </tr>\n",
       "    <tr>\n",
       "      <th>4</th>\n",
       "      <td>78758296</td>\n",
       "      <td>1</td>\n",
       "    </tr>\n",
       "  </tbody>\n",
       "</table>\n",
       "</div>"
      ],
      "text/plain": [
       "    user_id  orders\n",
       "0   8300375       1\n",
       "1  11685486       1\n",
       "2  54447517       1\n",
       "3  66685450       1\n",
       "4  78758296       1"
      ]
     },
     "execution_count": 77,
     "metadata": {},
     "output_type": "execute_result"
    }
   ],
   "source": [
    "orders_by_users_A = (\n",
    "    orders[orders['group'] == 'A']\n",
    "    .groupby('visitor_id', as_index=False)\n",
    "    .agg({'transaction_id': pd.Series.nunique})\n",
    ")\n",
    "orders_by_users_A.columns = ['user_id', 'orders']\n",
    "orders_by_users_A.head()"
   ]
  },
  {
   "cell_type": "code",
   "execution_count": 78,
   "metadata": {},
   "outputs": [
    {
     "data": {
      "text/html": [
       "<div>\n",
       "<style scoped>\n",
       "    .dataframe tbody tr th:only-of-type {\n",
       "        vertical-align: middle;\n",
       "    }\n",
       "\n",
       "    .dataframe tbody tr th {\n",
       "        vertical-align: top;\n",
       "    }\n",
       "\n",
       "    .dataframe thead th {\n",
       "        text-align: right;\n",
       "    }\n",
       "</style>\n",
       "<table border=\"1\" class=\"dataframe\">\n",
       "  <thead>\n",
       "    <tr style=\"text-align: right;\">\n",
       "      <th></th>\n",
       "      <th>user_id</th>\n",
       "      <th>orders</th>\n",
       "    </tr>\n",
       "  </thead>\n",
       "  <tbody>\n",
       "    <tr>\n",
       "      <th>0</th>\n",
       "      <td>5114589</td>\n",
       "      <td>1</td>\n",
       "    </tr>\n",
       "    <tr>\n",
       "      <th>1</th>\n",
       "      <td>6958315</td>\n",
       "      <td>1</td>\n",
       "    </tr>\n",
       "    <tr>\n",
       "      <th>2</th>\n",
       "      <td>8300375</td>\n",
       "      <td>1</td>\n",
       "    </tr>\n",
       "    <tr>\n",
       "      <th>3</th>\n",
       "      <td>39475350</td>\n",
       "      <td>1</td>\n",
       "    </tr>\n",
       "    <tr>\n",
       "      <th>4</th>\n",
       "      <td>47206413</td>\n",
       "      <td>1</td>\n",
       "    </tr>\n",
       "  </tbody>\n",
       "</table>\n",
       "</div>"
      ],
      "text/plain": [
       "    user_id  orders\n",
       "0   5114589       1\n",
       "1   6958315       1\n",
       "2   8300375       1\n",
       "3  39475350       1\n",
       "4  47206413       1"
      ]
     },
     "execution_count": 78,
     "metadata": {},
     "output_type": "execute_result"
    }
   ],
   "source": [
    "orders_by_users_B = (\n",
    "    orders[orders['group'] == 'B']\n",
    "    .groupby('visitor_id', as_index=False)\n",
    "    .agg({'transaction_id': pd.Series.nunique})\n",
    ")\n",
    "orders_by_users_B.columns = ['user_id', 'orders']\n",
    "orders_by_users_B.head()"
   ]
  },
  {
   "cell_type": "markdown",
   "metadata": {},
   "source": [
    "Объявим переменные, в которых пользователям из разных групп будет соответствовать количество заказов"
   ]
  },
  {
   "cell_type": "code",
   "execution_count": 79,
   "metadata": {},
   "outputs": [],
   "source": [
    "sample_A = pd.concat([orders_by_users_A['orders'], \n",
    "                      pd.Series(0, index=np.arange(data['visitors_per_date_A']\n",
    "                                                   .sum() - len(orders_by_users_A['orders'])), name='orders')],axis=0)"
   ]
  },
  {
   "cell_type": "code",
   "execution_count": 80,
   "metadata": {},
   "outputs": [],
   "source": [
    "sample_B = pd.concat([orders_by_users_B['orders'], \n",
    "                      pd.Series(0, index=np.arange(data['visitors_per_date_B']\n",
    "                                                   .sum() - len(orders_by_users_B['orders'])), name='orders')],axis=0)"
   ]
  },
  {
   "cell_type": "markdown",
   "metadata": {},
   "source": [
    "Посчитаем статистическую значимость различий в среднем числе заказов на пользователя между группами по «сырым» данным — без удаления аномальных пользователей"
   ]
  },
  {
   "cell_type": "markdown",
   "metadata": {},
   "source": [
    "- Нулевая гипотеза: нет различий в среднем числе заказов на пользователя между группами;\n",
    "- Альтернативная гипотеза: есть различия в среднем числе заказов на пользователя между группами"
   ]
  },
  {
   "cell_type": "code",
   "execution_count": 81,
   "metadata": {},
   "outputs": [],
   "source": [
    "alpha = .05"
   ]
  },
  {
   "cell_type": "code",
   "execution_count": 82,
   "metadata": {},
   "outputs": [],
   "source": [
    "pvalue = stats.mannwhitneyu(sample_A, sample_B)[1]"
   ]
  },
  {
   "cell_type": "code",
   "execution_count": 83,
   "metadata": {},
   "outputs": [
    {
     "name": "stdout",
     "output_type": "stream",
     "text": [
      "p-value равно 0.017.\n",
      "Отвергаем нулевую гипотезу о том, что статистически значимых различий в среднем числе заказов между группами нет\n"
     ]
    }
   ],
   "source": [
    "if pvalue < alpha:\n",
    "    print(\"p-value равно {0:.3f}.\\nОтвергаем нулевую гипотезу о том, что статистически значимых различий в среднем числе заказов между группами нет\".format(pvalue))\n",
    "else:\n",
    "    print(\"p-value равно {0:.3f}.\\nНет оснований отвергать нулевую гипотезу о том, что статистически значимых различий в среднем числе заказов между группами нет. Тест показал статистически значимые различия в среднем числе заказов между группами\".format(pvalue))"
   ]
  },
  {
   "cell_type": "code",
   "execution_count": 84,
   "metadata": {},
   "outputs": [
    {
     "name": "stdout",
     "output_type": "stream",
     "text": [
      "0.138\n"
     ]
    }
   ],
   "source": [
    "# рассмотрим относительный прирост среднего числа заказов группы B: \n",
    "print(\"{0:.3f}\".format(sample_B.mean() / sample_A.mean() - 1))"
   ]
  },
  {
   "cell_type": "markdown",
   "metadata": {},
   "source": [
    "Относительный выигрыш группы B по числу заказов равен 13.8 %"
   ]
  },
  {
   "cell_type": "markdown",
   "metadata": {},
   "source": [
    "#### Стат. значимость различий в среднем чеке заказа между группами по «сырым» данным"
   ]
  },
  {
   "cell_type": "markdown",
   "metadata": {},
   "source": [
    "Посчитаем статистическую значимость различий в среднем чеке между группами по «сырым» данным — без удаления аномальных пользователей"
   ]
  },
  {
   "cell_type": "markdown",
   "metadata": {},
   "source": [
    "- Нулевая гипотеза: различий в среднем чеке заказов на пользователя между группами нет.\n",
    "- Альтернативная гипотеза: различия в среднем чеке заказов на пользователя между группами есть"
   ]
  },
  {
   "cell_type": "code",
   "execution_count": 85,
   "metadata": {},
   "outputs": [],
   "source": [
    "# также ведем расчет стат значимости различий в чеке без учета пользователей в обоих группах одновременно\n",
    "pvalue = stats.mannwhitneyu(orders_clear[orders_clear['group']=='A']['revenue'], orders_clear[orders_clear['group']=='B']['revenue'])[1]"
   ]
  },
  {
   "cell_type": "code",
   "execution_count": 86,
   "metadata": {},
   "outputs": [
    {
     "name": "stdout",
     "output_type": "stream",
     "text": [
      "p-value равно 0.829.\n",
      "Нет оснований отвергать нулевую гипотезу о том, что статистически значимых различий в среднем чеке заказа между группами нет\n"
     ]
    }
   ],
   "source": [
    "if pvalue < alpha:\n",
    "    print(\"p-value равно {0:.3f}.\\nОтвергаем нулевую гипотезу о том, что статистически значимых различий в среднем чеке заказа между группами нет\".format(pvalue))\n",
    "else:\n",
    "    print(\"p-value равно {0:.3f}.\\nНет оснований отвергать нулевую гипотезу о том, что статистически значимых различий в среднем чеке заказа между группами нет\".format(pvalue))"
   ]
  },
  {
   "cell_type": "markdown",
   "metadata": {},
   "source": [
    "Причины отвергать нулевую гипотезу и считать, что в среднем чеке есть различия, отсутствуют. Посмотрим на относительные различия в среднем чеке между группами"
   ]
  },
  {
   "cell_type": "code",
   "execution_count": 87,
   "metadata": {},
   "outputs": [
    {
     "name": "stdout",
     "output_type": "stream",
     "text": [
      "0.287\n"
     ]
    }
   ],
   "source": [
    "# без учета пользователей, попавших в обе группы\n",
    "print('{0:.3f}'.format(orders_clear[orders_clear['group']=='B']['revenue'].mean() / orders_clear[orders_clear['group']=='A']['revenue'].mean()-1))"
   ]
  },
  {
   "cell_type": "code",
   "execution_count": 88,
   "metadata": {},
   "outputs": [
    {
     "name": "stdout",
     "output_type": "stream",
     "text": [
      "0.259\n"
     ]
    }
   ],
   "source": [
    "# проверим какое различие с учетом пользователей, попавших в обе группы\n",
    "print('{0:.3f}'.format(orders[orders['group']=='B']['revenue'].mean() / orders[orders['group']=='A']['revenue'].mean()-1))"
   ]
  },
  {
   "cell_type": "markdown",
   "metadata": {},
   "source": [
    "относительное различие +28.7 % в среднем чеке группы B  к группе A по \"сырым\" данным не являются стат.значимыми (выбросы дают большое различие чеков, но их всего несколько и на общее различие среднего чека по группам они не влияют).\\\n",
    "После исключения пользователей, попавших в обе группы, видно, какое влияние они оказали на разницу и какой фактический результат проведения теста в части разницы в чеках"
   ]
  },
  {
   "cell_type": "markdown",
   "metadata": {},
   "source": [
    "#### Стат. значимость различий в среднем количестве заказов на посетителя между группами между группами по «очищенным» данным"
   ]
  },
  {
   "cell_type": "code",
   "execution_count": 89,
   "metadata": {},
   "outputs": [],
   "source": [
    "# границы аномалий по 95 перцентилю\n",
    "revenue_lim = 26785 \n",
    "order_lim = 2"
   ]
  },
  {
   "cell_type": "code",
   "execution_count": 90,
   "metadata": {},
   "outputs": [],
   "source": [
    "users_with_many_orders = pd.concat(\n",
    "    [\n",
    "        orders_by_users_A[orders_by_users_A['orders'] > order_lim]['user_id'],\n",
    "        orders_by_users_B[orders_by_users_B['orders'] > order_lim]['user_id'],\n",
    "    ],\n",
    "    axis=0,\n",
    ") # пользователи с заказами более 2х"
   ]
  },
  {
   "cell_type": "code",
   "execution_count": 91,
   "metadata": {},
   "outputs": [],
   "source": [
    "users_with_expensive_orders = orders[orders['revenue'] > revenue_lim]['visitor_id'] # пользователи с заказами более 26.785 тыс"
   ]
  },
  {
   "cell_type": "code",
   "execution_count": 92,
   "metadata": {},
   "outputs": [
    {
     "data": {
      "text/plain": [
       "568     113298937\n",
       "1099    148427295\n",
       "18      199603092\n",
       "928     204675465\n",
       "23      237748145\n",
       "dtype: int64"
      ]
     },
     "execution_count": 92,
     "metadata": {},
     "output_type": "execute_result"
    }
   ],
   "source": [
    "abnormal_users = (\n",
    "    pd.concat([users_with_many_orders, users_with_expensive_orders], axis=0)\n",
    "    .drop_duplicates()\n",
    "    .sort_values()\n",
    ")\n",
    "abnormal_users.head(5)"
   ]
  },
  {
   "cell_type": "code",
   "execution_count": 93,
   "metadata": {},
   "outputs": [
    {
     "data": {
      "text/plain": [
       "80"
      ]
     },
     "execution_count": 93,
     "metadata": {},
     "output_type": "execute_result"
    }
   ],
   "source": [
    "abnormal_users.count()"
   ]
  },
  {
   "cell_type": "markdown",
   "metadata": {},
   "source": [
    "Узнаем, как действия аномальных пользователей повлияют на результаты теста. Для начала подготовим выборки количества заказов по пользователям по группам теста"
   ]
  },
  {
   "cell_type": "code",
   "execution_count": 94,
   "metadata": {},
   "outputs": [],
   "source": [
    "sample_A_filtered = pd.concat(\n",
    "    [\n",
    "        orders_by_users_A[\n",
    "            np.logical_not(orders_by_users_A['user_id'].isin(abnormal_users))\n",
    "        ]['orders'],\n",
    "        pd.Series(\n",
    "            0,\n",
    "            index=np.arange(\n",
    "                data['visitors_per_date_A'].sum() - len(orders_by_users_A['orders'])\n",
    "            ),\n",
    "            name='orders',\n",
    "        ),\n",
    "    ],\n",
    "    axis=0,\n",
    ")"
   ]
  },
  {
   "cell_type": "code",
   "execution_count": 95,
   "metadata": {},
   "outputs": [],
   "source": [
    "sample_B_filtered = pd.concat(\n",
    "    [\n",
    "        orders_by_users_B[\n",
    "            np.logical_not(orders_by_users_B['user_id'].isin(abnormal_users))\n",
    "        ]['orders'],\n",
    "        pd.Series(\n",
    "            0,\n",
    "            index=np.arange(\n",
    "                data['visitors_per_date_B'].sum() - len(orders_by_users_B['orders'])\n",
    "            ),\n",
    "            name='orders',\n",
    "        ),\n",
    "    ],\n",
    "    axis=0,\n",
    ") "
   ]
  },
  {
   "cell_type": "markdown",
   "metadata": {},
   "source": [
    "Применим статистический критерий Манна-Уитни к полученным выборкам"
   ]
  },
  {
   "cell_type": "code",
   "execution_count": 96,
   "metadata": {},
   "outputs": [],
   "source": [
    "pvalue = stats.mannwhitneyu(sample_A_filtered, sample_B_filtered)[1]"
   ]
  },
  {
   "cell_type": "code",
   "execution_count": 97,
   "metadata": {},
   "outputs": [
    {
     "name": "stdout",
     "output_type": "stream",
     "text": [
      "p-value равно 0.016.\n",
      "Отвергаем нулевую гипотезу о том, что статистически значимых различий в среднем числе заказов между группами нет\n"
     ]
    }
   ],
   "source": [
    "if pvalue < alpha:\n",
    "    print(\"p-value равно {0:.3f}.\\nОтвергаем нулевую гипотезу о том, что статистически значимых различий в среднем числе заказов между группами нет\".format(pvalue))\n",
    "else:\n",
    "    print(\"p-value равно {0:.3f}.\\nНет оснований отвергать нулевую гипотезу о том, что статистически значимых различий в среднем числе заказов между группами нет\".format(pvalue))"
   ]
  },
  {
   "cell_type": "markdown",
   "metadata": {},
   "source": [
    "Посмотрим на относительный прирост среднего по заказам группы B на очищенных данных"
   ]
  },
  {
   "cell_type": "code",
   "execution_count": 98,
   "metadata": {},
   "outputs": [
    {
     "name": "stdout",
     "output_type": "stream",
     "text": [
      "0.168\n"
     ]
    }
   ],
   "source": [
    "print('{0:.3f}'.format(sample_B_filtered.mean()/sample_A_filtered.mean()-1))"
   ]
  },
  {
   "cell_type": "markdown",
   "metadata": {},
   "source": [
    "Прирост составляет 16.8 % против 13.8 % по \"сырым\" данным"
   ]
  },
  {
   "cell_type": "markdown",
   "metadata": {},
   "source": [
    "#### Стат. значимость различий в среднем чеке заказа между группами по «очищенным» данным"
   ]
  },
  {
   "cell_type": "code",
   "execution_count": 99,
   "metadata": {},
   "outputs": [],
   "source": [
    "pvalue = stats.mannwhitneyu(\n",
    "            orders_clear[\n",
    "                np.logical_and(\n",
    "                    orders_clear['group'] == 'A',\n",
    "                    np.logical_not(orders_clear['visitor_id'].isin(abnormal_users)),\n",
    "                )\n",
    "            ]['revenue'],\n",
    "            orders_clear[\n",
    "                np.logical_and(\n",
    "                    orders_clear['group'] == 'B',\n",
    "                    np.logical_not(orders_clear['visitor_id'].isin(abnormal_users)),\n",
    "                )\n",
    "            ]['revenue'],\n",
    "        )[1]"
   ]
  },
  {
   "cell_type": "code",
   "execution_count": 100,
   "metadata": {},
   "outputs": [
    {
     "name": "stdout",
     "output_type": "stream",
     "text": [
      "p-value равно 0.646.\n",
      "Нет оснований отвергать нулевую гипотезу о том, что статистически значимых различий в среднем чеке заказа между группами нет\n"
     ]
    }
   ],
   "source": [
    "if pvalue < alpha:\n",
    "    print(\"p-value равно {0:.3f}.\\nОтвергаем нулевую гипотезу о том, что статистически значимых различий в среднем чеке заказа между группами нет\".format(pvalue))\n",
    "else:\n",
    "    print(\"p-value равно {0:.3f}.\\nНет оснований отвергать нулевую гипотезу о том, что статистически значимых различий в среднем чеке заказа между группами нет\".format(pvalue))"
   ]
  },
  {
   "cell_type": "code",
   "execution_count": 101,
   "metadata": {},
   "outputs": [
    {
     "name": "stdout",
     "output_type": "stream",
     "text": [
      "-0.048\n"
     ]
    }
   ],
   "source": [
    "diff = (orders_clear[\n",
    "            np.logical_and(\n",
    "                orders_clear['group'] == 'B',\n",
    "                np.logical_not(orders_clear['visitor_id'].isin(abnormal_users)),\n",
    "            )\n",
    "        ]['revenue'].mean()\n",
    "        / orders_clear[\n",
    "            np.logical_and(\n",
    "                orders_clear['group'] == 'A',\n",
    "                np.logical_not(orders_clear['visitor_id'].isin(abnormal_users)),\n",
    "            )\n",
    "        ]['revenue'].mean()\n",
    "        - 1\n",
    "       )\n",
    "\n",
    "print('{0:.3f}'.format(diff))"
   ]
  },
  {
   "cell_type": "markdown",
   "metadata": {},
   "source": [
    "Для очищенных данных p-value также выше 0.05, соответственно, и в этом случае, причины отвергать нулевую гипотезу о равенстве средних чеков по группам, отсутствуют.\\\n",
    "Однако, по очищенным данным, p-value снизился.\n",
    "\n",
    "Также разница между сегментами сократилась с 28.7 % до -4.8 %. Данные различия после исключения аномалий также не являются стат.значимыми.\n",
    "\n",
    "Общие выводы по результатам теста на равенство средних чеков по группам не изменились.\\\n",
    "По очищенным данным видно, как аномалии повлияли на результаты A/B-теста"
   ]
  },
  {
   "cell_type": "markdown",
   "metadata": {},
   "source": [
    "## Общий вывод\t\n",
    "\n",
    "- График различия количества заказов на пользователя между группами сообщает, что результаты группы B лучше группы A и имеют тенденцию к росту;\n",
    "- График относительного различия среднего чека скачет по дням, чтопозволяет определить наличие аномалий, но выводы по графику сделать нельзя;\n",
    "- Тест с использованием критерия Манна-Уитни показал статистически значимые различий в среднем числе заказов между группами и по «сырым», и по данным после исключения аномалий по количеству заказов и их стоимости;\n",
    "- Нет статистически значимого различия по среднему чеку между группами ни по «сырым», ни по данным после фильтрации аномалий.\n",
    "\n",
    "\n",
    "\n",
    "т.к. стат.значимой разницы по среднему чеку нет (чек не увеличился, но и не уменьшился) то при возросшем количестве заказов с сохранившимся средним чеком выручка будет так-же расти.\n",
    "Исходя из обнаруженных фактов, тест предлагаем остановить и признать его успешным. Продолжать смысла нет, потому как вероятность, что при имеющихся данных группа B станет хуже группы A — практически нулевая."
   ]
  }
 ],
 "metadata": {
  "ExecuteTimeLog": [
   {
    "duration": 823,
    "start_time": "2022-12-28T15:58:51.215Z"
   },
   {
    "duration": 64,
    "start_time": "2022-12-28T16:09:00.113Z"
   },
   {
    "duration": 15,
    "start_time": "2022-12-28T16:09:08.074Z"
   },
   {
    "duration": 11,
    "start_time": "2022-12-28T16:10:35.347Z"
   },
   {
    "duration": 10,
    "start_time": "2022-12-28T16:10:43.933Z"
   },
   {
    "duration": 4,
    "start_time": "2022-12-28T16:17:20.860Z"
   },
   {
    "duration": 4,
    "start_time": "2022-12-28T16:17:49.450Z"
   },
   {
    "duration": 10,
    "start_time": "2022-12-28T16:17:59.909Z"
   },
   {
    "duration": 3,
    "start_time": "2022-12-28T16:19:26.726Z"
   },
   {
    "duration": 7,
    "start_time": "2022-12-28T16:19:28.518Z"
   },
   {
    "duration": 12,
    "start_time": "2022-12-28T16:20:05.425Z"
   },
   {
    "duration": 39,
    "start_time": "2022-12-28T16:20:52.511Z"
   },
   {
    "duration": 16,
    "start_time": "2022-12-28T16:20:56.430Z"
   },
   {
    "duration": 12,
    "start_time": "2022-12-28T16:24:39.309Z"
   },
   {
    "duration": 14,
    "start_time": "2022-12-28T16:27:14.015Z"
   },
   {
    "duration": 12,
    "start_time": "2022-12-28T16:27:33.117Z"
   },
   {
    "duration": 12,
    "start_time": "2022-12-28T16:28:24.903Z"
   },
   {
    "duration": 115,
    "start_time": "2022-12-28T17:16:25.844Z"
   },
   {
    "duration": 55,
    "start_time": "2022-12-28T17:16:40.628Z"
   },
   {
    "duration": 71,
    "start_time": "2022-12-28T17:16:50.320Z"
   },
   {
    "duration": 12,
    "start_time": "2022-12-28T17:17:01.887Z"
   },
   {
    "duration": 12,
    "start_time": "2022-12-28T17:17:04.437Z"
   },
   {
    "duration": 17,
    "start_time": "2022-12-28T17:17:13.581Z"
   },
   {
    "duration": 4,
    "start_time": "2022-12-28T17:18:37.826Z"
   },
   {
    "duration": 13,
    "start_time": "2022-12-28T17:18:39.882Z"
   },
   {
    "duration": 5,
    "start_time": "2022-12-28T17:18:52.183Z"
   },
   {
    "duration": 15,
    "start_time": "2022-12-28T17:18:59.870Z"
   },
   {
    "duration": 3,
    "start_time": "2022-12-28T17:19:32.120Z"
   },
   {
    "duration": 747,
    "start_time": "2022-12-29T06:17:22.254Z"
   },
   {
    "duration": 75,
    "start_time": "2022-12-29T06:17:23.003Z"
   },
   {
    "duration": 11,
    "start_time": "2022-12-29T06:17:23.079Z"
   },
   {
    "duration": 4,
    "start_time": "2022-12-29T06:17:23.091Z"
   },
   {
    "duration": 24,
    "start_time": "2022-12-29T06:17:23.097Z"
   },
   {
    "duration": 10,
    "start_time": "2022-12-29T06:17:23.122Z"
   },
   {
    "duration": 14,
    "start_time": "2022-12-29T06:17:23.133Z"
   },
   {
    "duration": 82,
    "start_time": "2022-12-29T06:17:23.148Z"
   },
   {
    "duration": 3,
    "start_time": "2022-12-29T06:17:23.231Z"
   },
   {
    "duration": 20,
    "start_time": "2022-12-29T06:17:23.236Z"
   },
   {
    "duration": 12,
    "start_time": "2022-12-29T06:17:23.257Z"
   },
   {
    "duration": 15,
    "start_time": "2022-12-29T06:17:23.271Z"
   },
   {
    "duration": 69,
    "start_time": "2022-12-29T06:17:23.287Z"
   },
   {
    "duration": 11,
    "start_time": "2022-12-29T06:17:23.358Z"
   },
   {
    "duration": 15,
    "start_time": "2022-12-29T06:17:23.370Z"
   },
   {
    "duration": 10,
    "start_time": "2022-12-29T06:18:45.623Z"
   },
   {
    "duration": 358,
    "start_time": "2022-12-29T06:20:33.100Z"
   },
   {
    "duration": 7,
    "start_time": "2022-12-29T06:21:29.892Z"
   },
   {
    "duration": 14,
    "start_time": "2022-12-29T06:22:04.179Z"
   },
   {
    "duration": 12,
    "start_time": "2022-12-29T06:22:08.480Z"
   },
   {
    "duration": 12,
    "start_time": "2022-12-29T06:22:42.791Z"
   },
   {
    "duration": 10,
    "start_time": "2022-12-29T06:23:11.761Z"
   },
   {
    "duration": 9,
    "start_time": "2022-12-29T06:24:02.776Z"
   },
   {
    "duration": 3,
    "start_time": "2022-12-29T06:24:58.350Z"
   },
   {
    "duration": 13,
    "start_time": "2022-12-29T06:25:02.646Z"
   },
   {
    "duration": 3,
    "start_time": "2022-12-29T06:26:06.080Z"
   },
   {
    "duration": 45,
    "start_time": "2022-12-29T06:26:06.085Z"
   },
   {
    "duration": 10,
    "start_time": "2022-12-29T06:26:06.132Z"
   },
   {
    "duration": 12,
    "start_time": "2022-12-29T06:26:06.145Z"
   },
   {
    "duration": 11,
    "start_time": "2022-12-29T06:26:06.158Z"
   },
   {
    "duration": 17,
    "start_time": "2022-12-29T06:26:06.170Z"
   },
   {
    "duration": 0,
    "start_time": "2022-12-29T06:26:06.190Z"
   },
   {
    "duration": 0,
    "start_time": "2022-12-29T06:26:06.192Z"
   },
   {
    "duration": 0,
    "start_time": "2022-12-29T06:26:06.193Z"
   },
   {
    "duration": 0,
    "start_time": "2022-12-29T06:26:06.195Z"
   },
   {
    "duration": 0,
    "start_time": "2022-12-29T06:26:06.196Z"
   },
   {
    "duration": 0,
    "start_time": "2022-12-29T06:26:06.198Z"
   },
   {
    "duration": 0,
    "start_time": "2022-12-29T06:26:06.199Z"
   },
   {
    "duration": 0,
    "start_time": "2022-12-29T06:26:06.222Z"
   },
   {
    "duration": 0,
    "start_time": "2022-12-29T06:26:06.223Z"
   },
   {
    "duration": 0,
    "start_time": "2022-12-29T06:26:06.224Z"
   },
   {
    "duration": 0,
    "start_time": "2022-12-29T06:26:06.225Z"
   },
   {
    "duration": 0,
    "start_time": "2022-12-29T06:26:06.226Z"
   },
   {
    "duration": 4,
    "start_time": "2022-12-29T06:27:30.301Z"
   },
   {
    "duration": 54,
    "start_time": "2022-12-29T06:27:30.307Z"
   },
   {
    "duration": 11,
    "start_time": "2022-12-29T06:27:30.363Z"
   },
   {
    "duration": 31,
    "start_time": "2022-12-29T06:27:30.376Z"
   },
   {
    "duration": 16,
    "start_time": "2022-12-29T06:27:30.409Z"
   },
   {
    "duration": 18,
    "start_time": "2022-12-29T06:27:30.426Z"
   },
   {
    "duration": 41,
    "start_time": "2022-12-29T06:27:30.447Z"
   },
   {
    "duration": 23,
    "start_time": "2022-12-29T06:27:30.490Z"
   },
   {
    "duration": 46,
    "start_time": "2022-12-29T06:27:30.514Z"
   },
   {
    "duration": 49,
    "start_time": "2022-12-29T06:27:30.562Z"
   },
   {
    "duration": 73,
    "start_time": "2022-12-29T06:27:30.613Z"
   },
   {
    "duration": 3,
    "start_time": "2022-12-29T06:27:30.688Z"
   },
   {
    "duration": 22,
    "start_time": "2022-12-29T06:27:30.694Z"
   },
   {
    "duration": 36,
    "start_time": "2022-12-29T06:27:30.719Z"
   },
   {
    "duration": 74,
    "start_time": "2022-12-29T06:27:30.757Z"
   },
   {
    "duration": 49,
    "start_time": "2022-12-29T06:27:30.833Z"
   },
   {
    "duration": 29,
    "start_time": "2022-12-29T06:27:30.884Z"
   },
   {
    "duration": 49,
    "start_time": "2022-12-29T06:27:30.915Z"
   },
   {
    "duration": 9,
    "start_time": "2022-12-29T06:28:11.767Z"
   },
   {
    "duration": 4,
    "start_time": "2022-12-29T06:34:05.224Z"
   },
   {
    "duration": 4,
    "start_time": "2022-12-29T06:35:33.902Z"
   },
   {
    "duration": 4,
    "start_time": "2022-12-29T06:37:12.466Z"
   },
   {
    "duration": 8,
    "start_time": "2022-12-29T06:41:08.345Z"
   },
   {
    "duration": 287,
    "start_time": "2022-12-29T06:41:18.726Z"
   },
   {
    "duration": 73,
    "start_time": "2022-12-29T06:43:01.747Z"
   },
   {
    "duration": 10,
    "start_time": "2022-12-29T06:43:06.006Z"
   },
   {
    "duration": 6,
    "start_time": "2022-12-29T06:43:14.656Z"
   },
   {
    "duration": 14,
    "start_time": "2022-12-29T06:43:22.775Z"
   },
   {
    "duration": 12,
    "start_time": "2022-12-29T06:43:47.614Z"
   },
   {
    "duration": 8,
    "start_time": "2022-12-29T06:44:04.295Z"
   },
   {
    "duration": 9,
    "start_time": "2022-12-29T06:44:46.226Z"
   },
   {
    "duration": 16,
    "start_time": "2022-12-29T06:46:10.189Z"
   },
   {
    "duration": 1234,
    "start_time": "2022-12-29T06:47:15.128Z"
   },
   {
    "duration": 1148,
    "start_time": "2022-12-29T06:47:28.913Z"
   },
   {
    "duration": 10,
    "start_time": "2022-12-29T06:48:08.711Z"
   },
   {
    "duration": 11,
    "start_time": "2022-12-29T06:48:18.823Z"
   },
   {
    "duration": 224,
    "start_time": "2022-12-29T06:48:23.049Z"
   },
   {
    "duration": 21,
    "start_time": "2022-12-29T06:48:33.038Z"
   },
   {
    "duration": 148,
    "start_time": "2022-12-29T06:48:39.340Z"
   },
   {
    "duration": 205,
    "start_time": "2022-12-29T06:49:57.764Z"
   },
   {
    "duration": 146,
    "start_time": "2022-12-29T06:51:40.926Z"
   },
   {
    "duration": 173,
    "start_time": "2022-12-29T06:52:01.589Z"
   },
   {
    "duration": 111,
    "start_time": "2022-12-29T06:54:20.185Z"
   },
   {
    "duration": 115,
    "start_time": "2022-12-29T06:54:35.227Z"
   },
   {
    "duration": 15,
    "start_time": "2022-12-29T06:54:48.936Z"
   },
   {
    "duration": 14,
    "start_time": "2022-12-29T06:55:03.011Z"
   },
   {
    "duration": 306,
    "start_time": "2022-12-29T06:55:44.427Z"
   },
   {
    "duration": 317,
    "start_time": "2022-12-29T06:56:01.578Z"
   },
   {
    "duration": 397,
    "start_time": "2022-12-29T06:57:18.714Z"
   },
   {
    "duration": 480,
    "start_time": "2022-12-29T06:57:46.529Z"
   },
   {
    "duration": 408,
    "start_time": "2022-12-29T06:58:45.089Z"
   },
   {
    "duration": 441,
    "start_time": "2022-12-29T06:59:25.646Z"
   },
   {
    "duration": 426,
    "start_time": "2022-12-29T07:00:13.747Z"
   },
   {
    "duration": 430,
    "start_time": "2022-12-29T07:01:15.772Z"
   },
   {
    "duration": 522,
    "start_time": "2022-12-29T07:01:29.403Z"
   },
   {
    "duration": 413,
    "start_time": "2022-12-29T07:02:17.852Z"
   },
   {
    "duration": 509,
    "start_time": "2022-12-29T07:03:03.843Z"
   },
   {
    "duration": 395,
    "start_time": "2022-12-29T07:03:37.836Z"
   },
   {
    "duration": 434,
    "start_time": "2022-12-29T07:05:37.735Z"
   },
   {
    "duration": 445,
    "start_time": "2022-12-29T07:06:11.003Z"
   },
   {
    "duration": 576,
    "start_time": "2022-12-29T07:06:25.324Z"
   },
   {
    "duration": 2224,
    "start_time": "2022-12-29T07:06:39.010Z"
   },
   {
    "duration": 433,
    "start_time": "2022-12-29T07:06:59.984Z"
   },
   {
    "duration": 522,
    "start_time": "2022-12-29T07:08:08.787Z"
   },
   {
    "duration": 420,
    "start_time": "2022-12-29T07:08:12.598Z"
   },
   {
    "duration": 6,
    "start_time": "2022-12-29T07:08:31.724Z"
   },
   {
    "duration": 257,
    "start_time": "2022-12-29T07:09:20.853Z"
   },
   {
    "duration": 242,
    "start_time": "2022-12-29T07:10:59.236Z"
   },
   {
    "duration": 12,
    "start_time": "2022-12-29T07:12:00.527Z"
   },
   {
    "duration": 171,
    "start_time": "2022-12-29T07:13:31.510Z"
   },
   {
    "duration": 204,
    "start_time": "2022-12-29T07:14:14.094Z"
   },
   {
    "duration": 171,
    "start_time": "2022-12-29T07:14:38.563Z"
   },
   {
    "duration": 246,
    "start_time": "2022-12-29T07:14:43.151Z"
   },
   {
    "duration": 169,
    "start_time": "2022-12-29T07:15:15.126Z"
   },
   {
    "duration": 331,
    "start_time": "2022-12-29T07:15:48.149Z"
   },
   {
    "duration": 361,
    "start_time": "2022-12-29T07:16:20.993Z"
   },
   {
    "duration": 244,
    "start_time": "2022-12-29T07:16:38.987Z"
   },
   {
    "duration": 201,
    "start_time": "2022-12-29T07:16:47.223Z"
   },
   {
    "duration": 232,
    "start_time": "2022-12-29T07:17:02.577Z"
   },
   {
    "duration": 9,
    "start_time": "2022-12-29T07:21:19.660Z"
   },
   {
    "duration": 78,
    "start_time": "2022-12-29T07:22:38.512Z"
   },
   {
    "duration": 10,
    "start_time": "2022-12-29T07:22:47.724Z"
   },
   {
    "duration": 9,
    "start_time": "2022-12-29T07:23:03.075Z"
   },
   {
    "duration": 8,
    "start_time": "2022-12-29T07:23:06.298Z"
   },
   {
    "duration": 165,
    "start_time": "2022-12-29T07:23:07.587Z"
   },
   {
    "duration": 166,
    "start_time": "2022-12-29T07:23:19.788Z"
   },
   {
    "duration": 95,
    "start_time": "2022-12-29T07:24:00.108Z"
   },
   {
    "duration": 11,
    "start_time": "2022-12-29T07:24:04.186Z"
   },
   {
    "duration": 142,
    "start_time": "2022-12-29T07:24:12.680Z"
   },
   {
    "duration": 7,
    "start_time": "2022-12-29T08:01:46.453Z"
   },
   {
    "duration": 7,
    "start_time": "2022-12-29T08:01:48.169Z"
   },
   {
    "duration": 9,
    "start_time": "2022-12-29T08:01:50.204Z"
   },
   {
    "duration": 9,
    "start_time": "2022-12-29T08:04:00.295Z"
   },
   {
    "duration": 172,
    "start_time": "2022-12-29T08:04:08.471Z"
   },
   {
    "duration": 308,
    "start_time": "2022-12-29T08:04:24.665Z"
   },
   {
    "duration": 314,
    "start_time": "2022-12-29T08:04:30.484Z"
   },
   {
    "duration": 312,
    "start_time": "2022-12-29T08:04:43.061Z"
   },
   {
    "duration": 194,
    "start_time": "2022-12-29T08:09:01.534Z"
   },
   {
    "duration": 221,
    "start_time": "2022-12-29T08:09:17.589Z"
   },
   {
    "duration": 222,
    "start_time": "2022-12-29T08:09:43.571Z"
   },
   {
    "duration": 165,
    "start_time": "2022-12-29T08:12:44.526Z"
   },
   {
    "duration": 221,
    "start_time": "2022-12-29T08:13:24.491Z"
   },
   {
    "duration": 252,
    "start_time": "2022-12-29T08:15:05.075Z"
   },
   {
    "duration": 243,
    "start_time": "2022-12-29T08:15:31.411Z"
   },
   {
    "duration": 225,
    "start_time": "2022-12-29T08:16:04.833Z"
   },
   {
    "duration": 220,
    "start_time": "2022-12-29T08:16:29.381Z"
   },
   {
    "duration": 249,
    "start_time": "2022-12-29T08:16:49.997Z"
   },
   {
    "duration": 311,
    "start_time": "2022-12-29T08:16:59.804Z"
   },
   {
    "duration": 234,
    "start_time": "2022-12-29T08:17:59.056Z"
   },
   {
    "duration": 223,
    "start_time": "2022-12-29T08:18:12.904Z"
   },
   {
    "duration": 228,
    "start_time": "2022-12-29T08:18:23.049Z"
   },
   {
    "duration": 353,
    "start_time": "2022-12-29T08:20:03.138Z"
   },
   {
    "duration": 883,
    "start_time": "2022-12-29T09:55:53.812Z"
   },
   {
    "duration": 70,
    "start_time": "2022-12-29T09:55:54.697Z"
   },
   {
    "duration": 12,
    "start_time": "2022-12-29T09:55:54.769Z"
   },
   {
    "duration": 32,
    "start_time": "2022-12-29T09:55:54.783Z"
   },
   {
    "duration": 12,
    "start_time": "2022-12-29T09:55:54.816Z"
   },
   {
    "duration": 8,
    "start_time": "2022-12-29T09:55:54.830Z"
   },
   {
    "duration": 11,
    "start_time": "2022-12-29T09:55:54.839Z"
   },
   {
    "duration": 19,
    "start_time": "2022-12-29T09:55:54.852Z"
   },
   {
    "duration": 25,
    "start_time": "2022-12-29T09:55:54.873Z"
   },
   {
    "duration": 87,
    "start_time": "2022-12-29T09:55:54.900Z"
   },
   {
    "duration": 3,
    "start_time": "2022-12-29T09:55:54.989Z"
   },
   {
    "duration": 27,
    "start_time": "2022-12-29T09:55:54.994Z"
   },
   {
    "duration": 13,
    "start_time": "2022-12-29T09:55:55.023Z"
   },
   {
    "duration": 31,
    "start_time": "2022-12-29T09:55:55.037Z"
   },
   {
    "duration": 14,
    "start_time": "2022-12-29T09:55:55.069Z"
   },
   {
    "duration": 89,
    "start_time": "2022-12-29T09:55:55.084Z"
   },
   {
    "duration": 9,
    "start_time": "2022-12-29T09:55:55.175Z"
   },
   {
    "duration": 24,
    "start_time": "2022-12-29T09:55:55.186Z"
   },
   {
    "duration": 26,
    "start_time": "2022-12-29T09:55:55.212Z"
   },
   {
    "duration": 16,
    "start_time": "2022-12-29T09:55:55.239Z"
   },
   {
    "duration": 166,
    "start_time": "2022-12-29T09:55:55.257Z"
   },
   {
    "duration": 131,
    "start_time": "2022-12-29T09:55:55.425Z"
   },
   {
    "duration": 6,
    "start_time": "2022-12-29T09:55:55.557Z"
   },
   {
    "duration": 31,
    "start_time": "2022-12-29T09:55:55.565Z"
   },
   {
    "duration": 34,
    "start_time": "2022-12-29T09:55:55.597Z"
   },
   {
    "duration": 326,
    "start_time": "2022-12-29T09:55:55.633Z"
   },
   {
    "duration": 248,
    "start_time": "2022-12-29T09:55:55.961Z"
   },
   {
    "duration": 6,
    "start_time": "2022-12-29T09:57:28.821Z"
   },
   {
    "duration": 10,
    "start_time": "2022-12-29T09:58:29.357Z"
   },
   {
    "duration": 10,
    "start_time": "2022-12-29T09:58:45.885Z"
   },
   {
    "duration": 168,
    "start_time": "2022-12-29T09:59:20.873Z"
   },
   {
    "duration": 276,
    "start_time": "2022-12-29T09:59:33.405Z"
   },
   {
    "duration": 14,
    "start_time": "2022-12-29T10:02:15.609Z"
   },
   {
    "duration": 326,
    "start_time": "2022-12-29T10:04:04.668Z"
   },
   {
    "duration": 310,
    "start_time": "2022-12-29T10:04:09.236Z"
   },
   {
    "duration": 328,
    "start_time": "2022-12-29T10:04:36.213Z"
   },
   {
    "duration": 334,
    "start_time": "2022-12-29T10:05:33.756Z"
   },
   {
    "duration": 2,
    "start_time": "2022-12-29T10:13:08.012Z"
   },
   {
    "duration": 3,
    "start_time": "2022-12-29T10:16:02.982Z"
   },
   {
    "duration": 73,
    "start_time": "2022-12-29T10:53:16.383Z"
   },
   {
    "duration": 5,
    "start_time": "2022-12-29T10:53:18.658Z"
   },
   {
    "duration": 1121,
    "start_time": "2022-12-29T10:53:21.278Z"
   },
   {
    "duration": 9,
    "start_time": "2022-12-29T10:53:36.058Z"
   },
   {
    "duration": 8,
    "start_time": "2022-12-29T10:53:50.129Z"
   },
   {
    "duration": 4,
    "start_time": "2022-12-29T10:54:02.434Z"
   },
   {
    "duration": 5,
    "start_time": "2022-12-29T10:54:06.606Z"
   },
   {
    "duration": 273,
    "start_time": "2022-12-29T10:54:11.487Z"
   },
   {
    "duration": 251,
    "start_time": "2022-12-29T10:56:05.408Z"
   },
   {
    "duration": 208,
    "start_time": "2022-12-29T10:56:15.367Z"
   },
   {
    "duration": 238,
    "start_time": "2022-12-29T10:56:42.486Z"
   },
   {
    "duration": 342,
    "start_time": "2022-12-29T10:56:46.055Z"
   },
   {
    "duration": 208,
    "start_time": "2022-12-29T10:57:28.169Z"
   },
   {
    "duration": 10,
    "start_time": "2022-12-29T10:58:36.934Z"
   },
   {
    "duration": 288,
    "start_time": "2022-12-29T10:59:06.118Z"
   },
   {
    "duration": 274,
    "start_time": "2022-12-29T10:59:10.443Z"
   },
   {
    "duration": 213,
    "start_time": "2022-12-29T10:59:45.116Z"
   },
   {
    "duration": 228,
    "start_time": "2022-12-29T10:59:52.809Z"
   },
   {
    "duration": 315,
    "start_time": "2022-12-29T11:00:54.864Z"
   },
   {
    "duration": 232,
    "start_time": "2022-12-29T11:01:39.883Z"
   },
   {
    "duration": 246,
    "start_time": "2022-12-29T11:02:12.095Z"
   },
   {
    "duration": 244,
    "start_time": "2022-12-29T11:02:46.636Z"
   },
   {
    "duration": 256,
    "start_time": "2022-12-29T11:03:51.573Z"
   },
   {
    "duration": 391,
    "start_time": "2022-12-29T11:05:36.707Z"
   },
   {
    "duration": 331,
    "start_time": "2022-12-29T11:06:01.231Z"
   },
   {
    "duration": 23,
    "start_time": "2022-12-29T11:35:44.925Z"
   },
   {
    "duration": 16,
    "start_time": "2022-12-29T11:35:57.606Z"
   },
   {
    "duration": 13,
    "start_time": "2022-12-29T11:36:19.643Z"
   },
   {
    "duration": 11,
    "start_time": "2022-12-29T11:36:33.640Z"
   },
   {
    "duration": 113,
    "start_time": "2022-12-29T11:37:11.647Z"
   },
   {
    "duration": 13,
    "start_time": "2022-12-29T11:37:21.265Z"
   },
   {
    "duration": 106,
    "start_time": "2022-12-29T11:37:29.130Z"
   },
   {
    "duration": 5,
    "start_time": "2022-12-29T11:38:11.124Z"
   },
   {
    "duration": 111,
    "start_time": "2022-12-29T11:39:09.091Z"
   },
   {
    "duration": 118,
    "start_time": "2022-12-29T11:39:11.761Z"
   },
   {
    "duration": 17,
    "start_time": "2022-12-29T11:39:20.047Z"
   },
   {
    "duration": 84,
    "start_time": "2022-12-29T11:42:49.772Z"
   },
   {
    "duration": 145,
    "start_time": "2022-12-29T11:49:02.543Z"
   },
   {
    "duration": 130,
    "start_time": "2022-12-29T11:49:05.476Z"
   },
   {
    "duration": 182,
    "start_time": "2022-12-29T11:49:28.513Z"
   },
   {
    "duration": 192,
    "start_time": "2022-12-29T11:49:49.381Z"
   },
   {
    "duration": 15,
    "start_time": "2022-12-29T11:50:24.046Z"
   },
   {
    "duration": 154,
    "start_time": "2022-12-29T11:50:51.797Z"
   },
   {
    "duration": 276,
    "start_time": "2022-12-29T11:51:04.092Z"
   },
   {
    "duration": 6,
    "start_time": "2022-12-29T11:51:46.342Z"
   },
   {
    "duration": 157,
    "start_time": "2022-12-29T11:52:39.411Z"
   },
   {
    "duration": 214,
    "start_time": "2022-12-29T11:52:50.326Z"
   },
   {
    "duration": 203,
    "start_time": "2022-12-29T11:53:42.187Z"
   },
   {
    "duration": 191,
    "start_time": "2022-12-29T11:53:50.736Z"
   },
   {
    "duration": 201,
    "start_time": "2022-12-29T11:54:01.920Z"
   },
   {
    "duration": 222,
    "start_time": "2022-12-29T11:55:01.624Z"
   },
   {
    "duration": 240,
    "start_time": "2022-12-29T11:55:23.656Z"
   },
   {
    "duration": 234,
    "start_time": "2022-12-29T11:55:28.415Z"
   },
   {
    "duration": 200,
    "start_time": "2022-12-29T11:55:57.042Z"
   },
   {
    "duration": 212,
    "start_time": "2022-12-29T11:56:01.113Z"
   },
   {
    "duration": 306,
    "start_time": "2022-12-29T11:57:27.607Z"
   },
   {
    "duration": 262,
    "start_time": "2022-12-29T11:57:44.007Z"
   },
   {
    "duration": 227,
    "start_time": "2022-12-29T11:57:56.806Z"
   },
   {
    "duration": 201,
    "start_time": "2022-12-29T11:58:03.376Z"
   },
   {
    "duration": 5,
    "start_time": "2022-12-29T12:02:54.741Z"
   },
   {
    "duration": 6,
    "start_time": "2022-12-29T12:03:00.496Z"
   },
   {
    "duration": 269,
    "start_time": "2022-12-29T12:05:07.704Z"
   },
   {
    "duration": 159,
    "start_time": "2022-12-29T12:08:27.732Z"
   },
   {
    "duration": 160,
    "start_time": "2022-12-29T12:08:32.668Z"
   },
   {
    "duration": 157,
    "start_time": "2022-12-29T12:08:37.680Z"
   },
   {
    "duration": 188,
    "start_time": "2022-12-29T12:08:58.182Z"
   },
   {
    "duration": 350,
    "start_time": "2022-12-29T12:09:02.737Z"
   },
   {
    "duration": 188,
    "start_time": "2022-12-29T12:09:39.899Z"
   },
   {
    "duration": 153,
    "start_time": "2022-12-29T12:09:56.758Z"
   },
   {
    "duration": 150,
    "start_time": "2022-12-29T12:10:02.002Z"
   },
   {
    "duration": 182,
    "start_time": "2022-12-29T12:10:07.019Z"
   },
   {
    "duration": 74,
    "start_time": "2022-12-29T12:11:40.104Z"
   },
   {
    "duration": 68,
    "start_time": "2022-12-29T12:15:12.039Z"
   },
   {
    "duration": 79,
    "start_time": "2022-12-29T12:15:26.966Z"
   },
   {
    "duration": 105,
    "start_time": "2022-12-29T12:15:47.911Z"
   },
   {
    "duration": 75,
    "start_time": "2022-12-29T12:15:53.513Z"
   },
   {
    "duration": 101,
    "start_time": "2022-12-29T12:16:03.799Z"
   },
   {
    "duration": 82,
    "start_time": "2022-12-29T12:20:18.574Z"
   },
   {
    "duration": 63,
    "start_time": "2022-12-29T12:24:18.606Z"
   },
   {
    "duration": 78,
    "start_time": "2022-12-29T12:26:16.523Z"
   },
   {
    "duration": 61,
    "start_time": "2022-12-29T12:26:18.037Z"
   },
   {
    "duration": 9,
    "start_time": "2022-12-29T12:26:26.834Z"
   },
   {
    "duration": 10,
    "start_time": "2022-12-29T12:26:34.826Z"
   },
   {
    "duration": 8,
    "start_time": "2022-12-29T12:26:42.997Z"
   },
   {
    "duration": 12,
    "start_time": "2022-12-29T12:29:01.326Z"
   },
   {
    "duration": 9,
    "start_time": "2022-12-29T12:29:11.783Z"
   },
   {
    "duration": 20,
    "start_time": "2022-12-29T12:31:22.652Z"
   },
   {
    "duration": 27,
    "start_time": "2022-12-29T12:31:51.821Z"
   },
   {
    "duration": 52,
    "start_time": "2022-12-29T12:32:02.944Z"
   },
   {
    "duration": 52,
    "start_time": "2022-12-29T12:32:18.661Z"
   },
   {
    "duration": 30,
    "start_time": "2022-12-29T12:32:26.638Z"
   },
   {
    "duration": 5,
    "start_time": "2022-12-29T12:34:30.209Z"
   },
   {
    "duration": 5,
    "start_time": "2022-12-29T12:34:47.103Z"
   },
   {
    "duration": 8,
    "start_time": "2022-12-29T12:35:28.396Z"
   },
   {
    "duration": 8,
    "start_time": "2022-12-29T12:35:41.549Z"
   },
   {
    "duration": 483,
    "start_time": "2022-12-29T12:36:05.469Z"
   },
   {
    "duration": 27,
    "start_time": "2022-12-29T12:36:12.998Z"
   },
   {
    "duration": 33,
    "start_time": "2022-12-29T12:36:32.183Z"
   },
   {
    "duration": 21,
    "start_time": "2022-12-29T12:36:43.306Z"
   },
   {
    "duration": 33,
    "start_time": "2022-12-29T12:40:08.173Z"
   },
   {
    "duration": 4,
    "start_time": "2022-12-29T12:41:54.654Z"
   },
   {
    "duration": 3,
    "start_time": "2022-12-29T12:45:17.343Z"
   },
   {
    "duration": 70,
    "start_time": "2022-12-29T12:47:39.875Z"
   },
   {
    "duration": 30,
    "start_time": "2022-12-29T12:47:49.356Z"
   },
   {
    "duration": 78,
    "start_time": "2022-12-29T12:49:51.368Z"
   },
   {
    "duration": 77,
    "start_time": "2022-12-29T12:50:32.439Z"
   },
   {
    "duration": 5,
    "start_time": "2022-12-29T12:50:43.365Z"
   },
   {
    "duration": 4,
    "start_time": "2022-12-29T12:51:06.296Z"
   },
   {
    "duration": 4,
    "start_time": "2022-12-29T12:51:37.464Z"
   },
   {
    "duration": 5,
    "start_time": "2022-12-29T12:51:46.006Z"
   },
   {
    "duration": 8,
    "start_time": "2022-12-29T12:51:52.520Z"
   },
   {
    "duration": 5,
    "start_time": "2022-12-29T12:51:56.255Z"
   },
   {
    "duration": 8,
    "start_time": "2022-12-29T12:52:01.298Z"
   },
   {
    "duration": 4,
    "start_time": "2022-12-29T12:52:20.679Z"
   },
   {
    "duration": 4,
    "start_time": "2022-12-29T12:52:30.447Z"
   },
   {
    "duration": 4,
    "start_time": "2022-12-29T12:52:33.503Z"
   },
   {
    "duration": 5,
    "start_time": "2022-12-29T12:52:42.394Z"
   },
   {
    "duration": 5,
    "start_time": "2022-12-29T12:52:59.913Z"
   },
   {
    "duration": 5,
    "start_time": "2022-12-29T12:54:25.347Z"
   },
   {
    "duration": 8,
    "start_time": "2022-12-29T12:54:29.608Z"
   },
   {
    "duration": 8,
    "start_time": "2022-12-29T12:54:30.928Z"
   },
   {
    "duration": 8,
    "start_time": "2022-12-29T12:56:27.824Z"
   },
   {
    "duration": 1117,
    "start_time": "2022-12-29T13:07:56.147Z"
   },
   {
    "duration": 8,
    "start_time": "2022-12-29T13:08:08.130Z"
   },
   {
    "duration": 12,
    "start_time": "2022-12-29T13:09:00.351Z"
   },
   {
    "duration": 10,
    "start_time": "2022-12-29T13:09:09.890Z"
   },
   {
    "duration": 6,
    "start_time": "2022-12-29T13:09:28.852Z"
   },
   {
    "duration": 6,
    "start_time": "2022-12-29T13:10:05.064Z"
   },
   {
    "duration": 1249,
    "start_time": "2022-12-29T13:12:58.271Z"
   },
   {
    "duration": 1144,
    "start_time": "2022-12-29T13:13:07.880Z"
   },
   {
    "duration": 7,
    "start_time": "2022-12-29T13:13:14.199Z"
   },
   {
    "duration": 6,
    "start_time": "2022-12-29T13:13:44.161Z"
   },
   {
    "duration": 4,
    "start_time": "2022-12-29T13:14:08.591Z"
   },
   {
    "duration": 9,
    "start_time": "2022-12-29T13:14:11.136Z"
   },
   {
    "duration": 21,
    "start_time": "2022-12-29T13:14:24.776Z"
   },
   {
    "duration": 5,
    "start_time": "2022-12-29T13:15:09.178Z"
   },
   {
    "duration": 80,
    "start_time": "2022-12-29T13:15:25.446Z"
   },
   {
    "duration": 73,
    "start_time": "2022-12-29T13:15:42.955Z"
   },
   {
    "duration": 72,
    "start_time": "2022-12-29T13:15:53.252Z"
   },
   {
    "duration": 5,
    "start_time": "2022-12-29T13:16:15.331Z"
   },
   {
    "duration": 4,
    "start_time": "2022-12-29T13:16:25.116Z"
   },
   {
    "duration": 4,
    "start_time": "2022-12-29T13:16:59.474Z"
   },
   {
    "duration": 5,
    "start_time": "2022-12-29T13:20:09.200Z"
   },
   {
    "duration": 9,
    "start_time": "2022-12-29T13:20:15.406Z"
   },
   {
    "duration": 5,
    "start_time": "2022-12-29T13:20:56.068Z"
   },
   {
    "duration": 4,
    "start_time": "2022-12-29T13:21:13.515Z"
   },
   {
    "duration": 96,
    "start_time": "2022-12-29T13:21:35.884Z"
   },
   {
    "duration": 8,
    "start_time": "2022-12-29T13:22:00.822Z"
   },
   {
    "duration": 9,
    "start_time": "2022-12-29T13:22:07.115Z"
   },
   {
    "duration": 94,
    "start_time": "2022-12-29T13:22:34.063Z"
   },
   {
    "duration": 5,
    "start_time": "2022-12-29T13:22:59.214Z"
   },
   {
    "duration": 8,
    "start_time": "2022-12-29T13:23:18.836Z"
   },
   {
    "duration": 74,
    "start_time": "2022-12-29T13:24:13.333Z"
   },
   {
    "duration": 4,
    "start_time": "2022-12-29T13:29:45.878Z"
   },
   {
    "duration": 14,
    "start_time": "2022-12-29T13:34:37.993Z"
   },
   {
    "duration": 6,
    "start_time": "2022-12-29T13:34:41.929Z"
   },
   {
    "duration": 257,
    "start_time": "2022-12-29T13:34:43.380Z"
   },
   {
    "duration": 459,
    "start_time": "2022-12-29T13:36:43.904Z"
   },
   {
    "duration": 5,
    "start_time": "2022-12-29T13:38:54.406Z"
   },
   {
    "duration": 4,
    "start_time": "2022-12-29T13:38:56.040Z"
   },
   {
    "duration": 5,
    "start_time": "2022-12-29T13:38:57.471Z"
   },
   {
    "duration": 259,
    "start_time": "2022-12-29T13:38:58.899Z"
   },
   {
    "duration": 249,
    "start_time": "2022-12-29T13:39:26.275Z"
   },
   {
    "duration": 230,
    "start_time": "2022-12-29T13:39:35.922Z"
   },
   {
    "duration": 72,
    "start_time": "2022-12-29T13:50:27.827Z"
   },
   {
    "duration": 11,
    "start_time": "2022-12-29T13:50:31.701Z"
   },
   {
    "duration": 13,
    "start_time": "2022-12-29T13:51:39.056Z"
   },
   {
    "duration": 11,
    "start_time": "2022-12-29T13:51:47.948Z"
   },
   {
    "duration": 13,
    "start_time": "2022-12-29T13:51:56.021Z"
   },
   {
    "duration": 12,
    "start_time": "2022-12-29T13:52:00.415Z"
   },
   {
    "duration": 14,
    "start_time": "2022-12-29T13:52:06.352Z"
   },
   {
    "duration": 1120,
    "start_time": "2022-12-29T13:52:24.978Z"
   },
   {
    "duration": 11,
    "start_time": "2022-12-29T13:52:29.172Z"
   },
   {
    "duration": 11,
    "start_time": "2022-12-29T13:52:47.864Z"
   },
   {
    "duration": 15,
    "start_time": "2022-12-29T13:54:45.534Z"
   },
   {
    "duration": 10,
    "start_time": "2022-12-29T13:55:11.526Z"
   },
   {
    "duration": 11,
    "start_time": "2022-12-29T13:56:44.737Z"
   },
   {
    "duration": 13,
    "start_time": "2022-12-29T13:56:48.026Z"
   },
   {
    "duration": 5,
    "start_time": "2022-12-29T13:58:33.762Z"
   },
   {
    "duration": 10,
    "start_time": "2022-12-29T13:58:35.321Z"
   },
   {
    "duration": 4,
    "start_time": "2022-12-29T13:58:45.005Z"
   },
   {
    "duration": 4,
    "start_time": "2022-12-29T14:00:00.781Z"
   },
   {
    "duration": 10,
    "start_time": "2022-12-29T14:00:22.970Z"
   },
   {
    "duration": 9,
    "start_time": "2022-12-29T14:00:36.527Z"
   },
   {
    "duration": 4,
    "start_time": "2022-12-29T14:00:45.703Z"
   },
   {
    "duration": 12,
    "start_time": "2022-12-29T14:00:47.103Z"
   },
   {
    "duration": 6,
    "start_time": "2022-12-29T14:00:48.778Z"
   },
   {
    "duration": 53,
    "start_time": "2022-12-29T14:00:54.817Z"
   },
   {
    "duration": 3,
    "start_time": "2022-12-29T14:00:56.217Z"
   },
   {
    "duration": 13,
    "start_time": "2022-12-29T14:00:57.611Z"
   },
   {
    "duration": 6,
    "start_time": "2022-12-29T14:01:01.588Z"
   },
   {
    "duration": 12,
    "start_time": "2022-12-29T14:01:02.951Z"
   },
   {
    "duration": 11,
    "start_time": "2022-12-29T14:01:09.017Z"
   },
   {
    "duration": 10,
    "start_time": "2022-12-29T14:01:24.746Z"
   },
   {
    "duration": 11,
    "start_time": "2022-12-29T14:01:28.540Z"
   },
   {
    "duration": 11,
    "start_time": "2022-12-29T14:01:54.878Z"
   },
   {
    "duration": 255,
    "start_time": "2022-12-29T14:03:46.992Z"
   },
   {
    "duration": 6,
    "start_time": "2022-12-29T14:03:56.126Z"
   },
   {
    "duration": 9,
    "start_time": "2022-12-29T14:03:59.509Z"
   },
   {
    "duration": 6,
    "start_time": "2022-12-29T14:04:25.200Z"
   },
   {
    "duration": 224,
    "start_time": "2022-12-29T14:04:26.635Z"
   },
   {
    "duration": 9,
    "start_time": "2022-12-29T14:05:00.895Z"
   },
   {
    "duration": 11,
    "start_time": "2022-12-29T14:05:05.501Z"
   },
   {
    "duration": 307,
    "start_time": "2022-12-29T14:05:17.280Z"
   },
   {
    "duration": 8,
    "start_time": "2022-12-29T14:05:26.197Z"
   },
   {
    "duration": 11,
    "start_time": "2022-12-29T14:06:25.189Z"
   },
   {
    "duration": 10,
    "start_time": "2022-12-29T14:06:31.087Z"
   },
   {
    "duration": 5,
    "start_time": "2022-12-29T14:06:58.070Z"
   },
   {
    "duration": 16,
    "start_time": "2022-12-29T14:07:14.269Z"
   },
   {
    "duration": 1081,
    "start_time": "2022-12-29T14:07:55.750Z"
   },
   {
    "duration": 27,
    "start_time": "2022-12-29T14:07:56.833Z"
   },
   {
    "duration": 12,
    "start_time": "2022-12-29T14:07:56.862Z"
   },
   {
    "duration": 17,
    "start_time": "2022-12-29T14:07:56.876Z"
   },
   {
    "duration": 4,
    "start_time": "2022-12-29T14:07:56.894Z"
   },
   {
    "duration": 9,
    "start_time": "2022-12-29T14:07:56.900Z"
   },
   {
    "duration": 24,
    "start_time": "2022-12-29T14:07:56.911Z"
   },
   {
    "duration": 16,
    "start_time": "2022-12-29T14:07:56.937Z"
   },
   {
    "duration": 15,
    "start_time": "2022-12-29T14:07:56.955Z"
   },
   {
    "duration": 45,
    "start_time": "2022-12-29T14:07:56.974Z"
   },
   {
    "duration": 4,
    "start_time": "2022-12-29T14:07:57.020Z"
   },
   {
    "duration": 17,
    "start_time": "2022-12-29T14:07:57.026Z"
   },
   {
    "duration": 8,
    "start_time": "2022-12-29T14:07:57.045Z"
   },
   {
    "duration": 14,
    "start_time": "2022-12-29T14:07:57.055Z"
   },
   {
    "duration": 11,
    "start_time": "2022-12-29T14:07:57.072Z"
   },
   {
    "duration": 16,
    "start_time": "2022-12-29T14:07:57.085Z"
   },
   {
    "duration": 12,
    "start_time": "2022-12-29T14:07:57.122Z"
   },
   {
    "duration": 114,
    "start_time": "2022-12-29T14:07:57.136Z"
   },
   {
    "duration": 0,
    "start_time": "2022-12-29T14:07:57.253Z"
   },
   {
    "duration": 0,
    "start_time": "2022-12-29T14:07:57.254Z"
   },
   {
    "duration": 0,
    "start_time": "2022-12-29T14:07:57.255Z"
   },
   {
    "duration": 0,
    "start_time": "2022-12-29T14:07:57.256Z"
   },
   {
    "duration": 0,
    "start_time": "2022-12-29T14:07:57.258Z"
   },
   {
    "duration": 0,
    "start_time": "2022-12-29T14:07:57.259Z"
   },
   {
    "duration": 0,
    "start_time": "2022-12-29T14:07:57.260Z"
   },
   {
    "duration": 0,
    "start_time": "2022-12-29T14:07:57.261Z"
   },
   {
    "duration": 0,
    "start_time": "2022-12-29T14:07:57.262Z"
   },
   {
    "duration": 0,
    "start_time": "2022-12-29T14:07:57.263Z"
   },
   {
    "duration": 0,
    "start_time": "2022-12-29T14:07:57.264Z"
   },
   {
    "duration": 0,
    "start_time": "2022-12-29T14:07:57.265Z"
   },
   {
    "duration": 0,
    "start_time": "2022-12-29T14:07:57.266Z"
   },
   {
    "duration": 0,
    "start_time": "2022-12-29T14:07:57.268Z"
   },
   {
    "duration": 0,
    "start_time": "2022-12-29T14:07:57.269Z"
   },
   {
    "duration": 0,
    "start_time": "2022-12-29T14:07:57.270Z"
   },
   {
    "duration": 0,
    "start_time": "2022-12-29T14:07:57.271Z"
   },
   {
    "duration": 0,
    "start_time": "2022-12-29T14:07:57.272Z"
   },
   {
    "duration": 0,
    "start_time": "2022-12-29T14:07:57.273Z"
   },
   {
    "duration": 1,
    "start_time": "2022-12-29T14:07:57.273Z"
   },
   {
    "duration": 0,
    "start_time": "2022-12-29T14:07:57.274Z"
   },
   {
    "duration": 0,
    "start_time": "2022-12-29T14:07:57.275Z"
   },
   {
    "duration": 0,
    "start_time": "2022-12-29T14:07:57.276Z"
   },
   {
    "duration": 0,
    "start_time": "2022-12-29T14:07:57.277Z"
   },
   {
    "duration": 0,
    "start_time": "2022-12-29T14:07:57.322Z"
   },
   {
    "duration": 0,
    "start_time": "2022-12-29T14:07:57.323Z"
   },
   {
    "duration": 0,
    "start_time": "2022-12-29T14:07:57.324Z"
   },
   {
    "duration": 0,
    "start_time": "2022-12-29T14:07:57.325Z"
   },
   {
    "duration": 0,
    "start_time": "2022-12-29T14:07:57.327Z"
   },
   {
    "duration": 0,
    "start_time": "2022-12-29T14:07:57.328Z"
   },
   {
    "duration": 0,
    "start_time": "2022-12-29T14:07:57.331Z"
   },
   {
    "duration": 0,
    "start_time": "2022-12-29T14:07:57.332Z"
   },
   {
    "duration": 0,
    "start_time": "2022-12-29T14:07:57.334Z"
   },
   {
    "duration": 0,
    "start_time": "2022-12-29T14:07:57.335Z"
   },
   {
    "duration": 0,
    "start_time": "2022-12-29T14:07:57.336Z"
   },
   {
    "duration": 0,
    "start_time": "2022-12-29T14:07:57.337Z"
   },
   {
    "duration": 0,
    "start_time": "2022-12-29T14:07:57.337Z"
   },
   {
    "duration": 0,
    "start_time": "2022-12-29T14:07:57.338Z"
   },
   {
    "duration": 0,
    "start_time": "2022-12-29T14:07:57.339Z"
   },
   {
    "duration": 0,
    "start_time": "2022-12-29T14:07:57.340Z"
   },
   {
    "duration": 0,
    "start_time": "2022-12-29T14:07:57.341Z"
   },
   {
    "duration": 0,
    "start_time": "2022-12-29T14:07:57.342Z"
   },
   {
    "duration": 0,
    "start_time": "2022-12-29T14:07:57.343Z"
   },
   {
    "duration": 0,
    "start_time": "2022-12-29T14:07:57.344Z"
   },
   {
    "duration": 0,
    "start_time": "2022-12-29T14:07:57.345Z"
   },
   {
    "duration": 0,
    "start_time": "2022-12-29T14:07:57.346Z"
   },
   {
    "duration": 0,
    "start_time": "2022-12-29T14:07:57.347Z"
   },
   {
    "duration": 0,
    "start_time": "2022-12-29T14:07:57.348Z"
   },
   {
    "duration": 0,
    "start_time": "2022-12-29T14:07:57.348Z"
   },
   {
    "duration": 0,
    "start_time": "2022-12-29T14:07:57.350Z"
   },
   {
    "duration": 0,
    "start_time": "2022-12-29T14:07:57.350Z"
   },
   {
    "duration": 0,
    "start_time": "2022-12-29T14:07:57.351Z"
   },
   {
    "duration": 0,
    "start_time": "2022-12-29T14:07:57.352Z"
   },
   {
    "duration": 0,
    "start_time": "2022-12-29T14:07:57.353Z"
   },
   {
    "duration": 0,
    "start_time": "2022-12-29T14:07:57.353Z"
   },
   {
    "duration": 0,
    "start_time": "2022-12-29T14:07:57.354Z"
   },
   {
    "duration": 0,
    "start_time": "2022-12-29T14:07:57.355Z"
   },
   {
    "duration": 0,
    "start_time": "2022-12-29T14:07:57.356Z"
   },
   {
    "duration": 0,
    "start_time": "2022-12-29T14:07:57.356Z"
   },
   {
    "duration": 0,
    "start_time": "2022-12-29T14:07:57.357Z"
   },
   {
    "duration": 0,
    "start_time": "2022-12-29T14:07:57.358Z"
   },
   {
    "duration": 12,
    "start_time": "2022-12-29T14:08:26.656Z"
   },
   {
    "duration": 35,
    "start_time": "2022-12-29T14:08:26.670Z"
   },
   {
    "duration": 11,
    "start_time": "2022-12-29T14:08:26.706Z"
   },
   {
    "duration": 10,
    "start_time": "2022-12-29T14:08:26.718Z"
   },
   {
    "duration": 20,
    "start_time": "2022-12-29T14:08:26.731Z"
   },
   {
    "duration": 17,
    "start_time": "2022-12-29T14:08:26.753Z"
   },
   {
    "duration": 171,
    "start_time": "2022-12-29T14:08:26.772Z"
   },
   {
    "duration": 121,
    "start_time": "2022-12-29T14:08:26.945Z"
   },
   {
    "duration": 6,
    "start_time": "2022-12-29T14:08:27.067Z"
   },
   {
    "duration": 12,
    "start_time": "2022-12-29T14:08:27.074Z"
   },
   {
    "duration": 13,
    "start_time": "2022-12-29T14:08:27.088Z"
   },
   {
    "duration": 29,
    "start_time": "2022-12-29T14:08:27.102Z"
   },
   {
    "duration": 0,
    "start_time": "2022-12-29T14:08:27.134Z"
   },
   {
    "duration": 0,
    "start_time": "2022-12-29T14:08:27.135Z"
   },
   {
    "duration": 0,
    "start_time": "2022-12-29T14:08:27.136Z"
   },
   {
    "duration": 0,
    "start_time": "2022-12-29T14:08:27.137Z"
   },
   {
    "duration": 0,
    "start_time": "2022-12-29T14:08:27.138Z"
   },
   {
    "duration": 0,
    "start_time": "2022-12-29T14:08:27.139Z"
   },
   {
    "duration": 0,
    "start_time": "2022-12-29T14:08:27.140Z"
   },
   {
    "duration": 0,
    "start_time": "2022-12-29T14:08:27.142Z"
   },
   {
    "duration": 0,
    "start_time": "2022-12-29T14:08:27.143Z"
   },
   {
    "duration": 0,
    "start_time": "2022-12-29T14:08:27.144Z"
   },
   {
    "duration": 0,
    "start_time": "2022-12-29T14:08:27.145Z"
   },
   {
    "duration": 0,
    "start_time": "2022-12-29T14:08:27.147Z"
   },
   {
    "duration": 0,
    "start_time": "2022-12-29T14:08:27.148Z"
   },
   {
    "duration": 0,
    "start_time": "2022-12-29T14:08:27.149Z"
   },
   {
    "duration": 0,
    "start_time": "2022-12-29T14:08:27.151Z"
   },
   {
    "duration": 0,
    "start_time": "2022-12-29T14:08:27.152Z"
   },
   {
    "duration": 0,
    "start_time": "2022-12-29T14:08:27.153Z"
   },
   {
    "duration": 0,
    "start_time": "2022-12-29T14:08:27.155Z"
   },
   {
    "duration": 0,
    "start_time": "2022-12-29T14:08:27.156Z"
   },
   {
    "duration": 0,
    "start_time": "2022-12-29T14:08:27.157Z"
   },
   {
    "duration": 1,
    "start_time": "2022-12-29T14:08:27.158Z"
   },
   {
    "duration": 0,
    "start_time": "2022-12-29T14:08:27.160Z"
   },
   {
    "duration": 0,
    "start_time": "2022-12-29T14:08:27.161Z"
   },
   {
    "duration": 0,
    "start_time": "2022-12-29T14:08:27.162Z"
   },
   {
    "duration": 0,
    "start_time": "2022-12-29T14:08:27.163Z"
   },
   {
    "duration": 0,
    "start_time": "2022-12-29T14:08:27.164Z"
   },
   {
    "duration": 0,
    "start_time": "2022-12-29T14:08:27.165Z"
   },
   {
    "duration": 0,
    "start_time": "2022-12-29T14:08:27.166Z"
   },
   {
    "duration": 0,
    "start_time": "2022-12-29T14:08:27.222Z"
   },
   {
    "duration": 0,
    "start_time": "2022-12-29T14:08:27.224Z"
   },
   {
    "duration": 0,
    "start_time": "2022-12-29T14:08:27.224Z"
   },
   {
    "duration": 0,
    "start_time": "2022-12-29T14:08:27.226Z"
   },
   {
    "duration": 0,
    "start_time": "2022-12-29T14:08:27.227Z"
   },
   {
    "duration": 0,
    "start_time": "2022-12-29T14:08:27.228Z"
   },
   {
    "duration": 0,
    "start_time": "2022-12-29T14:08:27.229Z"
   },
   {
    "duration": 0,
    "start_time": "2022-12-29T14:08:27.230Z"
   },
   {
    "duration": 0,
    "start_time": "2022-12-29T14:08:27.232Z"
   },
   {
    "duration": 0,
    "start_time": "2022-12-29T14:08:27.232Z"
   },
   {
    "duration": 0,
    "start_time": "2022-12-29T14:08:27.234Z"
   },
   {
    "duration": 0,
    "start_time": "2022-12-29T14:08:27.235Z"
   },
   {
    "duration": 0,
    "start_time": "2022-12-29T14:08:27.236Z"
   },
   {
    "duration": 0,
    "start_time": "2022-12-29T14:08:27.237Z"
   },
   {
    "duration": 0,
    "start_time": "2022-12-29T14:08:27.238Z"
   },
   {
    "duration": 0,
    "start_time": "2022-12-29T14:08:27.239Z"
   },
   {
    "duration": 0,
    "start_time": "2022-12-29T14:08:27.240Z"
   },
   {
    "duration": 0,
    "start_time": "2022-12-29T14:08:27.240Z"
   },
   {
    "duration": 0,
    "start_time": "2022-12-29T14:08:27.242Z"
   },
   {
    "duration": 0,
    "start_time": "2022-12-29T14:08:27.243Z"
   },
   {
    "duration": 0,
    "start_time": "2022-12-29T14:08:27.244Z"
   },
   {
    "duration": 0,
    "start_time": "2022-12-29T14:08:27.245Z"
   },
   {
    "duration": 317,
    "start_time": "2022-12-29T14:08:42.880Z"
   },
   {
    "duration": 267,
    "start_time": "2022-12-29T14:08:46.100Z"
   },
   {
    "duration": 246,
    "start_time": "2022-12-29T14:08:46.369Z"
   },
   {
    "duration": 10,
    "start_time": "2022-12-29T14:08:46.617Z"
   },
   {
    "duration": 13,
    "start_time": "2022-12-29T14:08:46.629Z"
   },
   {
    "duration": 336,
    "start_time": "2022-12-29T14:08:46.644Z"
   },
   {
    "duration": 4,
    "start_time": "2022-12-29T14:08:46.982Z"
   },
   {
    "duration": 10,
    "start_time": "2022-12-29T14:08:46.988Z"
   },
   {
    "duration": 256,
    "start_time": "2022-12-29T14:08:47.000Z"
   },
   {
    "duration": 8,
    "start_time": "2022-12-29T14:08:47.257Z"
   },
   {
    "duration": 14,
    "start_time": "2022-12-29T14:08:47.268Z"
   },
   {
    "duration": 359,
    "start_time": "2022-12-29T14:08:47.283Z"
   },
   {
    "duration": 12,
    "start_time": "2022-12-29T14:08:47.643Z"
   },
   {
    "duration": 119,
    "start_time": "2022-12-29T14:08:47.657Z"
   },
   {
    "duration": 121,
    "start_time": "2022-12-29T14:08:47.778Z"
   },
   {
    "duration": 5,
    "start_time": "2022-12-29T14:08:47.901Z"
   },
   {
    "duration": 18,
    "start_time": "2022-12-29T14:08:47.907Z"
   },
   {
    "duration": 274,
    "start_time": "2022-12-29T14:08:47.927Z"
   },
   {
    "duration": 263,
    "start_time": "2022-12-29T14:08:48.203Z"
   },
   {
    "duration": 159,
    "start_time": "2022-12-29T14:08:48.468Z"
   },
   {
    "duration": 169,
    "start_time": "2022-12-29T14:08:48.629Z"
   },
   {
    "duration": 5,
    "start_time": "2022-12-29T14:08:48.799Z"
   },
   {
    "duration": 60,
    "start_time": "2022-12-29T14:08:48.806Z"
   },
   {
    "duration": 59,
    "start_time": "2022-12-29T14:08:48.867Z"
   },
   {
    "duration": 67,
    "start_time": "2022-12-29T14:08:48.928Z"
   },
   {
    "duration": 9,
    "start_time": "2022-12-29T14:08:48.997Z"
   },
   {
    "duration": 12,
    "start_time": "2022-12-29T14:08:49.022Z"
   },
   {
    "duration": 77,
    "start_time": "2022-12-29T14:08:49.036Z"
   },
   {
    "duration": 9,
    "start_time": "2022-12-29T14:08:49.126Z"
   },
   {
    "duration": 18,
    "start_time": "2022-12-29T14:08:49.137Z"
   },
   {
    "duration": 52,
    "start_time": "2022-12-29T14:08:49.157Z"
   },
   {
    "duration": 156,
    "start_time": "2022-12-29T14:08:49.222Z"
   },
   {
    "duration": 87,
    "start_time": "2022-12-29T14:08:49.381Z"
   },
   {
    "duration": 5,
    "start_time": "2022-12-29T14:08:49.470Z"
   },
   {
    "duration": 7,
    "start_time": "2022-12-29T14:08:49.477Z"
   },
   {
    "duration": 7,
    "start_time": "2022-12-29T14:08:49.486Z"
   },
   {
    "duration": 42,
    "start_time": "2022-12-29T14:08:49.494Z"
   },
   {
    "duration": 4,
    "start_time": "2022-12-29T14:08:49.538Z"
   },
   {
    "duration": 7,
    "start_time": "2022-12-29T14:08:49.544Z"
   },
   {
    "duration": 9,
    "start_time": "2022-12-29T14:08:49.552Z"
   },
   {
    "duration": 8,
    "start_time": "2022-12-29T14:08:49.563Z"
   },
   {
    "duration": 10,
    "start_time": "2022-12-29T14:08:49.572Z"
   },
   {
    "duration": 8,
    "start_time": "2022-12-29T14:08:49.585Z"
   },
   {
    "duration": 34,
    "start_time": "2022-12-29T14:08:49.595Z"
   },
   {
    "duration": 7,
    "start_time": "2022-12-29T14:08:49.631Z"
   },
   {
    "duration": 12,
    "start_time": "2022-12-29T14:08:49.640Z"
   },
   {
    "duration": 32,
    "start_time": "2022-12-29T14:08:49.654Z"
   },
   {
    "duration": 4,
    "start_time": "2022-12-29T14:08:49.688Z"
   },
   {
    "duration": 32,
    "start_time": "2022-12-29T14:08:49.694Z"
   },
   {
    "duration": 10,
    "start_time": "2022-12-29T14:08:49.728Z"
   },
   {
    "duration": 4,
    "start_time": "2022-12-29T14:08:49.740Z"
   },
   {
    "duration": 12,
    "start_time": "2022-12-29T14:08:49.745Z"
   },
   {
    "duration": 340,
    "start_time": "2022-12-29T14:10:12.153Z"
   },
   {
    "duration": 305,
    "start_time": "2022-12-29T14:10:16.572Z"
   },
   {
    "duration": 381,
    "start_time": "2022-12-29T14:10:20.875Z"
   },
   {
    "duration": 373,
    "start_time": "2022-12-29T14:10:24.155Z"
   },
   {
    "duration": 13,
    "start_time": "2022-12-29T14:18:50.033Z"
   },
   {
    "duration": 1372,
    "start_time": "2022-12-29T14:22:31.250Z"
   },
   {
    "duration": 29,
    "start_time": "2022-12-29T14:22:32.625Z"
   },
   {
    "duration": 212,
    "start_time": "2022-12-29T14:22:32.656Z"
   },
   {
    "duration": 13,
    "start_time": "2022-12-29T14:22:32.871Z"
   },
   {
    "duration": 3,
    "start_time": "2022-12-29T14:22:32.886Z"
   },
   {
    "duration": 8,
    "start_time": "2022-12-29T14:22:32.891Z"
   },
   {
    "duration": 11,
    "start_time": "2022-12-29T14:22:32.900Z"
   },
   {
    "duration": 16,
    "start_time": "2022-12-29T14:22:32.912Z"
   },
   {
    "duration": 19,
    "start_time": "2022-12-29T14:22:32.929Z"
   },
   {
    "duration": 45,
    "start_time": "2022-12-29T14:22:32.950Z"
   },
   {
    "duration": 3,
    "start_time": "2022-12-29T14:22:32.997Z"
   },
   {
    "duration": 13,
    "start_time": "2022-12-29T14:22:33.002Z"
   },
   {
    "duration": 12,
    "start_time": "2022-12-29T14:22:33.016Z"
   },
   {
    "duration": 18,
    "start_time": "2022-12-29T14:22:33.030Z"
   },
   {
    "duration": 15,
    "start_time": "2022-12-29T14:22:33.049Z"
   },
   {
    "duration": 10,
    "start_time": "2022-12-29T14:22:33.065Z"
   },
   {
    "duration": 20,
    "start_time": "2022-12-29T14:22:33.077Z"
   },
   {
    "duration": 10,
    "start_time": "2022-12-29T14:22:33.099Z"
   },
   {
    "duration": 7,
    "start_time": "2022-12-29T14:22:33.111Z"
   },
   {
    "duration": 13,
    "start_time": "2022-12-29T14:22:33.122Z"
   },
   {
    "duration": 10,
    "start_time": "2022-12-29T14:22:33.136Z"
   },
   {
    "duration": 172,
    "start_time": "2022-12-29T14:22:33.148Z"
   },
   {
    "duration": 139,
    "start_time": "2022-12-29T14:22:33.322Z"
   },
   {
    "duration": 6,
    "start_time": "2022-12-29T14:22:33.463Z"
   },
   {
    "duration": 18,
    "start_time": "2022-12-29T14:22:33.471Z"
   },
   {
    "duration": 8,
    "start_time": "2022-12-29T14:22:33.491Z"
   },
   {
    "duration": 366,
    "start_time": "2022-12-29T14:22:33.500Z"
   },
   {
    "duration": 319,
    "start_time": "2022-12-29T14:22:33.872Z"
   },
   {
    "duration": 8,
    "start_time": "2022-12-29T14:22:34.194Z"
   },
   {
    "duration": 24,
    "start_time": "2022-12-29T14:22:34.204Z"
   },
   {
    "duration": 376,
    "start_time": "2022-12-29T14:22:34.231Z"
   },
   {
    "duration": 15,
    "start_time": "2022-12-29T14:22:34.608Z"
   },
   {
    "duration": 4,
    "start_time": "2022-12-29T14:22:34.625Z"
   },
   {
    "duration": 234,
    "start_time": "2022-12-29T14:22:34.630Z"
   },
   {
    "duration": 8,
    "start_time": "2022-12-29T14:22:34.866Z"
   },
   {
    "duration": 16,
    "start_time": "2022-12-29T14:22:34.875Z"
   },
   {
    "duration": 372,
    "start_time": "2022-12-29T14:22:34.893Z"
   },
   {
    "duration": 14,
    "start_time": "2022-12-29T14:22:35.267Z"
   },
   {
    "duration": 123,
    "start_time": "2022-12-29T14:22:35.282Z"
   },
   {
    "duration": 119,
    "start_time": "2022-12-29T14:22:35.407Z"
   },
   {
    "duration": 5,
    "start_time": "2022-12-29T14:22:35.528Z"
   },
   {
    "duration": 18,
    "start_time": "2022-12-29T14:22:35.535Z"
   },
   {
    "duration": 203,
    "start_time": "2022-12-29T14:22:35.555Z"
   },
   {
    "duration": 345,
    "start_time": "2022-12-29T14:22:35.760Z"
   },
   {
    "duration": 155,
    "start_time": "2022-12-29T14:22:36.107Z"
   },
   {
    "duration": 155,
    "start_time": "2022-12-29T14:22:36.264Z"
   },
   {
    "duration": 6,
    "start_time": "2022-12-29T14:22:36.422Z"
   },
   {
    "duration": 53,
    "start_time": "2022-12-29T14:22:36.430Z"
   },
   {
    "duration": 87,
    "start_time": "2022-12-29T14:22:36.485Z"
   },
   {
    "duration": 74,
    "start_time": "2022-12-29T14:22:36.573Z"
   },
   {
    "duration": 7,
    "start_time": "2022-12-29T14:22:36.649Z"
   },
   {
    "duration": 12,
    "start_time": "2022-12-29T14:22:36.659Z"
   },
   {
    "duration": 72,
    "start_time": "2022-12-29T14:22:36.673Z"
   },
   {
    "duration": 8,
    "start_time": "2022-12-29T14:22:36.747Z"
   },
   {
    "duration": 9,
    "start_time": "2022-12-29T14:22:36.757Z"
   },
   {
    "duration": 32,
    "start_time": "2022-12-29T14:22:36.768Z"
   },
   {
    "duration": 78,
    "start_time": "2022-12-29T14:22:36.822Z"
   },
   {
    "duration": 109,
    "start_time": "2022-12-29T14:22:36.902Z"
   },
   {
    "duration": 13,
    "start_time": "2022-12-29T14:22:37.013Z"
   },
   {
    "duration": 7,
    "start_time": "2022-12-29T14:22:37.028Z"
   },
   {
    "duration": 4,
    "start_time": "2022-12-29T14:22:37.037Z"
   },
   {
    "duration": 22,
    "start_time": "2022-12-29T14:22:37.043Z"
   },
   {
    "duration": 5,
    "start_time": "2022-12-29T14:22:37.066Z"
   },
   {
    "duration": 11,
    "start_time": "2022-12-29T14:22:37.072Z"
   },
   {
    "duration": 10,
    "start_time": "2022-12-29T14:22:37.085Z"
   },
   {
    "duration": 26,
    "start_time": "2022-12-29T14:22:37.097Z"
   },
   {
    "duration": 14,
    "start_time": "2022-12-29T14:22:37.125Z"
   },
   {
    "duration": 7,
    "start_time": "2022-12-29T14:22:37.140Z"
   },
   {
    "duration": 9,
    "start_time": "2022-12-29T14:22:37.149Z"
   },
   {
    "duration": 15,
    "start_time": "2022-12-29T14:22:37.159Z"
   },
   {
    "duration": 7,
    "start_time": "2022-12-29T14:22:37.176Z"
   },
   {
    "duration": 24,
    "start_time": "2022-12-29T14:22:37.184Z"
   },
   {
    "duration": 13,
    "start_time": "2022-12-29T14:22:37.209Z"
   },
   {
    "duration": 5,
    "start_time": "2022-12-29T14:22:37.223Z"
   },
   {
    "duration": 13,
    "start_time": "2022-12-29T14:22:37.229Z"
   },
   {
    "duration": 4,
    "start_time": "2022-12-29T14:22:37.244Z"
   },
   {
    "duration": 13,
    "start_time": "2022-12-29T14:22:37.250Z"
   },
   {
    "duration": 1111,
    "start_time": "2022-12-29T14:34:44.207Z"
   },
   {
    "duration": 45,
    "start_time": "2022-12-29T14:34:45.322Z"
   },
   {
    "duration": 12,
    "start_time": "2022-12-29T14:34:45.369Z"
   },
   {
    "duration": 29,
    "start_time": "2022-12-29T14:34:45.384Z"
   },
   {
    "duration": 12,
    "start_time": "2022-12-29T14:34:45.415Z"
   },
   {
    "duration": 13,
    "start_time": "2022-12-29T14:34:45.429Z"
   },
   {
    "duration": 11,
    "start_time": "2022-12-29T14:34:45.444Z"
   },
   {
    "duration": 18,
    "start_time": "2022-12-29T14:34:45.457Z"
   },
   {
    "duration": 15,
    "start_time": "2022-12-29T14:34:45.477Z"
   },
   {
    "duration": 73,
    "start_time": "2022-12-29T14:34:45.495Z"
   },
   {
    "duration": 3,
    "start_time": "2022-12-29T14:34:45.570Z"
   },
   {
    "duration": 18,
    "start_time": "2022-12-29T14:34:45.575Z"
   },
   {
    "duration": 9,
    "start_time": "2022-12-29T14:34:45.594Z"
   },
   {
    "duration": 19,
    "start_time": "2022-12-29T14:34:45.605Z"
   },
   {
    "duration": 17,
    "start_time": "2022-12-29T14:34:45.626Z"
   },
   {
    "duration": 9,
    "start_time": "2022-12-29T14:34:45.645Z"
   },
   {
    "duration": 42,
    "start_time": "2022-12-29T14:34:45.656Z"
   },
   {
    "duration": 11,
    "start_time": "2022-12-29T14:34:45.699Z"
   },
   {
    "duration": 10,
    "start_time": "2022-12-29T14:34:45.711Z"
   },
   {
    "duration": 14,
    "start_time": "2022-12-29T14:34:45.722Z"
   },
   {
    "duration": 10,
    "start_time": "2022-12-29T14:34:45.738Z"
   },
   {
    "duration": 182,
    "start_time": "2022-12-29T14:34:45.750Z"
   },
   {
    "duration": 149,
    "start_time": "2022-12-29T14:34:45.934Z"
   },
   {
    "duration": 7,
    "start_time": "2022-12-29T14:34:46.085Z"
   },
   {
    "duration": 16,
    "start_time": "2022-12-29T14:34:46.093Z"
   },
   {
    "duration": 17,
    "start_time": "2022-12-29T14:34:46.110Z"
   },
   {
    "duration": 339,
    "start_time": "2022-12-29T14:34:46.129Z"
   },
   {
    "duration": 256,
    "start_time": "2022-12-29T14:34:46.472Z"
   },
   {
    "duration": 6,
    "start_time": "2022-12-29T14:34:46.730Z"
   },
   {
    "duration": 15,
    "start_time": "2022-12-29T14:34:46.738Z"
   },
   {
    "duration": 370,
    "start_time": "2022-12-29T14:34:46.755Z"
   },
   {
    "duration": 4,
    "start_time": "2022-12-29T14:34:47.127Z"
   },
   {
    "duration": 20,
    "start_time": "2022-12-29T14:34:47.132Z"
   },
   {
    "duration": 252,
    "start_time": "2022-12-29T14:34:47.154Z"
   },
   {
    "duration": 16,
    "start_time": "2022-12-29T14:34:47.407Z"
   },
   {
    "duration": 20,
    "start_time": "2022-12-29T14:34:47.424Z"
   },
   {
    "duration": 323,
    "start_time": "2022-12-29T14:34:47.445Z"
   },
   {
    "duration": 14,
    "start_time": "2022-12-29T14:34:47.769Z"
   },
   {
    "duration": 140,
    "start_time": "2022-12-29T14:34:47.785Z"
   },
   {
    "duration": 123,
    "start_time": "2022-12-29T14:34:47.927Z"
   },
   {
    "duration": 6,
    "start_time": "2022-12-29T14:34:48.052Z"
   },
   {
    "duration": 17,
    "start_time": "2022-12-29T14:34:48.059Z"
   },
   {
    "duration": 215,
    "start_time": "2022-12-29T14:34:48.078Z"
   },
   {
    "duration": 342,
    "start_time": "2022-12-29T14:34:48.294Z"
   },
   {
    "duration": 156,
    "start_time": "2022-12-29T14:34:48.638Z"
   },
   {
    "duration": 173,
    "start_time": "2022-12-29T14:34:48.796Z"
   },
   {
    "duration": 6,
    "start_time": "2022-12-29T14:34:48.970Z"
   },
   {
    "duration": 78,
    "start_time": "2022-12-29T14:34:48.979Z"
   },
   {
    "duration": 72,
    "start_time": "2022-12-29T14:34:49.059Z"
   },
   {
    "duration": 91,
    "start_time": "2022-12-29T14:34:49.133Z"
   },
   {
    "duration": 8,
    "start_time": "2022-12-29T14:34:49.226Z"
   },
   {
    "duration": 22,
    "start_time": "2022-12-29T14:34:49.236Z"
   },
   {
    "duration": 73,
    "start_time": "2022-12-29T14:34:49.260Z"
   },
   {
    "duration": 7,
    "start_time": "2022-12-29T14:34:49.335Z"
   },
   {
    "duration": 19,
    "start_time": "2022-12-29T14:34:49.343Z"
   },
   {
    "duration": 34,
    "start_time": "2022-12-29T14:34:49.364Z"
   },
   {
    "duration": 79,
    "start_time": "2022-12-29T14:34:49.400Z"
   },
   {
    "duration": 100,
    "start_time": "2022-12-29T14:34:49.480Z"
   },
   {
    "duration": 5,
    "start_time": "2022-12-29T14:34:49.581Z"
   },
   {
    "duration": 15,
    "start_time": "2022-12-29T14:34:49.588Z"
   },
   {
    "duration": 16,
    "start_time": "2022-12-29T14:34:49.605Z"
   },
   {
    "duration": 28,
    "start_time": "2022-12-29T14:34:49.623Z"
   },
   {
    "duration": 6,
    "start_time": "2022-12-29T14:34:49.653Z"
   },
   {
    "duration": 17,
    "start_time": "2022-12-29T14:34:49.661Z"
   },
   {
    "duration": 13,
    "start_time": "2022-12-29T14:34:49.680Z"
   },
   {
    "duration": 6,
    "start_time": "2022-12-29T14:34:49.695Z"
   },
   {
    "duration": 23,
    "start_time": "2022-12-29T14:34:49.702Z"
   },
   {
    "duration": 17,
    "start_time": "2022-12-29T14:34:49.727Z"
   },
   {
    "duration": 9,
    "start_time": "2022-12-29T14:34:49.746Z"
   },
   {
    "duration": 13,
    "start_time": "2022-12-29T14:34:49.756Z"
   },
   {
    "duration": 15,
    "start_time": "2022-12-29T14:34:49.770Z"
   },
   {
    "duration": 32,
    "start_time": "2022-12-29T14:34:49.787Z"
   },
   {
    "duration": 6,
    "start_time": "2022-12-29T14:34:49.821Z"
   },
   {
    "duration": 24,
    "start_time": "2022-12-29T14:34:49.829Z"
   },
   {
    "duration": 24,
    "start_time": "2022-12-29T14:34:49.855Z"
   },
   {
    "duration": 15,
    "start_time": "2022-12-29T14:34:49.881Z"
   },
   {
    "duration": 25,
    "start_time": "2022-12-29T14:34:49.898Z"
   },
   {
    "duration": 45,
    "start_time": "2022-12-29T16:43:20.594Z"
   },
   {
    "duration": 1178,
    "start_time": "2022-12-29T16:43:27.854Z"
   },
   {
    "duration": 60,
    "start_time": "2022-12-29T16:43:29.034Z"
   },
   {
    "duration": 12,
    "start_time": "2022-12-29T16:43:29.096Z"
   },
   {
    "duration": 14,
    "start_time": "2022-12-29T16:43:29.109Z"
   },
   {
    "duration": 3,
    "start_time": "2022-12-29T16:43:29.125Z"
   },
   {
    "duration": 8,
    "start_time": "2022-12-29T16:43:29.129Z"
   },
   {
    "duration": 9,
    "start_time": "2022-12-29T16:43:29.139Z"
   },
   {
    "duration": 9,
    "start_time": "2022-12-29T16:43:29.149Z"
   },
   {
    "duration": 8,
    "start_time": "2022-12-29T16:43:29.160Z"
   },
   {
    "duration": 90,
    "start_time": "2022-12-29T16:43:29.169Z"
   },
   {
    "duration": 4,
    "start_time": "2022-12-29T16:43:29.260Z"
   },
   {
    "duration": 16,
    "start_time": "2022-12-29T16:43:29.266Z"
   },
   {
    "duration": 7,
    "start_time": "2022-12-29T16:43:29.284Z"
   },
   {
    "duration": 12,
    "start_time": "2022-12-29T16:43:29.294Z"
   },
   {
    "duration": 12,
    "start_time": "2022-12-29T16:43:29.308Z"
   },
   {
    "duration": 10,
    "start_time": "2022-12-29T16:43:29.322Z"
   },
   {
    "duration": 14,
    "start_time": "2022-12-29T16:43:34.829Z"
   },
   {
    "duration": 14,
    "start_time": "2022-12-29T16:43:43.797Z"
   },
   {
    "duration": 9,
    "start_time": "2022-12-29T16:44:19.369Z"
   },
   {
    "duration": 10,
    "start_time": "2022-12-29T16:45:02.340Z"
   },
   {
    "duration": 7,
    "start_time": "2022-12-29T16:45:54.963Z"
   },
   {
    "duration": 15,
    "start_time": "2022-12-29T16:46:02.994Z"
   },
   {
    "duration": 29,
    "start_time": "2022-12-29T16:46:32.677Z"
   },
   {
    "duration": 14,
    "start_time": "2022-12-29T16:46:59.417Z"
   },
   {
    "duration": 5,
    "start_time": "2022-12-29T16:47:05.926Z"
   },
   {
    "duration": 13,
    "start_time": "2022-12-29T16:47:14.817Z"
   },
   {
    "duration": 5,
    "start_time": "2022-12-29T16:47:29.974Z"
   },
   {
    "duration": 10,
    "start_time": "2022-12-29T16:48:05.357Z"
   },
   {
    "duration": 10,
    "start_time": "2022-12-29T16:48:41.488Z"
   },
   {
    "duration": 60,
    "start_time": "2022-12-29T16:49:41.849Z"
   },
   {
    "duration": 10,
    "start_time": "2022-12-29T16:51:08.374Z"
   },
   {
    "duration": 14,
    "start_time": "2022-12-29T16:53:50.593Z"
   },
   {
    "duration": 4,
    "start_time": "2022-12-29T16:53:54.354Z"
   },
   {
    "duration": 48,
    "start_time": "2022-12-29T16:54:51.145Z"
   },
   {
    "duration": 7,
    "start_time": "2022-12-29T16:54:54.863Z"
   },
   {
    "duration": 6,
    "start_time": "2022-12-29T16:55:40.369Z"
   },
   {
    "duration": 7,
    "start_time": "2022-12-29T16:56:35.882Z"
   },
   {
    "duration": 14,
    "start_time": "2022-12-29T16:56:49.108Z"
   },
   {
    "duration": 8,
    "start_time": "2022-12-29T16:57:34.460Z"
   },
   {
    "duration": 8,
    "start_time": "2022-12-29T16:57:43.503Z"
   },
   {
    "duration": 8,
    "start_time": "2022-12-29T16:58:24.212Z"
   },
   {
    "duration": 7,
    "start_time": "2022-12-29T16:59:33.008Z"
   },
   {
    "duration": 7,
    "start_time": "2022-12-29T16:59:52.176Z"
   },
   {
    "duration": 12,
    "start_time": "2022-12-29T16:59:55.333Z"
   },
   {
    "duration": 6,
    "start_time": "2022-12-29T16:59:58.425Z"
   },
   {
    "duration": 6,
    "start_time": "2022-12-29T17:00:12.214Z"
   },
   {
    "duration": 6,
    "start_time": "2022-12-29T17:00:16.059Z"
   },
   {
    "duration": 8,
    "start_time": "2022-12-29T17:00:24.849Z"
   },
   {
    "duration": 49,
    "start_time": "2022-12-29T17:01:27.831Z"
   },
   {
    "duration": 10,
    "start_time": "2022-12-29T17:01:33.141Z"
   },
   {
    "duration": 16,
    "start_time": "2022-12-29T17:01:47.085Z"
   },
   {
    "duration": 13,
    "start_time": "2022-12-29T17:02:22.756Z"
   },
   {
    "duration": 12,
    "start_time": "2022-12-29T17:02:29.410Z"
   },
   {
    "duration": 12,
    "start_time": "2022-12-29T17:03:10.848Z"
   },
   {
    "duration": 9,
    "start_time": "2022-12-29T17:03:13.006Z"
   },
   {
    "duration": 4,
    "start_time": "2022-12-29T17:04:13.515Z"
   },
   {
    "duration": 46,
    "start_time": "2022-12-29T17:04:20.241Z"
   },
   {
    "duration": 32,
    "start_time": "2022-12-29T17:04:34.614Z"
   },
   {
    "duration": 5,
    "start_time": "2022-12-29T17:04:44.579Z"
   },
   {
    "duration": 19,
    "start_time": "2022-12-29T17:05:30.103Z"
   },
   {
    "duration": 13,
    "start_time": "2022-12-29T17:06:43.899Z"
   },
   {
    "duration": 5,
    "start_time": "2022-12-29T17:06:45.584Z"
   },
   {
    "duration": 11,
    "start_time": "2022-12-29T17:06:48.084Z"
   },
   {
    "duration": 4,
    "start_time": "2022-12-29T17:06:57.042Z"
   },
   {
    "duration": 9,
    "start_time": "2022-12-29T17:08:02.335Z"
   },
   {
    "duration": 5,
    "start_time": "2022-12-29T17:08:04.508Z"
   },
   {
    "duration": 10,
    "start_time": "2022-12-29T17:08:06.005Z"
   },
   {
    "duration": 82,
    "start_time": "2022-12-29T17:09:13.801Z"
   },
   {
    "duration": 96,
    "start_time": "2022-12-29T17:09:35.522Z"
   },
   {
    "duration": 3,
    "start_time": "2022-12-29T17:09:58.028Z"
   },
   {
    "duration": 34,
    "start_time": "2022-12-29T17:09:58.033Z"
   },
   {
    "duration": 11,
    "start_time": "2022-12-29T17:09:58.068Z"
   },
   {
    "duration": 10,
    "start_time": "2022-12-29T17:09:58.081Z"
   },
   {
    "duration": 11,
    "start_time": "2022-12-29T17:09:58.092Z"
   },
   {
    "duration": 7,
    "start_time": "2022-12-29T17:09:58.105Z"
   },
   {
    "duration": 11,
    "start_time": "2022-12-29T17:09:58.114Z"
   },
   {
    "duration": 13,
    "start_time": "2022-12-29T17:09:58.127Z"
   },
   {
    "duration": 9,
    "start_time": "2022-12-29T17:09:58.143Z"
   },
   {
    "duration": 47,
    "start_time": "2022-12-29T17:09:58.154Z"
   },
   {
    "duration": 4,
    "start_time": "2022-12-29T17:09:58.202Z"
   },
   {
    "duration": 12,
    "start_time": "2022-12-29T17:09:58.207Z"
   },
   {
    "duration": 6,
    "start_time": "2022-12-29T17:09:58.221Z"
   },
   {
    "duration": 14,
    "start_time": "2022-12-29T17:09:58.228Z"
   },
   {
    "duration": 10,
    "start_time": "2022-12-29T17:09:58.243Z"
   },
   {
    "duration": 9,
    "start_time": "2022-12-29T17:09:58.254Z"
   },
   {
    "duration": 90,
    "start_time": "2022-12-29T17:10:02.084Z"
   },
   {
    "duration": 12,
    "start_time": "2022-12-29T17:10:11.610Z"
   },
   {
    "duration": 4,
    "start_time": "2022-12-29T17:10:32.562Z"
   },
   {
    "duration": 87,
    "start_time": "2022-12-29T17:10:34.235Z"
   },
   {
    "duration": 3,
    "start_time": "2022-12-29T17:10:49.609Z"
   },
   {
    "duration": 8,
    "start_time": "2022-12-29T17:10:51.000Z"
   },
   {
    "duration": 3,
    "start_time": "2022-12-29T17:10:58.716Z"
   },
   {
    "duration": 30,
    "start_time": "2022-12-29T17:10:58.721Z"
   },
   {
    "duration": 11,
    "start_time": "2022-12-29T17:10:58.752Z"
   },
   {
    "duration": 12,
    "start_time": "2022-12-29T17:10:58.765Z"
   },
   {
    "duration": 8,
    "start_time": "2022-12-29T17:10:58.779Z"
   },
   {
    "duration": 7,
    "start_time": "2022-12-29T17:10:58.788Z"
   },
   {
    "duration": 10,
    "start_time": "2022-12-29T17:10:58.797Z"
   },
   {
    "duration": 24,
    "start_time": "2022-12-29T17:10:58.808Z"
   },
   {
    "duration": 14,
    "start_time": "2022-12-29T17:10:58.834Z"
   },
   {
    "duration": 44,
    "start_time": "2022-12-29T17:10:58.850Z"
   },
   {
    "duration": 3,
    "start_time": "2022-12-29T17:10:58.896Z"
   },
   {
    "duration": 15,
    "start_time": "2022-12-29T17:10:58.900Z"
   },
   {
    "duration": 5,
    "start_time": "2022-12-29T17:10:58.918Z"
   },
   {
    "duration": 13,
    "start_time": "2022-12-29T17:10:58.924Z"
   },
   {
    "duration": 10,
    "start_time": "2022-12-29T17:10:58.938Z"
   },
   {
    "duration": 8,
    "start_time": "2022-12-29T17:10:58.949Z"
   },
   {
    "duration": 4,
    "start_time": "2022-12-29T17:11:05.250Z"
   },
   {
    "duration": 8,
    "start_time": "2022-12-29T17:11:06.745Z"
   },
   {
    "duration": 9,
    "start_time": "2022-12-29T17:11:21.676Z"
   },
   {
    "duration": 4,
    "start_time": "2022-12-29T17:11:25.326Z"
   },
   {
    "duration": 21,
    "start_time": "2022-12-29T17:11:29.105Z"
   },
   {
    "duration": 11,
    "start_time": "2022-12-29T17:11:36.582Z"
   },
   {
    "duration": 14,
    "start_time": "2022-12-29T17:11:50.147Z"
   },
   {
    "duration": 13,
    "start_time": "2022-12-29T17:13:23.489Z"
   },
   {
    "duration": 15,
    "start_time": "2022-12-29T17:13:32.288Z"
   },
   {
    "duration": 28,
    "start_time": "2022-12-29T17:13:49.748Z"
   },
   {
    "duration": 5,
    "start_time": "2022-12-29T17:14:03.531Z"
   },
   {
    "duration": 8,
    "start_time": "2022-12-29T17:17:23.516Z"
   },
   {
    "duration": 72,
    "start_time": "2022-12-29T17:17:27.195Z"
   },
   {
    "duration": 11,
    "start_time": "2022-12-29T17:17:28.746Z"
   },
   {
    "duration": 4,
    "start_time": "2022-12-29T17:17:31.105Z"
   },
   {
    "duration": 5,
    "start_time": "2022-12-29T17:17:33.368Z"
   },
   {
    "duration": 10,
    "start_time": "2022-12-29T17:29:37.357Z"
   },
   {
    "duration": 11,
    "start_time": "2022-12-29T17:34:27.908Z"
   },
   {
    "duration": 15,
    "start_time": "2022-12-29T17:34:39.314Z"
   },
   {
    "duration": 6,
    "start_time": "2022-12-29T17:36:21.454Z"
   },
   {
    "duration": 5,
    "start_time": "2022-12-29T17:36:40.992Z"
   },
   {
    "duration": 6,
    "start_time": "2022-12-29T17:36:56.784Z"
   },
   {
    "duration": 5,
    "start_time": "2022-12-29T17:38:37.114Z"
   },
   {
    "duration": 8,
    "start_time": "2022-12-29T17:41:12.209Z"
   },
   {
    "duration": 4,
    "start_time": "2022-12-29T17:41:33.916Z"
   },
   {
    "duration": 32,
    "start_time": "2022-12-29T17:41:33.922Z"
   },
   {
    "duration": 10,
    "start_time": "2022-12-29T17:41:33.955Z"
   },
   {
    "duration": 13,
    "start_time": "2022-12-29T17:41:33.967Z"
   },
   {
    "duration": 7,
    "start_time": "2022-12-29T17:41:33.982Z"
   },
   {
    "duration": 6,
    "start_time": "2022-12-29T17:41:33.991Z"
   },
   {
    "duration": 11,
    "start_time": "2022-12-29T17:41:33.998Z"
   },
   {
    "duration": 10,
    "start_time": "2022-12-29T17:41:34.030Z"
   },
   {
    "duration": 10,
    "start_time": "2022-12-29T17:41:34.042Z"
   },
   {
    "duration": 48,
    "start_time": "2022-12-29T17:41:34.054Z"
   },
   {
    "duration": 3,
    "start_time": "2022-12-29T17:41:34.103Z"
   },
   {
    "duration": 13,
    "start_time": "2022-12-29T17:41:34.108Z"
   },
   {
    "duration": 10,
    "start_time": "2022-12-29T17:41:34.123Z"
   },
   {
    "duration": 4,
    "start_time": "2022-12-29T17:41:34.135Z"
   },
   {
    "duration": 13,
    "start_time": "2022-12-29T17:41:34.140Z"
   },
   {
    "duration": 12,
    "start_time": "2022-12-29T17:41:34.155Z"
   },
   {
    "duration": 7,
    "start_time": "2022-12-29T17:41:34.169Z"
   },
   {
    "duration": 8,
    "start_time": "2022-12-29T17:41:34.178Z"
   },
   {
    "duration": 36,
    "start_time": "2022-12-29T17:41:34.187Z"
   },
   {
    "duration": 15,
    "start_time": "2022-12-29T17:41:34.224Z"
   },
   {
    "duration": 26,
    "start_time": "2022-12-29T17:41:34.241Z"
   },
   {
    "duration": 4,
    "start_time": "2022-12-29T17:41:34.268Z"
   },
   {
    "duration": 5,
    "start_time": "2022-12-29T17:41:34.274Z"
   },
   {
    "duration": 38,
    "start_time": "2022-12-29T17:41:34.281Z"
   },
   {
    "duration": 18,
    "start_time": "2022-12-29T17:41:34.321Z"
   },
   {
    "duration": 9,
    "start_time": "2022-12-29T17:41:34.340Z"
   },
   {
    "duration": 11,
    "start_time": "2022-12-29T17:41:34.350Z"
   },
   {
    "duration": 7,
    "start_time": "2022-12-29T17:41:34.362Z"
   },
   {
    "duration": 8,
    "start_time": "2022-12-29T17:41:34.370Z"
   },
   {
    "duration": 7,
    "start_time": "2022-12-29T17:41:34.379Z"
   },
   {
    "duration": 11,
    "start_time": "2022-12-29T17:41:34.387Z"
   },
   {
    "duration": 19,
    "start_time": "2022-12-29T17:41:34.399Z"
   },
   {
    "duration": 154,
    "start_time": "2022-12-29T17:41:34.420Z"
   },
   {
    "duration": 115,
    "start_time": "2022-12-29T17:41:34.575Z"
   },
   {
    "duration": 5,
    "start_time": "2022-12-29T17:41:34.692Z"
   },
   {
    "duration": 19,
    "start_time": "2022-12-29T17:41:34.699Z"
   },
   {
    "duration": 9,
    "start_time": "2022-12-29T17:41:34.719Z"
   },
   {
    "duration": 296,
    "start_time": "2022-12-29T17:41:34.729Z"
   },
   {
    "duration": 226,
    "start_time": "2022-12-29T17:41:35.027Z"
   },
   {
    "duration": 6,
    "start_time": "2022-12-29T17:41:35.255Z"
   },
   {
    "duration": 16,
    "start_time": "2022-12-29T17:41:35.262Z"
   },
   {
    "duration": 395,
    "start_time": "2022-12-29T17:41:35.280Z"
   },
   {
    "duration": 4,
    "start_time": "2022-12-29T17:41:35.677Z"
   },
   {
    "duration": 13,
    "start_time": "2022-12-29T17:41:35.683Z"
   },
   {
    "duration": 212,
    "start_time": "2022-12-29T17:41:35.698Z"
   },
   {
    "duration": 8,
    "start_time": "2022-12-29T17:41:35.912Z"
   },
   {
    "duration": 11,
    "start_time": "2022-12-29T17:41:35.922Z"
   },
   {
    "duration": 309,
    "start_time": "2022-12-29T17:41:35.934Z"
   },
   {
    "duration": 13,
    "start_time": "2022-12-29T17:41:36.246Z"
   },
   {
    "duration": 8,
    "start_time": "2022-12-29T17:41:47.021Z"
   },
   {
    "duration": 128,
    "start_time": "2022-12-29T17:42:27.120Z"
   },
   {
    "duration": 129,
    "start_time": "2022-12-29T17:42:41.158Z"
   },
   {
    "duration": 156,
    "start_time": "2022-12-29T17:43:16.350Z"
   },
   {
    "duration": 200,
    "start_time": "2022-12-29T17:44:40.363Z"
   },
   {
    "duration": 117,
    "start_time": "2022-12-29T17:44:46.779Z"
   },
   {
    "duration": 4,
    "start_time": "2022-12-29T17:45:05.514Z"
   },
   {
    "duration": 4,
    "start_time": "2022-12-29T17:56:34.874Z"
   },
   {
    "duration": 1101,
    "start_time": "2022-12-29T17:57:27.327Z"
   },
   {
    "duration": 28,
    "start_time": "2022-12-29T17:57:28.430Z"
   },
   {
    "duration": 11,
    "start_time": "2022-12-29T17:57:28.460Z"
   },
   {
    "duration": 18,
    "start_time": "2022-12-29T17:57:28.472Z"
   },
   {
    "duration": 4,
    "start_time": "2022-12-29T17:57:28.492Z"
   },
   {
    "duration": 11,
    "start_time": "2022-12-29T17:57:28.498Z"
   },
   {
    "duration": 13,
    "start_time": "2022-12-29T17:57:28.511Z"
   },
   {
    "duration": 15,
    "start_time": "2022-12-29T17:57:28.526Z"
   },
   {
    "duration": 27,
    "start_time": "2022-12-29T17:57:28.543Z"
   },
   {
    "duration": 49,
    "start_time": "2022-12-29T17:57:28.572Z"
   },
   {
    "duration": 4,
    "start_time": "2022-12-29T17:57:28.623Z"
   },
   {
    "duration": 16,
    "start_time": "2022-12-29T17:57:28.628Z"
   },
   {
    "duration": 7,
    "start_time": "2022-12-29T17:57:28.646Z"
   },
   {
    "duration": 5,
    "start_time": "2022-12-29T17:57:28.656Z"
   },
   {
    "duration": 16,
    "start_time": "2022-12-29T17:57:28.663Z"
   },
   {
    "duration": 11,
    "start_time": "2022-12-29T17:57:28.680Z"
   },
   {
    "duration": 10,
    "start_time": "2022-12-29T17:57:28.715Z"
   },
   {
    "duration": 4,
    "start_time": "2022-12-29T17:57:28.727Z"
   },
   {
    "duration": 8,
    "start_time": "2022-12-29T17:57:28.733Z"
   },
   {
    "duration": 5,
    "start_time": "2022-12-29T17:57:28.743Z"
   },
   {
    "duration": 5,
    "start_time": "2022-12-29T17:57:28.750Z"
   },
   {
    "duration": 4,
    "start_time": "2022-12-29T17:57:28.757Z"
   },
   {
    "duration": 5,
    "start_time": "2022-12-29T17:57:28.762Z"
   },
   {
    "duration": 10,
    "start_time": "2022-12-29T17:57:28.769Z"
   },
   {
    "duration": 33,
    "start_time": "2022-12-29T17:57:28.781Z"
   },
   {
    "duration": 10,
    "start_time": "2022-12-29T17:57:28.816Z"
   },
   {
    "duration": 8,
    "start_time": "2022-12-29T17:57:28.828Z"
   },
   {
    "duration": 12,
    "start_time": "2022-12-29T17:57:28.838Z"
   },
   {
    "duration": 10,
    "start_time": "2022-12-29T17:57:28.852Z"
   },
   {
    "duration": 7,
    "start_time": "2022-12-29T17:57:28.864Z"
   },
   {
    "duration": 10,
    "start_time": "2022-12-29T17:57:28.873Z"
   },
   {
    "duration": 18,
    "start_time": "2022-12-29T17:57:28.885Z"
   },
   {
    "duration": 180,
    "start_time": "2022-12-29T17:57:28.915Z"
   },
   {
    "duration": 129,
    "start_time": "2022-12-29T17:57:29.097Z"
   },
   {
    "duration": 7,
    "start_time": "2022-12-29T17:57:29.227Z"
   },
   {
    "duration": 13,
    "start_time": "2022-12-29T17:57:29.235Z"
   },
   {
    "duration": 10,
    "start_time": "2022-12-29T17:57:29.250Z"
   },
   {
    "duration": 334,
    "start_time": "2022-12-29T17:57:29.261Z"
   },
   {
    "duration": 256,
    "start_time": "2022-12-29T17:57:29.596Z"
   },
   {
    "duration": 6,
    "start_time": "2022-12-29T17:57:29.854Z"
   },
   {
    "duration": 10,
    "start_time": "2022-12-29T17:57:29.865Z"
   },
   {
    "duration": 377,
    "start_time": "2022-12-29T17:57:29.877Z"
   },
   {
    "duration": 4,
    "start_time": "2022-12-29T17:57:30.256Z"
   },
   {
    "duration": 18,
    "start_time": "2022-12-29T17:57:30.261Z"
   },
   {
    "duration": 246,
    "start_time": "2022-12-29T17:57:30.280Z"
   },
   {
    "duration": 8,
    "start_time": "2022-12-29T17:57:30.528Z"
   },
   {
    "duration": 21,
    "start_time": "2022-12-29T17:57:30.539Z"
   },
   {
    "duration": 336,
    "start_time": "2022-12-29T17:57:30.561Z"
   },
   {
    "duration": 21,
    "start_time": "2022-12-29T17:57:30.898Z"
   },
   {
    "duration": 133,
    "start_time": "2022-12-29T17:57:30.920Z"
   },
   {
    "duration": 131,
    "start_time": "2022-12-29T17:57:31.055Z"
   },
   {
    "duration": 4,
    "start_time": "2022-12-29T17:57:31.188Z"
   },
   {
    "duration": 23,
    "start_time": "2022-12-29T17:57:31.194Z"
   },
   {
    "duration": 192,
    "start_time": "2022-12-29T17:57:31.219Z"
   },
   {
    "duration": 322,
    "start_time": "2022-12-29T17:57:31.412Z"
   },
   {
    "duration": 148,
    "start_time": "2022-12-29T17:57:31.735Z"
   },
   {
    "duration": 152,
    "start_time": "2022-12-29T17:57:31.885Z"
   },
   {
    "duration": 5,
    "start_time": "2022-12-29T17:57:32.039Z"
   },
   {
    "duration": 70,
    "start_time": "2022-12-29T17:57:32.046Z"
   },
   {
    "duration": 81,
    "start_time": "2022-12-29T17:57:32.118Z"
   },
   {
    "duration": 61,
    "start_time": "2022-12-29T17:57:32.201Z"
   },
   {
    "duration": 8,
    "start_time": "2022-12-29T17:57:32.264Z"
   },
   {
    "duration": 10,
    "start_time": "2022-12-29T17:57:32.274Z"
   },
   {
    "duration": 65,
    "start_time": "2022-12-29T17:57:32.286Z"
   },
   {
    "duration": 8,
    "start_time": "2022-12-29T17:57:32.352Z"
   },
   {
    "duration": 10,
    "start_time": "2022-12-29T17:57:32.362Z"
   },
   {
    "duration": 48,
    "start_time": "2022-12-29T17:57:32.374Z"
   },
   {
    "duration": 93,
    "start_time": "2022-12-29T17:57:32.423Z"
   },
   {
    "duration": 81,
    "start_time": "2022-12-29T17:57:32.518Z"
   },
   {
    "duration": 18,
    "start_time": "2022-12-29T17:57:32.600Z"
   },
   {
    "duration": 5,
    "start_time": "2022-12-29T17:57:32.620Z"
   },
   {
    "duration": 6,
    "start_time": "2022-12-29T17:57:32.626Z"
   },
   {
    "duration": 24,
    "start_time": "2022-12-29T17:57:32.634Z"
   },
   {
    "duration": 4,
    "start_time": "2022-12-29T17:57:32.660Z"
   },
   {
    "duration": 7,
    "start_time": "2022-12-29T17:57:32.665Z"
   },
   {
    "duration": 8,
    "start_time": "2022-12-29T17:57:32.673Z"
   },
   {
    "duration": 33,
    "start_time": "2022-12-29T17:57:32.683Z"
   },
   {
    "duration": 7,
    "start_time": "2022-12-29T17:57:32.718Z"
   },
   {
    "duration": 9,
    "start_time": "2022-12-29T17:57:32.726Z"
   },
   {
    "duration": 8,
    "start_time": "2022-12-29T17:57:32.736Z"
   },
   {
    "duration": 8,
    "start_time": "2022-12-29T17:57:32.746Z"
   },
   {
    "duration": 7,
    "start_time": "2022-12-29T17:57:32.756Z"
   },
   {
    "duration": 30,
    "start_time": "2022-12-29T17:57:32.764Z"
   },
   {
    "duration": 22,
    "start_time": "2022-12-29T17:57:32.795Z"
   },
   {
    "duration": 5,
    "start_time": "2022-12-29T17:57:32.819Z"
   },
   {
    "duration": 11,
    "start_time": "2022-12-29T17:57:32.825Z"
   },
   {
    "duration": 4,
    "start_time": "2022-12-29T17:57:32.838Z"
   },
   {
    "duration": 12,
    "start_time": "2022-12-29T17:57:32.843Z"
   },
   {
    "duration": 211,
    "start_time": "2022-12-29T18:00:03.833Z"
   },
   {
    "duration": 122,
    "start_time": "2022-12-29T18:00:15.843Z"
   },
   {
    "duration": 273,
    "start_time": "2022-12-29T18:01:18.922Z"
   },
   {
    "duration": 153,
    "start_time": "2022-12-29T18:02:06.981Z"
   },
   {
    "duration": 196,
    "start_time": "2022-12-29T18:02:40.256Z"
   },
   {
    "duration": 204,
    "start_time": "2022-12-29T18:02:46.411Z"
   },
   {
    "duration": 59,
    "start_time": "2022-12-29T18:04:04.830Z"
   },
   {
    "duration": 1102,
    "start_time": "2022-12-29T18:07:27.089Z"
   },
   {
    "duration": 29,
    "start_time": "2022-12-29T18:07:28.193Z"
   },
   {
    "duration": 11,
    "start_time": "2022-12-29T18:07:28.223Z"
   },
   {
    "duration": 11,
    "start_time": "2022-12-29T18:07:28.237Z"
   },
   {
    "duration": 4,
    "start_time": "2022-12-29T18:07:28.249Z"
   },
   {
    "duration": 7,
    "start_time": "2022-12-29T18:07:28.254Z"
   },
   {
    "duration": 10,
    "start_time": "2022-12-29T18:07:28.262Z"
   },
   {
    "duration": 13,
    "start_time": "2022-12-29T18:07:28.273Z"
   },
   {
    "duration": 31,
    "start_time": "2022-12-29T18:07:28.288Z"
   },
   {
    "duration": 46,
    "start_time": "2022-12-29T18:07:28.321Z"
   },
   {
    "duration": 3,
    "start_time": "2022-12-29T18:07:28.368Z"
   },
   {
    "duration": 18,
    "start_time": "2022-12-29T18:07:28.373Z"
   },
   {
    "duration": 15,
    "start_time": "2022-12-29T18:07:28.393Z"
   },
   {
    "duration": 10,
    "start_time": "2022-12-29T18:07:28.410Z"
   },
   {
    "duration": 12,
    "start_time": "2022-12-29T18:07:28.421Z"
   },
   {
    "duration": 15,
    "start_time": "2022-12-29T18:07:28.434Z"
   },
   {
    "duration": 9,
    "start_time": "2022-12-29T18:07:28.451Z"
   },
   {
    "duration": 4,
    "start_time": "2022-12-29T18:07:28.461Z"
   },
   {
    "duration": 5,
    "start_time": "2022-12-29T18:07:28.466Z"
   },
   {
    "duration": 9,
    "start_time": "2022-12-29T18:07:28.472Z"
   },
   {
    "duration": 5,
    "start_time": "2022-12-29T18:07:28.482Z"
   },
   {
    "duration": 5,
    "start_time": "2022-12-29T18:07:28.489Z"
   },
   {
    "duration": 20,
    "start_time": "2022-12-29T18:07:28.496Z"
   },
   {
    "duration": 9,
    "start_time": "2022-12-29T18:07:28.518Z"
   },
   {
    "duration": 36,
    "start_time": "2022-12-29T18:07:28.529Z"
   },
   {
    "duration": 9,
    "start_time": "2022-12-29T18:07:28.567Z"
   },
   {
    "duration": 7,
    "start_time": "2022-12-29T18:07:28.577Z"
   },
   {
    "duration": 22,
    "start_time": "2022-12-29T18:07:28.588Z"
   },
   {
    "duration": 15,
    "start_time": "2022-12-29T18:07:28.613Z"
   },
   {
    "duration": 15,
    "start_time": "2022-12-29T18:07:28.630Z"
   },
   {
    "duration": 13,
    "start_time": "2022-12-29T18:07:28.646Z"
   },
   {
    "duration": 18,
    "start_time": "2022-12-29T18:07:28.660Z"
   },
   {
    "duration": 161,
    "start_time": "2022-12-29T18:07:28.679Z"
   },
   {
    "duration": 110,
    "start_time": "2022-12-29T18:07:28.842Z"
   },
   {
    "duration": 6,
    "start_time": "2022-12-29T18:07:28.953Z"
   },
   {
    "duration": 17,
    "start_time": "2022-12-29T18:07:28.960Z"
   },
   {
    "duration": 8,
    "start_time": "2022-12-29T18:07:28.978Z"
   },
   {
    "duration": 320,
    "start_time": "2022-12-29T18:07:28.988Z"
   },
   {
    "duration": 244,
    "start_time": "2022-12-29T18:07:29.315Z"
   },
   {
    "duration": 6,
    "start_time": "2022-12-29T18:07:29.562Z"
   },
   {
    "duration": 13,
    "start_time": "2022-12-29T18:07:29.570Z"
   },
   {
    "duration": 360,
    "start_time": "2022-12-29T18:07:29.585Z"
   },
   {
    "duration": 4,
    "start_time": "2022-12-29T18:07:29.947Z"
   },
   {
    "duration": 13,
    "start_time": "2022-12-29T18:07:29.952Z"
   },
   {
    "duration": 238,
    "start_time": "2022-12-29T18:07:29.967Z"
   },
   {
    "duration": 12,
    "start_time": "2022-12-29T18:07:30.206Z"
   },
   {
    "duration": 30,
    "start_time": "2022-12-29T18:07:30.219Z"
   },
   {
    "duration": 333,
    "start_time": "2022-12-29T18:07:30.251Z"
   },
   {
    "duration": 12,
    "start_time": "2022-12-29T18:07:30.586Z"
   },
   {
    "duration": 162,
    "start_time": "2022-12-29T18:07:30.599Z"
   },
   {
    "duration": 132,
    "start_time": "2022-12-29T18:07:30.763Z"
   },
   {
    "duration": 5,
    "start_time": "2022-12-29T18:07:30.896Z"
   },
   {
    "duration": 25,
    "start_time": "2022-12-29T18:07:30.902Z"
   },
   {
    "duration": 227,
    "start_time": "2022-12-29T18:07:30.929Z"
   },
   {
    "duration": 338,
    "start_time": "2022-12-29T18:07:31.157Z"
   },
   {
    "duration": 165,
    "start_time": "2022-12-29T18:07:31.497Z"
   },
   {
    "duration": 192,
    "start_time": "2022-12-29T18:07:31.663Z"
   },
   {
    "duration": 5,
    "start_time": "2022-12-29T18:07:31.857Z"
   },
   {
    "duration": 46,
    "start_time": "2022-12-29T18:07:31.864Z"
   },
   {
    "duration": 57,
    "start_time": "2022-12-29T18:07:31.911Z"
   },
   {
    "duration": 60,
    "start_time": "2022-12-29T18:07:31.970Z"
   },
   {
    "duration": 7,
    "start_time": "2022-12-29T18:07:32.032Z"
   },
   {
    "duration": 10,
    "start_time": "2022-12-29T18:07:32.040Z"
   },
   {
    "duration": 68,
    "start_time": "2022-12-29T18:07:32.052Z"
   },
   {
    "duration": 10,
    "start_time": "2022-12-29T18:07:32.122Z"
   },
   {
    "duration": 14,
    "start_time": "2022-12-29T18:07:32.134Z"
   },
   {
    "duration": 31,
    "start_time": "2022-12-29T18:07:32.150Z"
   },
   {
    "duration": 110,
    "start_time": "2022-12-29T18:07:32.183Z"
   },
   {
    "duration": 90,
    "start_time": "2022-12-29T18:07:32.295Z"
   },
   {
    "duration": 4,
    "start_time": "2022-12-29T18:07:32.387Z"
   },
   {
    "duration": 7,
    "start_time": "2022-12-29T18:07:32.393Z"
   },
   {
    "duration": 16,
    "start_time": "2022-12-29T18:07:32.401Z"
   },
   {
    "duration": 24,
    "start_time": "2022-12-29T18:07:32.419Z"
   },
   {
    "duration": 3,
    "start_time": "2022-12-29T18:07:32.445Z"
   },
   {
    "duration": 7,
    "start_time": "2022-12-29T18:07:32.450Z"
   },
   {
    "duration": 12,
    "start_time": "2022-12-29T18:07:32.459Z"
   },
   {
    "duration": 7,
    "start_time": "2022-12-29T18:07:32.473Z"
   },
   {
    "duration": 13,
    "start_time": "2022-12-29T18:07:32.482Z"
   },
   {
    "duration": 24,
    "start_time": "2022-12-29T18:07:32.497Z"
   },
   {
    "duration": 21,
    "start_time": "2022-12-29T18:07:32.522Z"
   },
   {
    "duration": 7,
    "start_time": "2022-12-29T18:07:32.544Z"
   },
   {
    "duration": 4,
    "start_time": "2022-12-29T18:07:32.556Z"
   },
   {
    "duration": 24,
    "start_time": "2022-12-29T18:07:32.562Z"
   },
   {
    "duration": 5,
    "start_time": "2022-12-29T18:07:32.587Z"
   },
   {
    "duration": 8,
    "start_time": "2022-12-29T18:07:32.593Z"
   },
   {
    "duration": 9,
    "start_time": "2022-12-29T18:07:32.615Z"
   },
   {
    "duration": 7,
    "start_time": "2022-12-29T18:07:32.626Z"
   },
   {
    "duration": 20,
    "start_time": "2022-12-29T18:07:32.635Z"
   },
   {
    "duration": 6,
    "start_time": "2022-12-29T18:11:23.167Z"
   },
   {
    "duration": 3,
    "start_time": "2022-12-29T18:12:01.125Z"
   },
   {
    "duration": 6,
    "start_time": "2022-12-29T18:12:11.578Z"
   },
   {
    "duration": 105,
    "start_time": "2022-12-29T18:13:03.620Z"
   },
   {
    "duration": 4,
    "start_time": "2022-12-29T18:13:06.359Z"
   },
   {
    "duration": 6,
    "start_time": "2022-12-29T18:13:07.525Z"
   },
   {
    "duration": 6,
    "start_time": "2022-12-29T18:13:10.449Z"
   },
   {
    "duration": 6,
    "start_time": "2022-12-29T18:13:12.672Z"
   },
   {
    "duration": 7,
    "start_time": "2022-12-29T18:13:16.349Z"
   },
   {
    "duration": 21,
    "start_time": "2022-12-29T18:13:18.501Z"
   },
   {
    "duration": 4,
    "start_time": "2022-12-29T18:13:19.832Z"
   },
   {
    "duration": 4,
    "start_time": "2022-12-29T18:13:23.450Z"
   },
   {
    "duration": 55,
    "start_time": "2022-12-29T18:14:04.286Z"
   },
   {
    "duration": 10,
    "start_time": "2022-12-29T18:14:11.897Z"
   },
   {
    "duration": 4,
    "start_time": "2022-12-29T18:14:13.857Z"
   },
   {
    "duration": 10,
    "start_time": "2022-12-29T18:14:16.340Z"
   },
   {
    "duration": 51,
    "start_time": "2022-12-29T18:15:18.081Z"
   },
   {
    "duration": 158,
    "start_time": "2022-12-29T18:23:10.640Z"
   },
   {
    "duration": 153,
    "start_time": "2022-12-29T18:23:23.703Z"
   },
   {
    "duration": 211,
    "start_time": "2022-12-29T18:23:31.828Z"
   },
   {
    "duration": 236,
    "start_time": "2022-12-29T18:23:41.665Z"
   },
   {
    "duration": 297,
    "start_time": "2022-12-29T18:23:48.646Z"
   },
   {
    "duration": 174,
    "start_time": "2022-12-29T18:23:54.623Z"
   },
   {
    "duration": 190,
    "start_time": "2022-12-29T18:23:58.109Z"
   },
   {
    "duration": 281,
    "start_time": "2022-12-29T18:24:04.641Z"
   },
   {
    "duration": 1159,
    "start_time": "2022-12-30T08:32:08.186Z"
   },
   {
    "duration": 30,
    "start_time": "2022-12-30T08:32:09.347Z"
   },
   {
    "duration": 13,
    "start_time": "2022-12-30T08:32:09.381Z"
   },
   {
    "duration": 19,
    "start_time": "2022-12-30T08:32:09.395Z"
   },
   {
    "duration": 15,
    "start_time": "2022-12-30T08:32:09.416Z"
   },
   {
    "duration": 13,
    "start_time": "2022-12-30T08:32:09.433Z"
   },
   {
    "duration": 20,
    "start_time": "2022-12-30T08:32:09.447Z"
   },
   {
    "duration": 27,
    "start_time": "2022-12-30T08:32:09.469Z"
   },
   {
    "duration": 26,
    "start_time": "2022-12-30T08:32:09.499Z"
   },
   {
    "duration": 63,
    "start_time": "2022-12-30T08:32:09.527Z"
   },
   {
    "duration": 3,
    "start_time": "2022-12-30T08:32:09.591Z"
   },
   {
    "duration": 17,
    "start_time": "2022-12-30T08:32:09.596Z"
   },
   {
    "duration": 14,
    "start_time": "2022-12-30T08:32:09.615Z"
   },
   {
    "duration": 14,
    "start_time": "2022-12-30T08:32:09.631Z"
   },
   {
    "duration": 55,
    "start_time": "2022-12-30T08:32:09.646Z"
   },
   {
    "duration": 15,
    "start_time": "2022-12-30T08:32:09.703Z"
   },
   {
    "duration": 18,
    "start_time": "2022-12-30T08:32:09.720Z"
   },
   {
    "duration": 5,
    "start_time": "2022-12-30T08:32:09.740Z"
   },
   {
    "duration": 11,
    "start_time": "2022-12-30T08:32:09.747Z"
   },
   {
    "duration": 10,
    "start_time": "2022-12-30T08:32:09.760Z"
   },
   {
    "duration": 16,
    "start_time": "2022-12-30T08:32:09.772Z"
   },
   {
    "duration": 19,
    "start_time": "2022-12-30T08:32:09.790Z"
   },
   {
    "duration": 19,
    "start_time": "2022-12-30T08:32:09.811Z"
   },
   {
    "duration": 14,
    "start_time": "2022-12-30T08:32:09.832Z"
   },
   {
    "duration": 41,
    "start_time": "2022-12-30T08:32:09.848Z"
   },
   {
    "duration": 32,
    "start_time": "2022-12-30T08:32:09.891Z"
   },
   {
    "duration": 28,
    "start_time": "2022-12-30T08:32:09.927Z"
   },
   {
    "duration": 41,
    "start_time": "2022-12-30T08:32:09.957Z"
   },
   {
    "duration": 49,
    "start_time": "2022-12-30T08:32:10.000Z"
   },
   {
    "duration": 49,
    "start_time": "2022-12-30T08:32:10.050Z"
   },
   {
    "duration": 50,
    "start_time": "2022-12-30T08:32:10.101Z"
   },
   {
    "duration": 30,
    "start_time": "2022-12-30T08:32:10.153Z"
   },
   {
    "duration": 194,
    "start_time": "2022-12-30T08:32:10.185Z"
   },
   {
    "duration": 133,
    "start_time": "2022-12-30T08:32:10.381Z"
   },
   {
    "duration": 6,
    "start_time": "2022-12-30T08:32:10.516Z"
   },
   {
    "duration": 27,
    "start_time": "2022-12-30T08:32:10.536Z"
   },
   {
    "duration": 48,
    "start_time": "2022-12-30T08:32:10.564Z"
   },
   {
    "duration": 361,
    "start_time": "2022-12-30T08:32:10.614Z"
   },
   {
    "duration": 273,
    "start_time": "2022-12-30T08:32:10.978Z"
   },
   {
    "duration": 9,
    "start_time": "2022-12-30T08:32:11.253Z"
   },
   {
    "duration": 38,
    "start_time": "2022-12-30T08:32:11.264Z"
   },
   {
    "duration": 373,
    "start_time": "2022-12-30T08:32:11.304Z"
   },
   {
    "duration": 4,
    "start_time": "2022-12-30T08:32:11.679Z"
   },
   {
    "duration": 22,
    "start_time": "2022-12-30T08:32:11.684Z"
   },
   {
    "duration": 259,
    "start_time": "2022-12-30T08:32:11.708Z"
   },
   {
    "duration": 8,
    "start_time": "2022-12-30T08:32:11.969Z"
   },
   {
    "duration": 28,
    "start_time": "2022-12-30T08:32:11.979Z"
   },
   {
    "duration": 362,
    "start_time": "2022-12-30T08:32:12.009Z"
   },
   {
    "duration": 14,
    "start_time": "2022-12-30T08:32:12.374Z"
   },
   {
    "duration": 242,
    "start_time": "2022-12-30T08:32:12.391Z"
   },
   {
    "duration": 183,
    "start_time": "2022-12-30T08:32:12.635Z"
   },
   {
    "duration": 17,
    "start_time": "2022-12-30T08:32:12.820Z"
   },
   {
    "duration": 22,
    "start_time": "2022-12-30T08:32:12.839Z"
   },
   {
    "duration": 267,
    "start_time": "2022-12-30T08:32:12.863Z"
   },
   {
    "duration": 403,
    "start_time": "2022-12-30T08:32:13.132Z"
   },
   {
    "duration": 200,
    "start_time": "2022-12-30T08:32:13.537Z"
   },
   {
    "duration": 219,
    "start_time": "2022-12-30T08:32:13.739Z"
   },
   {
    "duration": 6,
    "start_time": "2022-12-30T08:32:13.959Z"
   },
   {
    "duration": 78,
    "start_time": "2022-12-30T08:32:13.966Z"
   },
   {
    "duration": 69,
    "start_time": "2022-12-30T08:32:14.046Z"
   },
   {
    "duration": 76,
    "start_time": "2022-12-30T08:32:14.117Z"
   },
   {
    "duration": 7,
    "start_time": "2022-12-30T08:32:14.195Z"
   },
   {
    "duration": 26,
    "start_time": "2022-12-30T08:32:14.204Z"
   },
   {
    "duration": 75,
    "start_time": "2022-12-30T08:32:14.231Z"
   },
   {
    "duration": 7,
    "start_time": "2022-12-30T08:32:14.308Z"
   },
   {
    "duration": 14,
    "start_time": "2022-12-30T08:32:14.316Z"
   },
   {
    "duration": 47,
    "start_time": "2022-12-30T08:32:14.332Z"
   },
   {
    "duration": 87,
    "start_time": "2022-12-30T08:32:14.380Z"
   },
   {
    "duration": 100,
    "start_time": "2022-12-30T08:32:14.468Z"
   },
   {
    "duration": 26,
    "start_time": "2022-12-30T08:32:14.570Z"
   },
   {
    "duration": 11,
    "start_time": "2022-12-30T08:32:14.598Z"
   },
   {
    "duration": 22,
    "start_time": "2022-12-30T08:32:14.611Z"
   },
   {
    "duration": 47,
    "start_time": "2022-12-30T08:32:14.635Z"
   },
   {
    "duration": 5,
    "start_time": "2022-12-30T08:32:14.683Z"
   },
   {
    "duration": 26,
    "start_time": "2022-12-30T08:32:14.689Z"
   },
   {
    "duration": 36,
    "start_time": "2022-12-30T08:32:14.717Z"
   },
   {
    "duration": 13,
    "start_time": "2022-12-30T08:32:14.755Z"
   },
   {
    "duration": 24,
    "start_time": "2022-12-30T08:32:14.770Z"
   },
   {
    "duration": 18,
    "start_time": "2022-12-30T08:32:14.796Z"
   },
   {
    "duration": 28,
    "start_time": "2022-12-30T08:32:14.816Z"
   },
   {
    "duration": 26,
    "start_time": "2022-12-30T08:32:14.849Z"
   },
   {
    "duration": 16,
    "start_time": "2022-12-30T08:32:14.876Z"
   },
   {
    "duration": 30,
    "start_time": "2022-12-30T08:32:14.894Z"
   },
   {
    "duration": 35,
    "start_time": "2022-12-30T08:32:14.926Z"
   },
   {
    "duration": 5,
    "start_time": "2022-12-30T08:32:14.963Z"
   },
   {
    "duration": 23,
    "start_time": "2022-12-30T08:32:14.970Z"
   },
   {
    "duration": 61,
    "start_time": "2022-12-30T08:32:14.995Z"
   },
   {
    "duration": 20,
    "start_time": "2022-12-30T08:32:15.058Z"
   },
   {
    "duration": 25,
    "start_time": "2022-12-30T08:32:15.080Z"
   }
  ],
  "kernelspec": {
   "display_name": "Python 3 (ipykernel)",
   "language": "python",
   "name": "python3"
  },
  "language_info": {
   "codemirror_mode": {
    "name": "ipython",
    "version": 3
   },
   "file_extension": ".py",
   "mimetype": "text/x-python",
   "name": "python",
   "nbconvert_exporter": "python",
   "pygments_lexer": "ipython3",
   "version": "3.9.7"
  },
  "toc": {
   "base_numbering": 1,
   "nav_menu": {},
   "number_sections": true,
   "sideBar": true,
   "skip_h1_title": true,
   "title_cell": "Table of Contents",
   "title_sidebar": "Contents",
   "toc_cell": false,
   "toc_position": {
    "height": "calc(100% - 180px)",
    "left": "10px",
    "top": "150px",
    "width": "323.55px"
   },
   "toc_section_display": true,
   "toc_window_display": true
  }
 },
 "nbformat": 4,
 "nbformat_minor": 2
}
